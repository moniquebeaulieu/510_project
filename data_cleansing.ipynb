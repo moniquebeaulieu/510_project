{
  "nbformat": 4,
  "nbformat_minor": 0,
  "metadata": {
    "colab": {
      "provenance": [],
      "authorship_tag": "ABX9TyMKLBF/n/CHmsp3CJRP9b43",
      "include_colab_link": true
    },
    "kernelspec": {
      "name": "python3",
      "display_name": "Python 3"
    },
    "language_info": {
      "name": "python"
    }
  },
  "cells": [
    {
      "cell_type": "markdown",
      "metadata": {
        "id": "view-in-github",
        "colab_type": "text"
      },
      "source": [
        "<a href=\"https://colab.research.google.com/github/moniquebeaulieu/510_project/blob/main/data_cleansing.ipynb\" target=\"_parent\"><img src=\"https://colab.research.google.com/assets/colab-badge.svg\" alt=\"Open In Colab\"/></a>"
      ]
    },
    {
      "cell_type": "code",
      "execution_count": null,
      "metadata": {
        "id": "3K_Mu8y44Tf4"
      },
      "outputs": [],
      "source": [
        "## this is a test to set up repository"
      ]
    },
    {
      "cell_type": "code",
      "source": [
        "## this is another test"
      ],
      "metadata": {
        "id": "5M9omQvt47yD"
      },
      "execution_count": null,
      "outputs": []
    },
    {
      "cell_type": "code",
      "source": [
        "# how to add kaggle data sets to colab\n",
        "# https://medium.com/analytics-vidhya/how-to-download-kaggle-datasets-into-google-colab-via-google-drive-dcb348d7af07"
      ],
      "metadata": {
        "id": "8W4eNKR84945"
      },
      "execution_count": null,
      "outputs": []
    }
  ]
}