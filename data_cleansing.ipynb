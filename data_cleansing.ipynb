{
  "nbformat": 4,
  "nbformat_minor": 0,
  "metadata": {
    "colab": {
      "provenance": [],
      "collapsed_sections": [],
      "authorship_tag": "ABX9TyM4p7vNNNhvNJp2jX1hVnF5",
      "include_colab_link": true
    },
    "kernelspec": {
      "name": "python3",
      "display_name": "Python 3"
    },
    "language_info": {
      "name": "python"
    }
  },
  "cells": [
    {
      "cell_type": "markdown",
      "metadata": {
        "id": "view-in-github",
        "colab_type": "text"
      },
      "source": [
        "<a href=\"https://colab.research.google.com/github/moniquebeaulieu/510_project/blob/main/data_cleansing.ipynb\" target=\"_parent\"><img src=\"https://colab.research.google.com/assets/colab-badge.svg\" alt=\"Open In Colab\"/></a>"
      ]
    },
    {
      "cell_type": "markdown",
      "source": [
        "## Data cleansing and Preprocessing"
      ],
      "metadata": {
        "id": "HDQMmvJRL6kU"
      }
    },
    {
      "cell_type": "markdown",
      "source": [
        "# Downloading Data From Kaggle"
      ],
      "metadata": {
        "id": "Z3goW2Y31WgK"
      }
    },
    {
      "cell_type": "code",
      "source": [
        "# how to add kaggle data sets to colab\n",
        "# https://medium.com/analytics-vidhya/how-to-download-kaggle-datasets-into-google-colab-via-google-drive-dcb348d7af07\n",
        "\n",
        "# mounting google drive\n",
        "from google.colab import drive\n",
        "drive.mount('/content/drive', force_remount=True)"
      ],
      "metadata": {
        "id": "8W4eNKR84945",
        "colab": {
          "base_uri": "https://localhost:8080/"
        },
        "outputId": "831484b0-3b6e-4e26-8ec4-1f2283efff62"
      },
      "execution_count": 84,
      "outputs": [
        {
          "output_type": "stream",
          "name": "stdout",
          "text": [
            "Mounted at /content/drive\n"
          ]
        }
      ]
    },
    {
      "cell_type": "code",
      "source": [
        "# setting working directory to Kaggle\n",
        "import os\n",
        "os.environ['KAGGLE_CONFIG_DIR'] = \"/content/drive/MyDrive/Kaggle\""
      ],
      "metadata": {
        "id": "bS68tWiVnd0Y"
      },
      "execution_count": 85,
      "outputs": []
    },
    {
      "cell_type": "code",
      "source": [
        "# downloading API command\n",
        "!kaggle datasets download -d icsdataset/hai-security-dataset --force --unzip"
      ],
      "metadata": {
        "colab": {
          "base_uri": "https://localhost:8080/"
        },
        "id": "N-9pEfuurpgR",
        "outputId": "7a62d0d4-2d3d-45f0-e380-beb97d967c75"
      },
      "execution_count": 86,
      "outputs": [
        {
          "output_type": "stream",
          "name": "stdout",
          "text": [
            "Downloading hai-security-dataset.zip to /content\n",
            " 96% 448M/465M [00:01<00:00, 242MB/s]\n",
            "100% 465M/465M [00:01<00:00, 252MB/s]\n"
          ]
        }
      ]
    },
    {
      "cell_type": "code",
      "source": [
        "%ls"
      ],
      "metadata": {
        "colab": {
          "base_uri": "https://localhost:8080/"
        },
        "id": "E3mqiDih1PuA",
        "outputId": "0251489a-83e9-497f-f1c7-834a0b149e07"
      },
      "execution_count": 87,
      "outputs": [
        {
          "output_type": "stream",
          "name": "stdout",
          "text": [
            "\u001b[0m\u001b[01;34mdrive\u001b[0m/      \u001b[01;34mhai-21.03\u001b[0m/  hai_dataset_technical_details_v3.0.pdf\n",
            "\u001b[01;34mhai-20.07\u001b[0m/  \u001b[01;34mhai-22.04\u001b[0m/  \u001b[01;34msample_data\u001b[0m/\n"
          ]
        }
      ]
    },
    {
      "cell_type": "markdown",
      "source": [
        "Following code is a similar structure to code found here https://dacon.io/en/competitions/official/235757/codeshare/3652?page=1&dtype=recent"
      ],
      "metadata": {
        "id": "vYGsSLAAFZ3j"
      }
    },
    {
      "cell_type": "markdown",
      "source": [
        "# Import libraries"
      ],
      "metadata": {
        "id": "jJa5VhqgLfd3"
      }
    },
    {
      "cell_type": "code",
      "source": [
        "import sys\n",
        "from pathlib import Path\n",
        "from datetime import timedelta\n",
        "import dateutil\n",
        "import numpy as np\n",
        "import matplotlib.pyplot as plt\n",
        "import pandas as pd\n",
        "import torch"
      ],
      "metadata": {
        "id": "OaUYpO8WAvk2"
      },
      "execution_count": 88,
      "outputs": []
    },
    {
      "cell_type": "markdown",
      "source": [
        "# Utility functions"
      ],
      "metadata": {
        "id": "slZSxjAvLcOz"
      }
    },
    {
      "cell_type": "code",
      "source": [
        "def dataframe_from_csv(target):\n",
        "    return pd.read_csv(target).rename(columns=lambda x: x.strip())\n",
        "\n",
        "def dataframe_from_csvs(targets):\n",
        "    return pd.concat([x for x in targets])"
      ],
      "metadata": {
        "id": "LMYYsE8yArI9"
      },
      "execution_count": 89,
      "outputs": []
    },
    {
      "cell_type": "markdown",
      "source": [
        "# Dataframe preparation"
      ],
      "metadata": {
        "id": "AObC23EXLp7P"
      }
    },
    {
      "cell_type": "code",
      "source": [
        "# downloading each train csv (differnt csv b/c taken in different time periods)\n",
        "\n",
        "train1_raw = dataframe_from_csv(\"/content/hai-22.04/train1.csv\") \n",
        "train2_raw = dataframe_from_csv(\"/content/hai-22.04/train2.csv\") \n",
        "train3_raw = dataframe_from_csv(\"/content/hai-22.04/train3.csv\") \n",
        "train4_raw = dataframe_from_csv(\"/content/hai-22.04/train4.csv\") \n",
        "train5_raw = dataframe_from_csv(\"/content/hai-22.04/train5.csv\") \n",
        "train6_raw = dataframe_from_csv(\"/content/hai-22.04/train6.csv\") "
      ],
      "metadata": {
        "id": "1PI1O8X7AhpR"
      },
      "execution_count": 90,
      "outputs": []
    },
    {
      "cell_type": "code",
      "source": [
        "# concatenating all train data\n",
        "\n",
        "train = [train1_raw, train2_raw, train3_raw, train4_raw, train5_raw, train6_raw]\n",
        "train_df_raw = dataframe_from_csvs(train)\n",
        "train_df_raw.shape"
      ],
      "metadata": {
        "colab": {
          "base_uri": "https://localhost:8080/"
        },
        "id": "l5TS5U5SKoc5",
        "outputId": "30d04e5b-c1d7-46ea-ebe6-1adadc70e53b"
      },
      "execution_count": 131,
      "outputs": [
        {
          "output_type": "execute_result",
          "data": {
            "text/plain": [
              "(1004402, 88)"
            ]
          },
          "metadata": {},
          "execution_count": 131
        }
      ]
    },
    {
      "cell_type": "code",
      "source": [
        "train_df_raw.dtypes "
      ],
      "metadata": {
        "colab": {
          "base_uri": "https://localhost:8080/"
        },
        "id": "t3m8xxhpDWNg",
        "outputId": "13233d19-d8f3-4e76-c5f6-fba35661161b"
      },
      "execution_count": 92,
      "outputs": [
        {
          "output_type": "execute_result",
          "data": {
            "text/plain": [
              "timestamp      object\n",
              "P1_B2004      float64\n",
              "P1_B2016      float64\n",
              "P1_B3004      float64\n",
              "P1_B3005      float64\n",
              "               ...   \n",
              "P4_ST_PO      float64\n",
              "P4_ST_PS      float64\n",
              "P4_ST_PT01      int64\n",
              "P4_ST_TT01      int64\n",
              "Attack          int64\n",
              "Length: 88, dtype: object"
            ]
          },
          "metadata": {},
          "execution_count": 92
        }
      ]
    },
    {
      "cell_type": "code",
      "source": [
        "train_df_raw.head(3)"
      ],
      "metadata": {
        "colab": {
          "base_uri": "https://localhost:8080/",
          "height": 173
        },
        "id": "cW4snQnzONIU",
        "outputId": "a0c84032-20c3-4bc0-f417-063432c1ac58"
      },
      "execution_count": 93,
      "outputs": [
        {
          "output_type": "execute_result",
          "data": {
            "text/plain": [
              "             timestamp  P1_B2004  P1_B2016   P1_B3004    P1_B3005  P1_B4002  \\\n",
              "0  2021-07-11 10:00:00   0.08771   0.88504  476.76703  1014.79321  26.92264   \n",
              "1  2021-07-11 10:00:01   0.08771   0.88619  476.76703  1014.79321  26.92264   \n",
              "2  2021-07-11 10:00:02   0.08771   0.88836  476.76703  1014.79321  26.92264   \n",
              "\n",
              "   P1_B4005   P1_B400B  P1_B4022  P1_FCV01D  ...  P4_HT_PS      P4_LD  \\\n",
              "0  15.07713  595.06104  30.08042   15.50464  ...   7.08818  276.40338   \n",
              "1  14.97197  531.50317  30.08423   16.20023  ...   7.08818  276.18634   \n",
              "2  14.90129  451.06253  30.09148   16.53352  ...   7.08818  279.85754   \n",
              "\n",
              "   P4_ST_FD  P4_ST_GOV   P4_ST_LD   P4_ST_PO  P4_ST_PS  P4_ST_PT01  \\\n",
              "0  -0.00087      14742  276.45758  267.90363   8.90254        9914   \n",
              "1   0.00058      14781  278.91705  268.95258   8.90254        9914   \n",
              "2  -0.00072      14831  278.89899  269.76636   8.90254        9914   \n",
              "\n",
              "   P4_ST_TT01  Attack  \n",
              "0       27170       0  \n",
              "1       27171       0  \n",
              "2       27170       0  \n",
              "\n",
              "[3 rows x 88 columns]"
            ],
            "text/html": [
              "\n",
              "  <div id=\"df-83fa2b19-4203-4575-9908-debe406a2f42\">\n",
              "    <div class=\"colab-df-container\">\n",
              "      <div>\n",
              "<style scoped>\n",
              "    .dataframe tbody tr th:only-of-type {\n",
              "        vertical-align: middle;\n",
              "    }\n",
              "\n",
              "    .dataframe tbody tr th {\n",
              "        vertical-align: top;\n",
              "    }\n",
              "\n",
              "    .dataframe thead th {\n",
              "        text-align: right;\n",
              "    }\n",
              "</style>\n",
              "<table border=\"1\" class=\"dataframe\">\n",
              "  <thead>\n",
              "    <tr style=\"text-align: right;\">\n",
              "      <th></th>\n",
              "      <th>timestamp</th>\n",
              "      <th>P1_B2004</th>\n",
              "      <th>P1_B2016</th>\n",
              "      <th>P1_B3004</th>\n",
              "      <th>P1_B3005</th>\n",
              "      <th>P1_B4002</th>\n",
              "      <th>P1_B4005</th>\n",
              "      <th>P1_B400B</th>\n",
              "      <th>P1_B4022</th>\n",
              "      <th>P1_FCV01D</th>\n",
              "      <th>...</th>\n",
              "      <th>P4_HT_PS</th>\n",
              "      <th>P4_LD</th>\n",
              "      <th>P4_ST_FD</th>\n",
              "      <th>P4_ST_GOV</th>\n",
              "      <th>P4_ST_LD</th>\n",
              "      <th>P4_ST_PO</th>\n",
              "      <th>P4_ST_PS</th>\n",
              "      <th>P4_ST_PT01</th>\n",
              "      <th>P4_ST_TT01</th>\n",
              "      <th>Attack</th>\n",
              "    </tr>\n",
              "  </thead>\n",
              "  <tbody>\n",
              "    <tr>\n",
              "      <th>0</th>\n",
              "      <td>2021-07-11 10:00:00</td>\n",
              "      <td>0.08771</td>\n",
              "      <td>0.88504</td>\n",
              "      <td>476.76703</td>\n",
              "      <td>1014.79321</td>\n",
              "      <td>26.92264</td>\n",
              "      <td>15.07713</td>\n",
              "      <td>595.06104</td>\n",
              "      <td>30.08042</td>\n",
              "      <td>15.50464</td>\n",
              "      <td>...</td>\n",
              "      <td>7.08818</td>\n",
              "      <td>276.40338</td>\n",
              "      <td>-0.00087</td>\n",
              "      <td>14742</td>\n",
              "      <td>276.45758</td>\n",
              "      <td>267.90363</td>\n",
              "      <td>8.90254</td>\n",
              "      <td>9914</td>\n",
              "      <td>27170</td>\n",
              "      <td>0</td>\n",
              "    </tr>\n",
              "    <tr>\n",
              "      <th>1</th>\n",
              "      <td>2021-07-11 10:00:01</td>\n",
              "      <td>0.08771</td>\n",
              "      <td>0.88619</td>\n",
              "      <td>476.76703</td>\n",
              "      <td>1014.79321</td>\n",
              "      <td>26.92264</td>\n",
              "      <td>14.97197</td>\n",
              "      <td>531.50317</td>\n",
              "      <td>30.08423</td>\n",
              "      <td>16.20023</td>\n",
              "      <td>...</td>\n",
              "      <td>7.08818</td>\n",
              "      <td>276.18634</td>\n",
              "      <td>0.00058</td>\n",
              "      <td>14781</td>\n",
              "      <td>278.91705</td>\n",
              "      <td>268.95258</td>\n",
              "      <td>8.90254</td>\n",
              "      <td>9914</td>\n",
              "      <td>27171</td>\n",
              "      <td>0</td>\n",
              "    </tr>\n",
              "    <tr>\n",
              "      <th>2</th>\n",
              "      <td>2021-07-11 10:00:02</td>\n",
              "      <td>0.08771</td>\n",
              "      <td>0.88836</td>\n",
              "      <td>476.76703</td>\n",
              "      <td>1014.79321</td>\n",
              "      <td>26.92264</td>\n",
              "      <td>14.90129</td>\n",
              "      <td>451.06253</td>\n",
              "      <td>30.09148</td>\n",
              "      <td>16.53352</td>\n",
              "      <td>...</td>\n",
              "      <td>7.08818</td>\n",
              "      <td>279.85754</td>\n",
              "      <td>-0.00072</td>\n",
              "      <td>14831</td>\n",
              "      <td>278.89899</td>\n",
              "      <td>269.76636</td>\n",
              "      <td>8.90254</td>\n",
              "      <td>9914</td>\n",
              "      <td>27170</td>\n",
              "      <td>0</td>\n",
              "    </tr>\n",
              "  </tbody>\n",
              "</table>\n",
              "<p>3 rows × 88 columns</p>\n",
              "</div>\n",
              "      <button class=\"colab-df-convert\" onclick=\"convertToInteractive('df-83fa2b19-4203-4575-9908-debe406a2f42')\"\n",
              "              title=\"Convert this dataframe to an interactive table.\"\n",
              "              style=\"display:none;\">\n",
              "        \n",
              "  <svg xmlns=\"http://www.w3.org/2000/svg\" height=\"24px\"viewBox=\"0 0 24 24\"\n",
              "       width=\"24px\">\n",
              "    <path d=\"M0 0h24v24H0V0z\" fill=\"none\"/>\n",
              "    <path d=\"M18.56 5.44l.94 2.06.94-2.06 2.06-.94-2.06-.94-.94-2.06-.94 2.06-2.06.94zm-11 1L8.5 8.5l.94-2.06 2.06-.94-2.06-.94L8.5 2.5l-.94 2.06-2.06.94zm10 10l.94 2.06.94-2.06 2.06-.94-2.06-.94-.94-2.06-.94 2.06-2.06.94z\"/><path d=\"M17.41 7.96l-1.37-1.37c-.4-.4-.92-.59-1.43-.59-.52 0-1.04.2-1.43.59L10.3 9.45l-7.72 7.72c-.78.78-.78 2.05 0 2.83L4 21.41c.39.39.9.59 1.41.59.51 0 1.02-.2 1.41-.59l7.78-7.78 2.81-2.81c.8-.78.8-2.07 0-2.86zM5.41 20L4 18.59l7.72-7.72 1.47 1.35L5.41 20z\"/>\n",
              "  </svg>\n",
              "      </button>\n",
              "      \n",
              "  <style>\n",
              "    .colab-df-container {\n",
              "      display:flex;\n",
              "      flex-wrap:wrap;\n",
              "      gap: 12px;\n",
              "    }\n",
              "\n",
              "    .colab-df-convert {\n",
              "      background-color: #E8F0FE;\n",
              "      border: none;\n",
              "      border-radius: 50%;\n",
              "      cursor: pointer;\n",
              "      display: none;\n",
              "      fill: #1967D2;\n",
              "      height: 32px;\n",
              "      padding: 0 0 0 0;\n",
              "      width: 32px;\n",
              "    }\n",
              "\n",
              "    .colab-df-convert:hover {\n",
              "      background-color: #E2EBFA;\n",
              "      box-shadow: 0px 1px 2px rgba(60, 64, 67, 0.3), 0px 1px 3px 1px rgba(60, 64, 67, 0.15);\n",
              "      fill: #174EA6;\n",
              "    }\n",
              "\n",
              "    [theme=dark] .colab-df-convert {\n",
              "      background-color: #3B4455;\n",
              "      fill: #D2E3FC;\n",
              "    }\n",
              "\n",
              "    [theme=dark] .colab-df-convert:hover {\n",
              "      background-color: #434B5C;\n",
              "      box-shadow: 0px 1px 3px 1px rgba(0, 0, 0, 0.15);\n",
              "      filter: drop-shadow(0px 1px 2px rgba(0, 0, 0, 0.3));\n",
              "      fill: #FFFFFF;\n",
              "    }\n",
              "  </style>\n",
              "\n",
              "      <script>\n",
              "        const buttonEl =\n",
              "          document.querySelector('#df-83fa2b19-4203-4575-9908-debe406a2f42 button.colab-df-convert');\n",
              "        buttonEl.style.display =\n",
              "          google.colab.kernel.accessAllowed ? 'block' : 'none';\n",
              "\n",
              "        async function convertToInteractive(key) {\n",
              "          const element = document.querySelector('#df-83fa2b19-4203-4575-9908-debe406a2f42');\n",
              "          const dataTable =\n",
              "            await google.colab.kernel.invokeFunction('convertToInteractive',\n",
              "                                                     [key], {});\n",
              "          if (!dataTable) return;\n",
              "\n",
              "          const docLinkHtml = 'Like what you see? Visit the ' +\n",
              "            '<a target=\"_blank\" href=https://colab.research.google.com/notebooks/data_table.ipynb>data table notebook</a>'\n",
              "            + ' to learn more about interactive tables.';\n",
              "          element.innerHTML = '';\n",
              "          dataTable['output_type'] = 'display_data';\n",
              "          await google.colab.output.renderOutput(dataTable, element);\n",
              "          const docLink = document.createElement('div');\n",
              "          docLink.innerHTML = docLinkHtml;\n",
              "          element.appendChild(docLink);\n",
              "        }\n",
              "      </script>\n",
              "    </div>\n",
              "  </div>\n",
              "  "
            ]
          },
          "metadata": {},
          "execution_count": 93
        }
      ]
    },
    {
      "cell_type": "code",
      "source": [
        "train_df_raw.Attack.unique() # Train data has no attacks which is what we want. can drop attack column"
      ],
      "metadata": {
        "id": "IzONOM5io_nV",
        "outputId": "56752d4f-d307-4b0e-8082-d3385d085b4c",
        "colab": {
          "base_uri": "https://localhost:8080/"
        }
      },
      "execution_count": 94,
      "outputs": [
        {
          "output_type": "execute_result",
          "data": {
            "text/plain": [
              "array([0])"
            ]
          },
          "metadata": {},
          "execution_count": 94
        }
      ]
    },
    {
      "cell_type": "code",
      "source": [
        "# downloading each test csv (differnt csv b/c taken in different time periods) NOTE: train and test data have been pre-split in this public dataset\n",
        "\n",
        "test1_raw = dataframe_from_csv(\"/content/hai-22.04/test1.csv\") \n",
        "test2_raw = dataframe_from_csv(\"/content/hai-22.04/test2.csv\") \n",
        "test3_raw = dataframe_from_csv(\"/content/hai-22.04/test3.csv\") \n",
        "test4_raw = dataframe_from_csv(\"/content/hai-22.04/test4.csv\") "
      ],
      "metadata": {
        "id": "zHIZ35iaHDvI"
      },
      "execution_count": 95,
      "outputs": []
    },
    {
      "cell_type": "code",
      "source": [
        "# concatenating all test data\n",
        "\n",
        "test = [test1_raw, test2_raw, test3_raw, test4_raw]\n",
        "test_df_raw = dataframe_from_csvs(test)\n",
        "test_df_raw.shape"
      ],
      "metadata": {
        "colab": {
          "base_uri": "https://localhost:8080/"
        },
        "id": "Hsn98PCnMgQF",
        "outputId": "90fa3838-9fb9-4314-e1f2-d03febb9183f"
      },
      "execution_count": 132,
      "outputs": [
        {
          "output_type": "execute_result",
          "data": {
            "text/plain": [
              "(361200, 88)"
            ]
          },
          "metadata": {},
          "execution_count": 132
        }
      ]
    },
    {
      "cell_type": "code",
      "source": [
        "test_df_raw.dtypes"
      ],
      "metadata": {
        "colab": {
          "base_uri": "https://localhost:8080/"
        },
        "id": "yXFr5snUIJNd",
        "outputId": "c15cf878-23ca-4068-b299-1f57acacfe67"
      },
      "execution_count": 97,
      "outputs": [
        {
          "output_type": "execute_result",
          "data": {
            "text/plain": [
              "timestamp      object\n",
              "P1_B2004      float64\n",
              "P1_B2016      float64\n",
              "P1_B3004      float64\n",
              "P1_B3005      float64\n",
              "               ...   \n",
              "P4_ST_PO      float64\n",
              "P4_ST_PS      float64\n",
              "P4_ST_PT01      int64\n",
              "P4_ST_TT01      int64\n",
              "Attack          int64\n",
              "Length: 88, dtype: object"
            ]
          },
          "metadata": {},
          "execution_count": 97
        }
      ]
    },
    {
      "cell_type": "code",
      "source": [
        "test_df_raw.head(3)"
      ],
      "metadata": {
        "colab": {
          "base_uri": "https://localhost:8080/",
          "height": 173
        },
        "id": "2ELEg6a0BPW6",
        "outputId": "62d2cf17-6b30-49af-ec3f-a37c54c93253"
      },
      "execution_count": 98,
      "outputs": [
        {
          "output_type": "execute_result",
          "data": {
            "text/plain": [
              "             timestamp  P1_B2004  P1_B2016    P1_B3004     P1_B3005  \\\n",
              "0  2021-07-10 00:00:01  0.059445   1.04366  431.328095  1034.712769   \n",
              "1  2021-07-10 00:00:02  0.059445   1.04217  431.328095  1034.712769   \n",
              "2  2021-07-10 00:00:03  0.059445   1.03920  431.328095  1034.712769   \n",
              "\n",
              "    P1_B4002  P1_B4005   P1_B400B  P1_B4022  P1_FCV01D  ...  P4_HT_PS  \\\n",
              "0  27.736847   14.9131  386.51172  31.52100   15.09755  ...  0.716042   \n",
              "1  27.736847   14.9554  411.33905  31.51756   14.71477  ...  0.716042   \n",
              "2  27.736847   14.9920  438.15259  31.50269   14.30731  ...  0.716042   \n",
              "\n",
              "       P4_LD  P4_ST_FD  P4_ST_GOV   P4_ST_LD   P4_ST_PO   P4_ST_PS  \\\n",
              "0  356.64423   0.00058      18131  292.86029  334.58112  20.989594   \n",
              "1  352.08698  -0.00282      18111  295.82605  332.97162  20.989594   \n",
              "2  347.63818  -0.00398      18100  300.02173  332.15784  20.989594   \n",
              "\n",
              "   P4_ST_PT01  P4_ST_TT01  Attack  \n",
              "0       10000       27181       0  \n",
              "1        9999       27174       0  \n",
              "2        9999       27172       0  \n",
              "\n",
              "[3 rows x 88 columns]"
            ],
            "text/html": [
              "\n",
              "  <div id=\"df-a3e51683-0c56-488a-bba7-18d2ceb2a414\">\n",
              "    <div class=\"colab-df-container\">\n",
              "      <div>\n",
              "<style scoped>\n",
              "    .dataframe tbody tr th:only-of-type {\n",
              "        vertical-align: middle;\n",
              "    }\n",
              "\n",
              "    .dataframe tbody tr th {\n",
              "        vertical-align: top;\n",
              "    }\n",
              "\n",
              "    .dataframe thead th {\n",
              "        text-align: right;\n",
              "    }\n",
              "</style>\n",
              "<table border=\"1\" class=\"dataframe\">\n",
              "  <thead>\n",
              "    <tr style=\"text-align: right;\">\n",
              "      <th></th>\n",
              "      <th>timestamp</th>\n",
              "      <th>P1_B2004</th>\n",
              "      <th>P1_B2016</th>\n",
              "      <th>P1_B3004</th>\n",
              "      <th>P1_B3005</th>\n",
              "      <th>P1_B4002</th>\n",
              "      <th>P1_B4005</th>\n",
              "      <th>P1_B400B</th>\n",
              "      <th>P1_B4022</th>\n",
              "      <th>P1_FCV01D</th>\n",
              "      <th>...</th>\n",
              "      <th>P4_HT_PS</th>\n",
              "      <th>P4_LD</th>\n",
              "      <th>P4_ST_FD</th>\n",
              "      <th>P4_ST_GOV</th>\n",
              "      <th>P4_ST_LD</th>\n",
              "      <th>P4_ST_PO</th>\n",
              "      <th>P4_ST_PS</th>\n",
              "      <th>P4_ST_PT01</th>\n",
              "      <th>P4_ST_TT01</th>\n",
              "      <th>Attack</th>\n",
              "    </tr>\n",
              "  </thead>\n",
              "  <tbody>\n",
              "    <tr>\n",
              "      <th>0</th>\n",
              "      <td>2021-07-10 00:00:01</td>\n",
              "      <td>0.059445</td>\n",
              "      <td>1.04366</td>\n",
              "      <td>431.328095</td>\n",
              "      <td>1034.712769</td>\n",
              "      <td>27.736847</td>\n",
              "      <td>14.9131</td>\n",
              "      <td>386.51172</td>\n",
              "      <td>31.52100</td>\n",
              "      <td>15.09755</td>\n",
              "      <td>...</td>\n",
              "      <td>0.716042</td>\n",
              "      <td>356.64423</td>\n",
              "      <td>0.00058</td>\n",
              "      <td>18131</td>\n",
              "      <td>292.86029</td>\n",
              "      <td>334.58112</td>\n",
              "      <td>20.989594</td>\n",
              "      <td>10000</td>\n",
              "      <td>27181</td>\n",
              "      <td>0</td>\n",
              "    </tr>\n",
              "    <tr>\n",
              "      <th>1</th>\n",
              "      <td>2021-07-10 00:00:02</td>\n",
              "      <td>0.059445</td>\n",
              "      <td>1.04217</td>\n",
              "      <td>431.328095</td>\n",
              "      <td>1034.712769</td>\n",
              "      <td>27.736847</td>\n",
              "      <td>14.9554</td>\n",
              "      <td>411.33905</td>\n",
              "      <td>31.51756</td>\n",
              "      <td>14.71477</td>\n",
              "      <td>...</td>\n",
              "      <td>0.716042</td>\n",
              "      <td>352.08698</td>\n",
              "      <td>-0.00282</td>\n",
              "      <td>18111</td>\n",
              "      <td>295.82605</td>\n",
              "      <td>332.97162</td>\n",
              "      <td>20.989594</td>\n",
              "      <td>9999</td>\n",
              "      <td>27174</td>\n",
              "      <td>0</td>\n",
              "    </tr>\n",
              "    <tr>\n",
              "      <th>2</th>\n",
              "      <td>2021-07-10 00:00:03</td>\n",
              "      <td>0.059445</td>\n",
              "      <td>1.03920</td>\n",
              "      <td>431.328095</td>\n",
              "      <td>1034.712769</td>\n",
              "      <td>27.736847</td>\n",
              "      <td>14.9920</td>\n",
              "      <td>438.15259</td>\n",
              "      <td>31.50269</td>\n",
              "      <td>14.30731</td>\n",
              "      <td>...</td>\n",
              "      <td>0.716042</td>\n",
              "      <td>347.63818</td>\n",
              "      <td>-0.00398</td>\n",
              "      <td>18100</td>\n",
              "      <td>300.02173</td>\n",
              "      <td>332.15784</td>\n",
              "      <td>20.989594</td>\n",
              "      <td>9999</td>\n",
              "      <td>27172</td>\n",
              "      <td>0</td>\n",
              "    </tr>\n",
              "  </tbody>\n",
              "</table>\n",
              "<p>3 rows × 88 columns</p>\n",
              "</div>\n",
              "      <button class=\"colab-df-convert\" onclick=\"convertToInteractive('df-a3e51683-0c56-488a-bba7-18d2ceb2a414')\"\n",
              "              title=\"Convert this dataframe to an interactive table.\"\n",
              "              style=\"display:none;\">\n",
              "        \n",
              "  <svg xmlns=\"http://www.w3.org/2000/svg\" height=\"24px\"viewBox=\"0 0 24 24\"\n",
              "       width=\"24px\">\n",
              "    <path d=\"M0 0h24v24H0V0z\" fill=\"none\"/>\n",
              "    <path d=\"M18.56 5.44l.94 2.06.94-2.06 2.06-.94-2.06-.94-.94-2.06-.94 2.06-2.06.94zm-11 1L8.5 8.5l.94-2.06 2.06-.94-2.06-.94L8.5 2.5l-.94 2.06-2.06.94zm10 10l.94 2.06.94-2.06 2.06-.94-2.06-.94-.94-2.06-.94 2.06-2.06.94z\"/><path d=\"M17.41 7.96l-1.37-1.37c-.4-.4-.92-.59-1.43-.59-.52 0-1.04.2-1.43.59L10.3 9.45l-7.72 7.72c-.78.78-.78 2.05 0 2.83L4 21.41c.39.39.9.59 1.41.59.51 0 1.02-.2 1.41-.59l7.78-7.78 2.81-2.81c.8-.78.8-2.07 0-2.86zM5.41 20L4 18.59l7.72-7.72 1.47 1.35L5.41 20z\"/>\n",
              "  </svg>\n",
              "      </button>\n",
              "      \n",
              "  <style>\n",
              "    .colab-df-container {\n",
              "      display:flex;\n",
              "      flex-wrap:wrap;\n",
              "      gap: 12px;\n",
              "    }\n",
              "\n",
              "    .colab-df-convert {\n",
              "      background-color: #E8F0FE;\n",
              "      border: none;\n",
              "      border-radius: 50%;\n",
              "      cursor: pointer;\n",
              "      display: none;\n",
              "      fill: #1967D2;\n",
              "      height: 32px;\n",
              "      padding: 0 0 0 0;\n",
              "      width: 32px;\n",
              "    }\n",
              "\n",
              "    .colab-df-convert:hover {\n",
              "      background-color: #E2EBFA;\n",
              "      box-shadow: 0px 1px 2px rgba(60, 64, 67, 0.3), 0px 1px 3px 1px rgba(60, 64, 67, 0.15);\n",
              "      fill: #174EA6;\n",
              "    }\n",
              "\n",
              "    [theme=dark] .colab-df-convert {\n",
              "      background-color: #3B4455;\n",
              "      fill: #D2E3FC;\n",
              "    }\n",
              "\n",
              "    [theme=dark] .colab-df-convert:hover {\n",
              "      background-color: #434B5C;\n",
              "      box-shadow: 0px 1px 3px 1px rgba(0, 0, 0, 0.15);\n",
              "      filter: drop-shadow(0px 1px 2px rgba(0, 0, 0, 0.3));\n",
              "      fill: #FFFFFF;\n",
              "    }\n",
              "  </style>\n",
              "\n",
              "      <script>\n",
              "        const buttonEl =\n",
              "          document.querySelector('#df-a3e51683-0c56-488a-bba7-18d2ceb2a414 button.colab-df-convert');\n",
              "        buttonEl.style.display =\n",
              "          google.colab.kernel.accessAllowed ? 'block' : 'none';\n",
              "\n",
              "        async function convertToInteractive(key) {\n",
              "          const element = document.querySelector('#df-a3e51683-0c56-488a-bba7-18d2ceb2a414');\n",
              "          const dataTable =\n",
              "            await google.colab.kernel.invokeFunction('convertToInteractive',\n",
              "                                                     [key], {});\n",
              "          if (!dataTable) return;\n",
              "\n",
              "          const docLinkHtml = 'Like what you see? Visit the ' +\n",
              "            '<a target=\"_blank\" href=https://colab.research.google.com/notebooks/data_table.ipynb>data table notebook</a>'\n",
              "            + ' to learn more about interactive tables.';\n",
              "          element.innerHTML = '';\n",
              "          dataTable['output_type'] = 'display_data';\n",
              "          await google.colab.output.renderOutput(dataTable, element);\n",
              "          const docLink = document.createElement('div');\n",
              "          docLink.innerHTML = docLinkHtml;\n",
              "          element.appendChild(docLink);\n",
              "        }\n",
              "      </script>\n",
              "    </div>\n",
              "  </div>\n",
              "  "
            ]
          },
          "metadata": {},
          "execution_count": 98
        }
      ]
    },
    {
      "cell_type": "code",
      "source": [
        "test_df_raw.Attack.unique()"
      ],
      "metadata": {
        "id": "PHYl1HE8oelN",
        "outputId": "f2e471af-506f-4957-f067-2925f8177dcc",
        "colab": {
          "base_uri": "https://localhost:8080/"
        }
      },
      "execution_count": 99,
      "outputs": [
        {
          "output_type": "execute_result",
          "data": {
            "text/plain": [
              "array([0, 1])"
            ]
          },
          "metadata": {},
          "execution_count": 99
        }
      ]
    },
    {
      "cell_type": "code",
      "source": [
        "test_df_raw.Attack.value_counts()[1] # 12030 attacks in the test df, 349170 normal = 3.44%   0.03445313171234642"
      ],
      "metadata": {
        "id": "lpozywo_peJi",
        "outputId": "983b0aba-7db2-402a-f842-e7cdb5584bdf",
        "colab": {
          "base_uri": "https://localhost:8080/"
        }
      },
      "execution_count": 100,
      "outputs": [
        {
          "output_type": "execute_result",
          "data": {
            "text/plain": [
              "12030"
            ]
          },
          "metadata": {},
          "execution_count": 100
        }
      ]
    },
    {
      "cell_type": "code",
      "source": [
        "# change the labels in the datasets from 0 and 1 for the majority and minority classes respectively, to +1 and -1.\n",
        "train_df_raw['Attack'] = train_df_raw['Attack'].replace([0, 1], [1, -1]) # normal is now 1 and attack is now -1\n",
        "test_df_raw['Attack'] = test_df_raw['Attack'].replace([0, 1], [1, -1])"
      ],
      "metadata": {
        "id": "0WjgJu-bXwlO"
      },
      "execution_count": 133,
      "outputs": []
    },
    {
      "cell_type": "code",
      "source": [
        "test_df_raw.Attack.unique()"
      ],
      "metadata": {
        "id": "2k59Ny59ZlbR",
        "outputId": "c9f7db17-acab-4297-a63a-9eba02d8588e",
        "colab": {
          "base_uri": "https://localhost:8080/"
        }
      },
      "execution_count": 134,
      "outputs": [
        {
          "output_type": "execute_result",
          "data": {
            "text/plain": [
              "array([ 1, -1])"
            ]
          },
          "metadata": {},
          "execution_count": 134
        }
      ]
    },
    {
      "cell_type": "code",
      "source": [
        "# creating target with attack labels\n",
        "train_target = train_df_raw['Attack'].copy()\n",
        "test_target = test_df_raw['Attack'].copy()\n",
        "\n",
        "# dropping timestamp and attack labels (might need timestamp for window later)... can also drop features that are not used.. do principal features later\n",
        "train_raw = train_df_raw.drop(['timestamp','Attack'], axis=1).copy()\n",
        "test_raw = test_df_raw.drop(['timestamp','Attack'], axis=1).copy()\n",
        "\n",
        "# now 86 parameters and no attack label"
      ],
      "metadata": {
        "id": "EOm-80QA3Fjq"
      },
      "execution_count": 135,
      "outputs": []
    },
    {
      "cell_type": "code",
      "source": [
        "total = 1004402+361200 \n",
        "1004402/total * 100\n",
        "\n",
        "# 74% train 26 % test split "
      ],
      "metadata": {
        "id": "kvxjZk7JbqzL",
        "outputId": "967cd96b-13c2-46c3-dcdc-f9bff9e5738c",
        "colab": {
          "base_uri": "https://localhost:8080/"
        }
      },
      "execution_count": 139,
      "outputs": [
        {
          "output_type": "execute_result",
          "data": {
            "text/plain": [
              "73.55012661082804"
            ]
          },
          "metadata": {},
          "execution_count": 139
        }
      ]
    },
    {
      "cell_type": "markdown",
      "source": [
        "# Normalize data\n",
        "\n",
        "- use min max values so they fall within 0-1\n",
        "- using the exponential weighted function after normalization to smooth noise generated by sensors"
      ],
      "metadata": {
        "id": "TRxInUriBquw"
      }
    },
    {
      "cell_type": "code",
      "source": [
        "def normalize(df):\n",
        "  min = df.min()\n",
        "  max = df.max()\n",
        "  new_df = df.copy()\n",
        "  for col in df.columns:\n",
        "      if min[col] == max[col]:\n",
        "          new_df[col] = df[col] - min[col]\n",
        "      else:\n",
        "          new_df[col] = (df[col] - min[col]) / (max[col] - min[col])\n",
        "  return new_df\n",
        "\n",
        "  # using this method to keep as pandas df for now"
      ],
      "metadata": {
        "id": "-SzquC8YBkvM"
      },
      "execution_count": 106,
      "outputs": []
    },
    {
      "cell_type": "code",
      "source": [
        "train_df = normalize(train_raw).ewm(alpha=0.9).mean() # normalize and smooth noise\n",
        "test_df = normalize(test_raw).ewm(alpha=0.9).mean() # normalize and smooth noise\n",
        "test_df"
      ],
      "metadata": {
        "colab": {
          "base_uri": "https://localhost:8080/",
          "height": 424
        },
        "id": "ADjz9RDWO2gt",
        "outputId": "9050df17-0ef3-4b76-91e0-b50f1dccd135"
      },
      "execution_count": 107,
      "outputs": [
        {
          "output_type": "execute_result",
          "data": {
            "text/plain": [
              "        P1_B2004  P1_B2016  P1_B3004  P1_B3005  P1_B4002  P1_B4005  P1_B400B  \\\n",
              "0       0.000000  0.316773  0.246834  0.865356  0.971259  0.149131  0.121069   \n",
              "1       0.000000  0.315166  0.246834  0.865356  0.971259  0.149516  0.128272   \n",
              "2       0.000000  0.311848  0.246834  0.865356  0.971259  0.149880  0.136630   \n",
              "3       0.000000  0.304068  0.246834  0.865356  0.971259  0.150110  0.145446   \n",
              "4       0.000000  0.300356  0.246834  0.865356  0.971259  0.150440  0.142333   \n",
              "...          ...       ...       ...       ...       ...       ...       ...   \n",
              "129595  0.072406  0.323699  0.674401  0.653310  0.096372  0.298944  0.333665   \n",
              "129596  0.072406  0.324841  0.674401  0.653310  0.096372  0.299480  0.326022   \n",
              "129597  0.072406  0.322628  0.674401  0.653310  0.096372  0.299920  0.312425   \n",
              "129598  0.072406  0.316173  0.674401  0.653310  0.096372  0.300228  0.293328   \n",
              "129599  0.072406  0.313574  0.674401  0.653310  0.096372  0.300633  0.278054   \n",
              "\n",
              "        P1_B4022  P1_FCV01D  P1_FCV01Z  ...  P4_HT_PO  P4_HT_PS     P4_LD  \\\n",
              "0       0.685155   0.240077   0.254971  ...  0.831028  0.000000  0.468399   \n",
              "1       0.684496   0.234543   0.249680  ...  0.857520  0.000000  0.453013   \n",
              "2       0.681614   0.228208   0.232601  ...  0.820810  0.000000  0.436742   \n",
              "3       0.676915   0.231046   0.229928  ...  0.701315  0.000000  0.410708   \n",
              "4       0.676446   0.241279   0.230534  ...  0.666735  0.000000  0.390879   \n",
              "...          ...        ...        ...  ...       ...       ...       ...   \n",
              "129595  0.249624   0.226953   0.235446  ...  0.422847  0.182591  0.530327   \n",
              "129596  0.250297   0.237697   0.216137  ...  0.446059  0.182591  0.541507   \n",
              "129597  0.248991   0.252867   0.212787  ...  0.467248  0.182591  0.546313   \n",
              "129598  0.245170   0.265238   0.212234  ...  0.491442  0.182591  0.550904   \n",
              "129599  0.243632   0.274692   0.228656  ...  0.509899  0.182591  0.548764   \n",
              "\n",
              "        P4_ST_FD  P4_ST_GOV  P4_ST_LD  P4_ST_PO  P4_ST_PS  P4_ST_PT01  \\\n",
              "0       0.467667   0.384527  0.236058  0.391359  0.654622    0.571675   \n",
              "1       0.357238   0.383226  0.246136  0.385738  0.654622    0.570105   \n",
              "2       0.309953   0.382400  0.261173  0.382416  0.654622    0.569964   \n",
              "3       0.384379   0.375876  0.269659  0.377961  0.654622    0.569950   \n",
              "4       0.463841   0.365692  0.280363  0.370826  0.654622    0.569948   \n",
              "...          ...        ...       ...       ...       ...         ...   \n",
              "129595  0.460777   0.373407  0.330826  0.364010  0.921419    0.429155   \n",
              "129596  0.297203   0.379679  0.329371  0.363680  0.921419    0.428408   \n",
              "129597  0.390170   0.374510  0.333728  0.361083  0.921419    0.426779   \n",
              "129598  0.469242   0.372254  0.326315  0.360323  0.921419    0.426616   \n",
              "129599  0.465574   0.369581  0.331354  0.357747  0.921419    0.426599   \n",
              "\n",
              "        P4_ST_TT01  \n",
              "0         0.587387  \n",
              "1         0.575921  \n",
              "2         0.571642  \n",
              "3         0.564731  \n",
              "4         0.570527  \n",
              "...            ...  \n",
              "129595    0.209645  \n",
              "129596    0.207451  \n",
              "129597    0.212096  \n",
              "129598    0.215804  \n",
              "129599    0.204824  \n",
              "\n",
              "[361200 rows x 86 columns]"
            ],
            "text/html": [
              "\n",
              "  <div id=\"df-d1d229bf-c46f-4551-a722-311a85be8e0b\">\n",
              "    <div class=\"colab-df-container\">\n",
              "      <div>\n",
              "<style scoped>\n",
              "    .dataframe tbody tr th:only-of-type {\n",
              "        vertical-align: middle;\n",
              "    }\n",
              "\n",
              "    .dataframe tbody tr th {\n",
              "        vertical-align: top;\n",
              "    }\n",
              "\n",
              "    .dataframe thead th {\n",
              "        text-align: right;\n",
              "    }\n",
              "</style>\n",
              "<table border=\"1\" class=\"dataframe\">\n",
              "  <thead>\n",
              "    <tr style=\"text-align: right;\">\n",
              "      <th></th>\n",
              "      <th>P1_B2004</th>\n",
              "      <th>P1_B2016</th>\n",
              "      <th>P1_B3004</th>\n",
              "      <th>P1_B3005</th>\n",
              "      <th>P1_B4002</th>\n",
              "      <th>P1_B4005</th>\n",
              "      <th>P1_B400B</th>\n",
              "      <th>P1_B4022</th>\n",
              "      <th>P1_FCV01D</th>\n",
              "      <th>P1_FCV01Z</th>\n",
              "      <th>...</th>\n",
              "      <th>P4_HT_PO</th>\n",
              "      <th>P4_HT_PS</th>\n",
              "      <th>P4_LD</th>\n",
              "      <th>P4_ST_FD</th>\n",
              "      <th>P4_ST_GOV</th>\n",
              "      <th>P4_ST_LD</th>\n",
              "      <th>P4_ST_PO</th>\n",
              "      <th>P4_ST_PS</th>\n",
              "      <th>P4_ST_PT01</th>\n",
              "      <th>P4_ST_TT01</th>\n",
              "    </tr>\n",
              "  </thead>\n",
              "  <tbody>\n",
              "    <tr>\n",
              "      <th>0</th>\n",
              "      <td>0.000000</td>\n",
              "      <td>0.316773</td>\n",
              "      <td>0.246834</td>\n",
              "      <td>0.865356</td>\n",
              "      <td>0.971259</td>\n",
              "      <td>0.149131</td>\n",
              "      <td>0.121069</td>\n",
              "      <td>0.685155</td>\n",
              "      <td>0.240077</td>\n",
              "      <td>0.254971</td>\n",
              "      <td>...</td>\n",
              "      <td>0.831028</td>\n",
              "      <td>0.000000</td>\n",
              "      <td>0.468399</td>\n",
              "      <td>0.467667</td>\n",
              "      <td>0.384527</td>\n",
              "      <td>0.236058</td>\n",
              "      <td>0.391359</td>\n",
              "      <td>0.654622</td>\n",
              "      <td>0.571675</td>\n",
              "      <td>0.587387</td>\n",
              "    </tr>\n",
              "    <tr>\n",
              "      <th>1</th>\n",
              "      <td>0.000000</td>\n",
              "      <td>0.315166</td>\n",
              "      <td>0.246834</td>\n",
              "      <td>0.865356</td>\n",
              "      <td>0.971259</td>\n",
              "      <td>0.149516</td>\n",
              "      <td>0.128272</td>\n",
              "      <td>0.684496</td>\n",
              "      <td>0.234543</td>\n",
              "      <td>0.249680</td>\n",
              "      <td>...</td>\n",
              "      <td>0.857520</td>\n",
              "      <td>0.000000</td>\n",
              "      <td>0.453013</td>\n",
              "      <td>0.357238</td>\n",
              "      <td>0.383226</td>\n",
              "      <td>0.246136</td>\n",
              "      <td>0.385738</td>\n",
              "      <td>0.654622</td>\n",
              "      <td>0.570105</td>\n",
              "      <td>0.575921</td>\n",
              "    </tr>\n",
              "    <tr>\n",
              "      <th>2</th>\n",
              "      <td>0.000000</td>\n",
              "      <td>0.311848</td>\n",
              "      <td>0.246834</td>\n",
              "      <td>0.865356</td>\n",
              "      <td>0.971259</td>\n",
              "      <td>0.149880</td>\n",
              "      <td>0.136630</td>\n",
              "      <td>0.681614</td>\n",
              "      <td>0.228208</td>\n",
              "      <td>0.232601</td>\n",
              "      <td>...</td>\n",
              "      <td>0.820810</td>\n",
              "      <td>0.000000</td>\n",
              "      <td>0.436742</td>\n",
              "      <td>0.309953</td>\n",
              "      <td>0.382400</td>\n",
              "      <td>0.261173</td>\n",
              "      <td>0.382416</td>\n",
              "      <td>0.654622</td>\n",
              "      <td>0.569964</td>\n",
              "      <td>0.571642</td>\n",
              "    </tr>\n",
              "    <tr>\n",
              "      <th>3</th>\n",
              "      <td>0.000000</td>\n",
              "      <td>0.304068</td>\n",
              "      <td>0.246834</td>\n",
              "      <td>0.865356</td>\n",
              "      <td>0.971259</td>\n",
              "      <td>0.150110</td>\n",
              "      <td>0.145446</td>\n",
              "      <td>0.676915</td>\n",
              "      <td>0.231046</td>\n",
              "      <td>0.229928</td>\n",
              "      <td>...</td>\n",
              "      <td>0.701315</td>\n",
              "      <td>0.000000</td>\n",
              "      <td>0.410708</td>\n",
              "      <td>0.384379</td>\n",
              "      <td>0.375876</td>\n",
              "      <td>0.269659</td>\n",
              "      <td>0.377961</td>\n",
              "      <td>0.654622</td>\n",
              "      <td>0.569950</td>\n",
              "      <td>0.564731</td>\n",
              "    </tr>\n",
              "    <tr>\n",
              "      <th>4</th>\n",
              "      <td>0.000000</td>\n",
              "      <td>0.300356</td>\n",
              "      <td>0.246834</td>\n",
              "      <td>0.865356</td>\n",
              "      <td>0.971259</td>\n",
              "      <td>0.150440</td>\n",
              "      <td>0.142333</td>\n",
              "      <td>0.676446</td>\n",
              "      <td>0.241279</td>\n",
              "      <td>0.230534</td>\n",
              "      <td>...</td>\n",
              "      <td>0.666735</td>\n",
              "      <td>0.000000</td>\n",
              "      <td>0.390879</td>\n",
              "      <td>0.463841</td>\n",
              "      <td>0.365692</td>\n",
              "      <td>0.280363</td>\n",
              "      <td>0.370826</td>\n",
              "      <td>0.654622</td>\n",
              "      <td>0.569948</td>\n",
              "      <td>0.570527</td>\n",
              "    </tr>\n",
              "    <tr>\n",
              "      <th>...</th>\n",
              "      <td>...</td>\n",
              "      <td>...</td>\n",
              "      <td>...</td>\n",
              "      <td>...</td>\n",
              "      <td>...</td>\n",
              "      <td>...</td>\n",
              "      <td>...</td>\n",
              "      <td>...</td>\n",
              "      <td>...</td>\n",
              "      <td>...</td>\n",
              "      <td>...</td>\n",
              "      <td>...</td>\n",
              "      <td>...</td>\n",
              "      <td>...</td>\n",
              "      <td>...</td>\n",
              "      <td>...</td>\n",
              "      <td>...</td>\n",
              "      <td>...</td>\n",
              "      <td>...</td>\n",
              "      <td>...</td>\n",
              "      <td>...</td>\n",
              "    </tr>\n",
              "    <tr>\n",
              "      <th>129595</th>\n",
              "      <td>0.072406</td>\n",
              "      <td>0.323699</td>\n",
              "      <td>0.674401</td>\n",
              "      <td>0.653310</td>\n",
              "      <td>0.096372</td>\n",
              "      <td>0.298944</td>\n",
              "      <td>0.333665</td>\n",
              "      <td>0.249624</td>\n",
              "      <td>0.226953</td>\n",
              "      <td>0.235446</td>\n",
              "      <td>...</td>\n",
              "      <td>0.422847</td>\n",
              "      <td>0.182591</td>\n",
              "      <td>0.530327</td>\n",
              "      <td>0.460777</td>\n",
              "      <td>0.373407</td>\n",
              "      <td>0.330826</td>\n",
              "      <td>0.364010</td>\n",
              "      <td>0.921419</td>\n",
              "      <td>0.429155</td>\n",
              "      <td>0.209645</td>\n",
              "    </tr>\n",
              "    <tr>\n",
              "      <th>129596</th>\n",
              "      <td>0.072406</td>\n",
              "      <td>0.324841</td>\n",
              "      <td>0.674401</td>\n",
              "      <td>0.653310</td>\n",
              "      <td>0.096372</td>\n",
              "      <td>0.299480</td>\n",
              "      <td>0.326022</td>\n",
              "      <td>0.250297</td>\n",
              "      <td>0.237697</td>\n",
              "      <td>0.216137</td>\n",
              "      <td>...</td>\n",
              "      <td>0.446059</td>\n",
              "      <td>0.182591</td>\n",
              "      <td>0.541507</td>\n",
              "      <td>0.297203</td>\n",
              "      <td>0.379679</td>\n",
              "      <td>0.329371</td>\n",
              "      <td>0.363680</td>\n",
              "      <td>0.921419</td>\n",
              "      <td>0.428408</td>\n",
              "      <td>0.207451</td>\n",
              "    </tr>\n",
              "    <tr>\n",
              "      <th>129597</th>\n",
              "      <td>0.072406</td>\n",
              "      <td>0.322628</td>\n",
              "      <td>0.674401</td>\n",
              "      <td>0.653310</td>\n",
              "      <td>0.096372</td>\n",
              "      <td>0.299920</td>\n",
              "      <td>0.312425</td>\n",
              "      <td>0.248991</td>\n",
              "      <td>0.252867</td>\n",
              "      <td>0.212787</td>\n",
              "      <td>...</td>\n",
              "      <td>0.467248</td>\n",
              "      <td>0.182591</td>\n",
              "      <td>0.546313</td>\n",
              "      <td>0.390170</td>\n",
              "      <td>0.374510</td>\n",
              "      <td>0.333728</td>\n",
              "      <td>0.361083</td>\n",
              "      <td>0.921419</td>\n",
              "      <td>0.426779</td>\n",
              "      <td>0.212096</td>\n",
              "    </tr>\n",
              "    <tr>\n",
              "      <th>129598</th>\n",
              "      <td>0.072406</td>\n",
              "      <td>0.316173</td>\n",
              "      <td>0.674401</td>\n",
              "      <td>0.653310</td>\n",
              "      <td>0.096372</td>\n",
              "      <td>0.300228</td>\n",
              "      <td>0.293328</td>\n",
              "      <td>0.245170</td>\n",
              "      <td>0.265238</td>\n",
              "      <td>0.212234</td>\n",
              "      <td>...</td>\n",
              "      <td>0.491442</td>\n",
              "      <td>0.182591</td>\n",
              "      <td>0.550904</td>\n",
              "      <td>0.469242</td>\n",
              "      <td>0.372254</td>\n",
              "      <td>0.326315</td>\n",
              "      <td>0.360323</td>\n",
              "      <td>0.921419</td>\n",
              "      <td>0.426616</td>\n",
              "      <td>0.215804</td>\n",
              "    </tr>\n",
              "    <tr>\n",
              "      <th>129599</th>\n",
              "      <td>0.072406</td>\n",
              "      <td>0.313574</td>\n",
              "      <td>0.674401</td>\n",
              "      <td>0.653310</td>\n",
              "      <td>0.096372</td>\n",
              "      <td>0.300633</td>\n",
              "      <td>0.278054</td>\n",
              "      <td>0.243632</td>\n",
              "      <td>0.274692</td>\n",
              "      <td>0.228656</td>\n",
              "      <td>...</td>\n",
              "      <td>0.509899</td>\n",
              "      <td>0.182591</td>\n",
              "      <td>0.548764</td>\n",
              "      <td>0.465574</td>\n",
              "      <td>0.369581</td>\n",
              "      <td>0.331354</td>\n",
              "      <td>0.357747</td>\n",
              "      <td>0.921419</td>\n",
              "      <td>0.426599</td>\n",
              "      <td>0.204824</td>\n",
              "    </tr>\n",
              "  </tbody>\n",
              "</table>\n",
              "<p>361200 rows × 86 columns</p>\n",
              "</div>\n",
              "      <button class=\"colab-df-convert\" onclick=\"convertToInteractive('df-d1d229bf-c46f-4551-a722-311a85be8e0b')\"\n",
              "              title=\"Convert this dataframe to an interactive table.\"\n",
              "              style=\"display:none;\">\n",
              "        \n",
              "  <svg xmlns=\"http://www.w3.org/2000/svg\" height=\"24px\"viewBox=\"0 0 24 24\"\n",
              "       width=\"24px\">\n",
              "    <path d=\"M0 0h24v24H0V0z\" fill=\"none\"/>\n",
              "    <path d=\"M18.56 5.44l.94 2.06.94-2.06 2.06-.94-2.06-.94-.94-2.06-.94 2.06-2.06.94zm-11 1L8.5 8.5l.94-2.06 2.06-.94-2.06-.94L8.5 2.5l-.94 2.06-2.06.94zm10 10l.94 2.06.94-2.06 2.06-.94-2.06-.94-.94-2.06-.94 2.06-2.06.94z\"/><path d=\"M17.41 7.96l-1.37-1.37c-.4-.4-.92-.59-1.43-.59-.52 0-1.04.2-1.43.59L10.3 9.45l-7.72 7.72c-.78.78-.78 2.05 0 2.83L4 21.41c.39.39.9.59 1.41.59.51 0 1.02-.2 1.41-.59l7.78-7.78 2.81-2.81c.8-.78.8-2.07 0-2.86zM5.41 20L4 18.59l7.72-7.72 1.47 1.35L5.41 20z\"/>\n",
              "  </svg>\n",
              "      </button>\n",
              "      \n",
              "  <style>\n",
              "    .colab-df-container {\n",
              "      display:flex;\n",
              "      flex-wrap:wrap;\n",
              "      gap: 12px;\n",
              "    }\n",
              "\n",
              "    .colab-df-convert {\n",
              "      background-color: #E8F0FE;\n",
              "      border: none;\n",
              "      border-radius: 50%;\n",
              "      cursor: pointer;\n",
              "      display: none;\n",
              "      fill: #1967D2;\n",
              "      height: 32px;\n",
              "      padding: 0 0 0 0;\n",
              "      width: 32px;\n",
              "    }\n",
              "\n",
              "    .colab-df-convert:hover {\n",
              "      background-color: #E2EBFA;\n",
              "      box-shadow: 0px 1px 2px rgba(60, 64, 67, 0.3), 0px 1px 3px 1px rgba(60, 64, 67, 0.15);\n",
              "      fill: #174EA6;\n",
              "    }\n",
              "\n",
              "    [theme=dark] .colab-df-convert {\n",
              "      background-color: #3B4455;\n",
              "      fill: #D2E3FC;\n",
              "    }\n",
              "\n",
              "    [theme=dark] .colab-df-convert:hover {\n",
              "      background-color: #434B5C;\n",
              "      box-shadow: 0px 1px 3px 1px rgba(0, 0, 0, 0.15);\n",
              "      filter: drop-shadow(0px 1px 2px rgba(0, 0, 0, 0.3));\n",
              "      fill: #FFFFFF;\n",
              "    }\n",
              "  </style>\n",
              "\n",
              "      <script>\n",
              "        const buttonEl =\n",
              "          document.querySelector('#df-d1d229bf-c46f-4551-a722-311a85be8e0b button.colab-df-convert');\n",
              "        buttonEl.style.display =\n",
              "          google.colab.kernel.accessAllowed ? 'block' : 'none';\n",
              "\n",
              "        async function convertToInteractive(key) {\n",
              "          const element = document.querySelector('#df-d1d229bf-c46f-4551-a722-311a85be8e0b');\n",
              "          const dataTable =\n",
              "            await google.colab.kernel.invokeFunction('convertToInteractive',\n",
              "                                                     [key], {});\n",
              "          if (!dataTable) return;\n",
              "\n",
              "          const docLinkHtml = 'Like what you see? Visit the ' +\n",
              "            '<a target=\"_blank\" href=https://colab.research.google.com/notebooks/data_table.ipynb>data table notebook</a>'\n",
              "            + ' to learn more about interactive tables.';\n",
              "          element.innerHTML = '';\n",
              "          dataTable['output_type'] = 'display_data';\n",
              "          await google.colab.output.renderOutput(dataTable, element);\n",
              "          const docLink = document.createElement('div');\n",
              "          docLink.innerHTML = docLinkHtml;\n",
              "          element.appendChild(docLink);\n",
              "        }\n",
              "      </script>\n",
              "    </div>\n",
              "  </div>\n",
              "  "
            ]
          },
          "metadata": {},
          "execution_count": 107
        }
      ]
    },
    {
      "cell_type": "code",
      "source": [
        "def boundary_check(df):\n",
        "    x = np.array(df, dtype=np.float32)\n",
        "    return np.any(x > 1.0), np.any(x < 0), np.any(np.isnan(x))\n",
        "\n",
        "boundary_check(train_df) # making sure normalization within boundaries\n",
        "boundary_check(test_df)"
      ],
      "metadata": {
        "colab": {
          "base_uri": "https://localhost:8080/"
        },
        "id": "BvbYnbcwRw-l",
        "outputId": "20a4e6f1-299d-49f5-db68-323b23c80ffd"
      },
      "execution_count": 108,
      "outputs": [
        {
          "output_type": "execute_result",
          "data": {
            "text/plain": [
              "(False, False, False)"
            ]
          },
          "metadata": {},
          "execution_count": 108
        }
      ]
    },
    {
      "cell_type": "code",
      "source": [
        "# transform the dataframes?"
      ],
      "metadata": {
        "id": "IQ9KEh951wMj"
      },
      "execution_count": 109,
      "outputs": []
    },
    {
      "cell_type": "code",
      "source": [
        "## plot the test data without the timestamp but keep attack for colouring, \n"
      ],
      "metadata": {
        "id": "QXs2FZnMvwQk"
      },
      "execution_count": 110,
      "outputs": []
    },
    {
      "cell_type": "markdown",
      "source": [
        "## Convert dataframes to np.arrays?? is this necesary?"
      ],
      "metadata": {
        "id": "HMWCL8iq6a1I"
      }
    },
    {
      "cell_type": "code",
      "source": [
        "# train = np.array(train_raw)\n",
        "# test = np.array(test_raw)\n",
        "# test"
      ],
      "metadata": {
        "id": "Ykzprcbm7qTR",
        "outputId": "8cd4bdaf-c49c-4fa7-b9b4-f0b9b7d75949",
        "colab": {
          "base_uri": "https://localhost:8080/"
        }
      },
      "execution_count": 111,
      "outputs": [
        {
          "output_type": "execute_result",
          "data": {
            "text/plain": [
              "array([[5.94447180e-02, 1.04366000e+00, 4.31328095e+02, ...,\n",
              "        2.09895935e+01, 1.00000000e+04, 2.71810000e+04],\n",
              "       [5.94447180e-02, 1.04217000e+00, 4.31328095e+02, ...,\n",
              "        2.09895935e+01, 9.99900000e+03, 2.71740000e+04],\n",
              "       [5.94447180e-02, 1.03920000e+00, 4.31328095e+02, ...,\n",
              "        2.09895935e+01, 9.99900000e+03, 2.71720000e+04],\n",
              "       ...,\n",
              "       [6.94400000e-02, 1.04839000e+00, 4.67038540e+02, ...,\n",
              "        2.67609400e+01, 9.91600000e+03, 2.69730000e+04],\n",
              "       [6.94400000e-02, 1.04255000e+00, 4.67038540e+02, ...,\n",
              "        2.67609400e+01, 9.91600000e+03, 2.69750000e+04],\n",
              "       [6.94400000e-02, 1.04072000e+00, 4.67038540e+02, ...,\n",
              "        2.67609400e+01, 9.91600000e+03, 2.69680000e+04]])"
            ]
          },
          "metadata": {},
          "execution_count": 111
        }
      ]
    },
    {
      "cell_type": "markdown",
      "source": [
        "## One-Class SVM\n",
        "- A one-class classifier is fit on a training dataset that only has examples from the normal class ( no anomalies ) \n",
        "- negative case (class 0) is taken as “normal” and the positive case (class 1) is taken as an outlier or anomaly\n",
        "- OneClass SVM  is fit in an unsupervised manner and does not provide the normal hyperparameters for tuning the margin like C. Instead, it provides a hyperparameter “nu” that controls the sensitivity of the support vectors and should be tuned to the approximate ratio of outliers in the data\n",
        "  - here our train data is 0% but our test data is 3.44% nu = 3.44 in terms of test but idk if thats what we want to do will test to see\n",
        "- kernel is the kernel type to be used - svms ability to use non-linear function to project the space to higher dimensions. default is rbf = radial basis function\n",
        "- gamma is a parameter of the rbf kernel type and controls the influence of individual training samples- affects the smootheness of the model\n",
        "  - low gamma improves smoothenss and generalizability\n",
        "  - high gamma reduces smoothness but makes model tighter- fitted\n",
        "  - here we are going to start with 0.00005\n",
        "- When calling the predict() function on the model, it will output a +1 for normal examples, so-called inliers, and a -1 for outliers.\n",
        "- If we want to evaluate the performance of the model as a binary classifier, we must change the labels in the test dataset from 0 and 1 for the majority and minority classes respectively, to +1 and -1.\n",
        "\n",
        "see https://machinelearningmastery.com/one-class-classification-algorithms/ \n",
        "and https://medium.com/@jamesstradling/unsupervised-machine-learning-with-one-class-support-vector-machines-129579a49d1d"
      ],
      "metadata": {
        "id": "lKfYaR3JS9M_"
      }
    },
    {
      "cell_type": "code",
      "source": [
        "# instantiate a model and train it with training data\n",
        "from sklearn import svm\n",
        "nu = 0.03445313171234642 # ratio of attack instances in test data\n",
        "model = svm.OneClassSVM(nu=nu, kernel='rbf', gamma = 0.00005)\n",
        "model.fit(train_raw) # trying on a pandas df, think I need to convert to array"
      ],
      "metadata": {
        "id": "FsoAHX_leQVY"
      },
      "execution_count": null,
      "outputs": []
    },
    {
      "cell_type": "markdown",
      "source": [
        "## test svm from internet"
      ],
      "metadata": {
        "id": "qmIQpcXQeQy6"
      }
    },
    {
      "cell_type": "code",
      "source": [
        "## THIS IS AN EXAMPLE OF ONE-CLASS SVM JUST TO TEST \n",
        "\n",
        "\n",
        "# one-class svm for imbalanced binary classification\n",
        "from sklearn.datasets import make_classification\n",
        "from sklearn.model_selection import train_test_split\n",
        "from sklearn.metrics import f1_score\n",
        "from sklearn.svm import OneClassSVM\n",
        "# generate dataset\n",
        "X, y = make_classification(n_samples=10000, n_features=2, n_redundant=0,\n",
        "\tn_clusters_per_class=1, weights=[0.999], flip_y=0, random_state=4)\n"
      ],
      "metadata": {
        "id": "KK60jgGy0tRA"
      },
      "execution_count": 112,
      "outputs": []
    },
    {
      "cell_type": "code",
      "source": [
        "X"
      ],
      "metadata": {
        "id": "2DyFArIF6jpN",
        "outputId": "d661c5f7-025c-46db-d2a9-bb5818352bf7",
        "colab": {
          "base_uri": "https://localhost:8080/"
        }
      },
      "execution_count": 113,
      "outputs": [
        {
          "output_type": "execute_result",
          "data": {
            "text/plain": [
              "array([[-1.41378978, -1.09433986],\n",
              "       [-1.1785108 , -1.58251586],\n",
              "       [-1.97507026, -1.85349255],\n",
              "       ...,\n",
              "       [-0.60110683, -0.24307109],\n",
              "       [-1.07464132, -1.01954006],\n",
              "       [-0.50662359, -0.17107237]])"
            ]
          },
          "metadata": {},
          "execution_count": 113
        }
      ]
    },
    {
      "cell_type": "code",
      "source": [
        "# just to see what X looks like in a dataframe\n",
        "pdf = pd.DataFrame(X)\n",
        "pdf.head(10)"
      ],
      "metadata": {
        "id": "TGkJ7TuO64mI",
        "outputId": "6dca3ff2-4204-422c-e6e9-f3c6c2afb9a0",
        "colab": {
          "base_uri": "https://localhost:8080/",
          "height": 363
        }
      },
      "execution_count": 114,
      "outputs": [
        {
          "output_type": "execute_result",
          "data": {
            "text/plain": [
              "          0         1\n",
              "0 -1.413790 -1.094340\n",
              "1 -1.178511 -1.582516\n",
              "2 -1.975070 -1.853493\n",
              "3 -1.100164 -0.942500\n",
              "4 -1.312017 -0.665531\n",
              "5 -0.569509 -0.564039\n",
              "6 -1.445531 -1.205092\n",
              "7 -1.220597 -0.394076\n",
              "8 -0.173684  0.059674\n",
              "9 -0.830515 -1.238588"
            ],
            "text/html": [
              "\n",
              "  <div id=\"df-c7d84372-cf32-474e-adf7-2e6ab5f1153d\">\n",
              "    <div class=\"colab-df-container\">\n",
              "      <div>\n",
              "<style scoped>\n",
              "    .dataframe tbody tr th:only-of-type {\n",
              "        vertical-align: middle;\n",
              "    }\n",
              "\n",
              "    .dataframe tbody tr th {\n",
              "        vertical-align: top;\n",
              "    }\n",
              "\n",
              "    .dataframe thead th {\n",
              "        text-align: right;\n",
              "    }\n",
              "</style>\n",
              "<table border=\"1\" class=\"dataframe\">\n",
              "  <thead>\n",
              "    <tr style=\"text-align: right;\">\n",
              "      <th></th>\n",
              "      <th>0</th>\n",
              "      <th>1</th>\n",
              "    </tr>\n",
              "  </thead>\n",
              "  <tbody>\n",
              "    <tr>\n",
              "      <th>0</th>\n",
              "      <td>-1.413790</td>\n",
              "      <td>-1.094340</td>\n",
              "    </tr>\n",
              "    <tr>\n",
              "      <th>1</th>\n",
              "      <td>-1.178511</td>\n",
              "      <td>-1.582516</td>\n",
              "    </tr>\n",
              "    <tr>\n",
              "      <th>2</th>\n",
              "      <td>-1.975070</td>\n",
              "      <td>-1.853493</td>\n",
              "    </tr>\n",
              "    <tr>\n",
              "      <th>3</th>\n",
              "      <td>-1.100164</td>\n",
              "      <td>-0.942500</td>\n",
              "    </tr>\n",
              "    <tr>\n",
              "      <th>4</th>\n",
              "      <td>-1.312017</td>\n",
              "      <td>-0.665531</td>\n",
              "    </tr>\n",
              "    <tr>\n",
              "      <th>5</th>\n",
              "      <td>-0.569509</td>\n",
              "      <td>-0.564039</td>\n",
              "    </tr>\n",
              "    <tr>\n",
              "      <th>6</th>\n",
              "      <td>-1.445531</td>\n",
              "      <td>-1.205092</td>\n",
              "    </tr>\n",
              "    <tr>\n",
              "      <th>7</th>\n",
              "      <td>-1.220597</td>\n",
              "      <td>-0.394076</td>\n",
              "    </tr>\n",
              "    <tr>\n",
              "      <th>8</th>\n",
              "      <td>-0.173684</td>\n",
              "      <td>0.059674</td>\n",
              "    </tr>\n",
              "    <tr>\n",
              "      <th>9</th>\n",
              "      <td>-0.830515</td>\n",
              "      <td>-1.238588</td>\n",
              "    </tr>\n",
              "  </tbody>\n",
              "</table>\n",
              "</div>\n",
              "      <button class=\"colab-df-convert\" onclick=\"convertToInteractive('df-c7d84372-cf32-474e-adf7-2e6ab5f1153d')\"\n",
              "              title=\"Convert this dataframe to an interactive table.\"\n",
              "              style=\"display:none;\">\n",
              "        \n",
              "  <svg xmlns=\"http://www.w3.org/2000/svg\" height=\"24px\"viewBox=\"0 0 24 24\"\n",
              "       width=\"24px\">\n",
              "    <path d=\"M0 0h24v24H0V0z\" fill=\"none\"/>\n",
              "    <path d=\"M18.56 5.44l.94 2.06.94-2.06 2.06-.94-2.06-.94-.94-2.06-.94 2.06-2.06.94zm-11 1L8.5 8.5l.94-2.06 2.06-.94-2.06-.94L8.5 2.5l-.94 2.06-2.06.94zm10 10l.94 2.06.94-2.06 2.06-.94-2.06-.94-.94-2.06-.94 2.06-2.06.94z\"/><path d=\"M17.41 7.96l-1.37-1.37c-.4-.4-.92-.59-1.43-.59-.52 0-1.04.2-1.43.59L10.3 9.45l-7.72 7.72c-.78.78-.78 2.05 0 2.83L4 21.41c.39.39.9.59 1.41.59.51 0 1.02-.2 1.41-.59l7.78-7.78 2.81-2.81c.8-.78.8-2.07 0-2.86zM5.41 20L4 18.59l7.72-7.72 1.47 1.35L5.41 20z\"/>\n",
              "  </svg>\n",
              "      </button>\n",
              "      \n",
              "  <style>\n",
              "    .colab-df-container {\n",
              "      display:flex;\n",
              "      flex-wrap:wrap;\n",
              "      gap: 12px;\n",
              "    }\n",
              "\n",
              "    .colab-df-convert {\n",
              "      background-color: #E8F0FE;\n",
              "      border: none;\n",
              "      border-radius: 50%;\n",
              "      cursor: pointer;\n",
              "      display: none;\n",
              "      fill: #1967D2;\n",
              "      height: 32px;\n",
              "      padding: 0 0 0 0;\n",
              "      width: 32px;\n",
              "    }\n",
              "\n",
              "    .colab-df-convert:hover {\n",
              "      background-color: #E2EBFA;\n",
              "      box-shadow: 0px 1px 2px rgba(60, 64, 67, 0.3), 0px 1px 3px 1px rgba(60, 64, 67, 0.15);\n",
              "      fill: #174EA6;\n",
              "    }\n",
              "\n",
              "    [theme=dark] .colab-df-convert {\n",
              "      background-color: #3B4455;\n",
              "      fill: #D2E3FC;\n",
              "    }\n",
              "\n",
              "    [theme=dark] .colab-df-convert:hover {\n",
              "      background-color: #434B5C;\n",
              "      box-shadow: 0px 1px 3px 1px rgba(0, 0, 0, 0.15);\n",
              "      filter: drop-shadow(0px 1px 2px rgba(0, 0, 0, 0.3));\n",
              "      fill: #FFFFFF;\n",
              "    }\n",
              "  </style>\n",
              "\n",
              "      <script>\n",
              "        const buttonEl =\n",
              "          document.querySelector('#df-c7d84372-cf32-474e-adf7-2e6ab5f1153d button.colab-df-convert');\n",
              "        buttonEl.style.display =\n",
              "          google.colab.kernel.accessAllowed ? 'block' : 'none';\n",
              "\n",
              "        async function convertToInteractive(key) {\n",
              "          const element = document.querySelector('#df-c7d84372-cf32-474e-adf7-2e6ab5f1153d');\n",
              "          const dataTable =\n",
              "            await google.colab.kernel.invokeFunction('convertToInteractive',\n",
              "                                                     [key], {});\n",
              "          if (!dataTable) return;\n",
              "\n",
              "          const docLinkHtml = 'Like what you see? Visit the ' +\n",
              "            '<a target=\"_blank\" href=https://colab.research.google.com/notebooks/data_table.ipynb>data table notebook</a>'\n",
              "            + ' to learn more about interactive tables.';\n",
              "          element.innerHTML = '';\n",
              "          dataTable['output_type'] = 'display_data';\n",
              "          await google.colab.output.renderOutput(dataTable, element);\n",
              "          const docLink = document.createElement('div');\n",
              "          docLink.innerHTML = docLinkHtml;\n",
              "          element.appendChild(docLink);\n",
              "        }\n",
              "      </script>\n",
              "    </div>\n",
              "  </div>\n",
              "  "
            ]
          },
          "metadata": {},
          "execution_count": 114
        }
      ]
    },
    {
      "cell_type": "code",
      "source": [
        "y"
      ],
      "metadata": {
        "id": "u4Mqg2-B6lM5",
        "outputId": "938be10c-ae62-436f-f4f2-6ef6bc84f389",
        "colab": {
          "base_uri": "https://localhost:8080/"
        }
      },
      "execution_count": 115,
      "outputs": [
        {
          "output_type": "execute_result",
          "data": {
            "text/plain": [
              "array([0, 0, 0, ..., 0, 0, 0])"
            ]
          },
          "metadata": {},
          "execution_count": 115
        }
      ]
    },
    {
      "cell_type": "code",
      "source": [
        "pdf = pd.DataFrame(y)\n",
        "pdf.head(10)"
      ],
      "metadata": {
        "id": "tmVcbsU07ZR8",
        "outputId": "219befbc-aefe-4802-901e-41ce1a154307",
        "colab": {
          "base_uri": "https://localhost:8080/",
          "height": 363
        }
      },
      "execution_count": 116,
      "outputs": [
        {
          "output_type": "execute_result",
          "data": {
            "text/plain": [
              "   0\n",
              "0  0\n",
              "1  0\n",
              "2  0\n",
              "3  0\n",
              "4  0\n",
              "5  0\n",
              "6  0\n",
              "7  0\n",
              "8  0\n",
              "9  0"
            ],
            "text/html": [
              "\n",
              "  <div id=\"df-d53fbe36-0769-4943-be44-7aa9572d6fce\">\n",
              "    <div class=\"colab-df-container\">\n",
              "      <div>\n",
              "<style scoped>\n",
              "    .dataframe tbody tr th:only-of-type {\n",
              "        vertical-align: middle;\n",
              "    }\n",
              "\n",
              "    .dataframe tbody tr th {\n",
              "        vertical-align: top;\n",
              "    }\n",
              "\n",
              "    .dataframe thead th {\n",
              "        text-align: right;\n",
              "    }\n",
              "</style>\n",
              "<table border=\"1\" class=\"dataframe\">\n",
              "  <thead>\n",
              "    <tr style=\"text-align: right;\">\n",
              "      <th></th>\n",
              "      <th>0</th>\n",
              "    </tr>\n",
              "  </thead>\n",
              "  <tbody>\n",
              "    <tr>\n",
              "      <th>0</th>\n",
              "      <td>0</td>\n",
              "    </tr>\n",
              "    <tr>\n",
              "      <th>1</th>\n",
              "      <td>0</td>\n",
              "    </tr>\n",
              "    <tr>\n",
              "      <th>2</th>\n",
              "      <td>0</td>\n",
              "    </tr>\n",
              "    <tr>\n",
              "      <th>3</th>\n",
              "      <td>0</td>\n",
              "    </tr>\n",
              "    <tr>\n",
              "      <th>4</th>\n",
              "      <td>0</td>\n",
              "    </tr>\n",
              "    <tr>\n",
              "      <th>5</th>\n",
              "      <td>0</td>\n",
              "    </tr>\n",
              "    <tr>\n",
              "      <th>6</th>\n",
              "      <td>0</td>\n",
              "    </tr>\n",
              "    <tr>\n",
              "      <th>7</th>\n",
              "      <td>0</td>\n",
              "    </tr>\n",
              "    <tr>\n",
              "      <th>8</th>\n",
              "      <td>0</td>\n",
              "    </tr>\n",
              "    <tr>\n",
              "      <th>9</th>\n",
              "      <td>0</td>\n",
              "    </tr>\n",
              "  </tbody>\n",
              "</table>\n",
              "</div>\n",
              "      <button class=\"colab-df-convert\" onclick=\"convertToInteractive('df-d53fbe36-0769-4943-be44-7aa9572d6fce')\"\n",
              "              title=\"Convert this dataframe to an interactive table.\"\n",
              "              style=\"display:none;\">\n",
              "        \n",
              "  <svg xmlns=\"http://www.w3.org/2000/svg\" height=\"24px\"viewBox=\"0 0 24 24\"\n",
              "       width=\"24px\">\n",
              "    <path d=\"M0 0h24v24H0V0z\" fill=\"none\"/>\n",
              "    <path d=\"M18.56 5.44l.94 2.06.94-2.06 2.06-.94-2.06-.94-.94-2.06-.94 2.06-2.06.94zm-11 1L8.5 8.5l.94-2.06 2.06-.94-2.06-.94L8.5 2.5l-.94 2.06-2.06.94zm10 10l.94 2.06.94-2.06 2.06-.94-2.06-.94-.94-2.06-.94 2.06-2.06.94z\"/><path d=\"M17.41 7.96l-1.37-1.37c-.4-.4-.92-.59-1.43-.59-.52 0-1.04.2-1.43.59L10.3 9.45l-7.72 7.72c-.78.78-.78 2.05 0 2.83L4 21.41c.39.39.9.59 1.41.59.51 0 1.02-.2 1.41-.59l7.78-7.78 2.81-2.81c.8-.78.8-2.07 0-2.86zM5.41 20L4 18.59l7.72-7.72 1.47 1.35L5.41 20z\"/>\n",
              "  </svg>\n",
              "      </button>\n",
              "      \n",
              "  <style>\n",
              "    .colab-df-container {\n",
              "      display:flex;\n",
              "      flex-wrap:wrap;\n",
              "      gap: 12px;\n",
              "    }\n",
              "\n",
              "    .colab-df-convert {\n",
              "      background-color: #E8F0FE;\n",
              "      border: none;\n",
              "      border-radius: 50%;\n",
              "      cursor: pointer;\n",
              "      display: none;\n",
              "      fill: #1967D2;\n",
              "      height: 32px;\n",
              "      padding: 0 0 0 0;\n",
              "      width: 32px;\n",
              "    }\n",
              "\n",
              "    .colab-df-convert:hover {\n",
              "      background-color: #E2EBFA;\n",
              "      box-shadow: 0px 1px 2px rgba(60, 64, 67, 0.3), 0px 1px 3px 1px rgba(60, 64, 67, 0.15);\n",
              "      fill: #174EA6;\n",
              "    }\n",
              "\n",
              "    [theme=dark] .colab-df-convert {\n",
              "      background-color: #3B4455;\n",
              "      fill: #D2E3FC;\n",
              "    }\n",
              "\n",
              "    [theme=dark] .colab-df-convert:hover {\n",
              "      background-color: #434B5C;\n",
              "      box-shadow: 0px 1px 3px 1px rgba(0, 0, 0, 0.15);\n",
              "      filter: drop-shadow(0px 1px 2px rgba(0, 0, 0, 0.3));\n",
              "      fill: #FFFFFF;\n",
              "    }\n",
              "  </style>\n",
              "\n",
              "      <script>\n",
              "        const buttonEl =\n",
              "          document.querySelector('#df-d53fbe36-0769-4943-be44-7aa9572d6fce button.colab-df-convert');\n",
              "        buttonEl.style.display =\n",
              "          google.colab.kernel.accessAllowed ? 'block' : 'none';\n",
              "\n",
              "        async function convertToInteractive(key) {\n",
              "          const element = document.querySelector('#df-d53fbe36-0769-4943-be44-7aa9572d6fce');\n",
              "          const dataTable =\n",
              "            await google.colab.kernel.invokeFunction('convertToInteractive',\n",
              "                                                     [key], {});\n",
              "          if (!dataTable) return;\n",
              "\n",
              "          const docLinkHtml = 'Like what you see? Visit the ' +\n",
              "            '<a target=\"_blank\" href=https://colab.research.google.com/notebooks/data_table.ipynb>data table notebook</a>'\n",
              "            + ' to learn more about interactive tables.';\n",
              "          element.innerHTML = '';\n",
              "          dataTable['output_type'] = 'display_data';\n",
              "          await google.colab.output.renderOutput(dataTable, element);\n",
              "          const docLink = document.createElement('div');\n",
              "          docLink.innerHTML = docLinkHtml;\n",
              "          element.appendChild(docLink);\n",
              "        }\n",
              "      </script>\n",
              "    </div>\n",
              "  </div>\n",
              "  "
            ]
          },
          "metadata": {},
          "execution_count": 116
        }
      ]
    },
    {
      "cell_type": "code",
      "source": [
        "values = pdf.values\n",
        "np.unique(values)"
      ],
      "metadata": {
        "id": "pPc5N43q7HzU",
        "outputId": "f034b368-a215-499c-bb73-23bd9e98e981",
        "colab": {
          "base_uri": "https://localhost:8080/"
        }
      },
      "execution_count": 117,
      "outputs": [
        {
          "output_type": "execute_result",
          "data": {
            "text/plain": [
              "array([0, 1])"
            ]
          },
          "metadata": {},
          "execution_count": 117
        }
      ]
    },
    {
      "cell_type": "code",
      "source": [
        "# split into train/test sets\n",
        "trainX, testX, trainy, testy = train_test_split(X, y, test_size=0.5, random_state=2, stratify=y)"
      ],
      "metadata": {
        "id": "qfrAqEXR1Qqj"
      },
      "execution_count": 118,
      "outputs": []
    },
    {
      "cell_type": "code",
      "source": [
        "trainX"
      ],
      "metadata": {
        "id": "-Rw13zto4GGA",
        "outputId": "5e4489f5-22a6-49e2-b554-cbb74ffa514e",
        "colab": {
          "base_uri": "https://localhost:8080/"
        }
      },
      "execution_count": 119,
      "outputs": [
        {
          "output_type": "execute_result",
          "data": {
            "text/plain": [
              "array([[-1.11537981, -0.74105383],\n",
              "       [-0.68078359,  0.17070344],\n",
              "       [-1.54656392, -2.313159  ],\n",
              "       ...,\n",
              "       [-1.74443162, -2.24271463],\n",
              "       [-0.848063  , -0.45630688],\n",
              "       [-1.0601886 , -1.33848775]])"
            ]
          },
          "metadata": {},
          "execution_count": 119
        }
      ]
    },
    {
      "cell_type": "code",
      "source": [
        "testX"
      ],
      "metadata": {
        "id": "Bk_WHNhn4loM",
        "outputId": "0e0bdce9-49d6-4d58-bbf4-157d04408487",
        "colab": {
          "base_uri": "https://localhost:8080/"
        }
      },
      "execution_count": 120,
      "outputs": [
        {
          "output_type": "execute_result",
          "data": {
            "text/plain": [
              "array([[-0.86401561, -0.64205481],\n",
              "       [-0.40323119, -0.37992457],\n",
              "       [-0.74368182, -0.11930689],\n",
              "       ...,\n",
              "       [-1.24457914, -1.56233829],\n",
              "       [-1.42171617, -1.78027982],\n",
              "       [-0.63409796, -0.99707216]])"
            ]
          },
          "metadata": {},
          "execution_count": 120
        }
      ]
    },
    {
      "cell_type": "code",
      "source": [
        "trainy"
      ],
      "metadata": {
        "id": "yZnvbbEV4oDx",
        "outputId": "2c4b90aa-531e-4773-c444-864202707983",
        "colab": {
          "base_uri": "https://localhost:8080/"
        }
      },
      "execution_count": 121,
      "outputs": [
        {
          "output_type": "execute_result",
          "data": {
            "text/plain": [
              "array([0, 0, 0, ..., 0, 0, 0])"
            ]
          },
          "metadata": {},
          "execution_count": 121
        }
      ]
    },
    {
      "cell_type": "code",
      "source": [
        "testy"
      ],
      "metadata": {
        "id": "84xZMaJF4sOy",
        "outputId": "2d5b7eee-4433-4fe3-9c1e-29c6137a5f50",
        "colab": {
          "base_uri": "https://localhost:8080/"
        }
      },
      "execution_count": 122,
      "outputs": [
        {
          "output_type": "execute_result",
          "data": {
            "text/plain": [
              "array([0, 0, 0, ..., 0, 0, 0])"
            ]
          },
          "metadata": {},
          "execution_count": 122
        }
      ]
    },
    {
      "cell_type": "code",
      "source": [
        "np.unique(testy)"
      ],
      "metadata": {
        "id": "bYG98A904whh",
        "outputId": "b046d69c-dbb0-4e56-bfb0-b156dee745a3",
        "colab": {
          "base_uri": "https://localhost:8080/"
        }
      },
      "execution_count": 123,
      "outputs": [
        {
          "output_type": "execute_result",
          "data": {
            "text/plain": [
              "array([0, 1])"
            ]
          },
          "metadata": {},
          "execution_count": 123
        }
      ]
    },
    {
      "cell_type": "code",
      "source": [
        "# define outlier detection model\n",
        "model = OneClassSVM(gamma='scale', nu=0.01)\n",
        "# fit on majority class\n",
        "trainX = trainX[trainy==0]\n",
        "model.fit(trainX)"
      ],
      "metadata": {
        "id": "nZrcB-Nl1V-L",
        "outputId": "f4b36d3a-c04f-4e45-e654-a47b310ba0ce",
        "colab": {
          "base_uri": "https://localhost:8080/"
        }
      },
      "execution_count": 124,
      "outputs": [
        {
          "output_type": "execute_result",
          "data": {
            "text/plain": [
              "OneClassSVM(nu=0.01)"
            ]
          },
          "metadata": {},
          "execution_count": 124
        }
      ]
    },
    {
      "cell_type": "code",
      "source": [
        "# detect outliers in the test set\n",
        "yhat = model.predict(testX)"
      ],
      "metadata": {
        "id": "-SB9g2iH1ZN7"
      },
      "execution_count": 125,
      "outputs": []
    },
    {
      "cell_type": "code",
      "source": [
        "# mark inliers 1, outliers -1\n",
        "testy[testy == 1] = -1\n",
        "testy[testy == 0] = 1\n",
        "# calculate score\n",
        "score = f1_score(testy, yhat, pos_label=-1)\n",
        "print('F1 Score: %.3f' % score)"
      ],
      "metadata": {
        "id": "hZB0bRnC1beb",
        "outputId": "39a5d78b-414a-4fdb-d7ad-b2650c855c64",
        "colab": {
          "base_uri": "https://localhost:8080/"
        }
      },
      "execution_count": 126,
      "outputs": [
        {
          "output_type": "stream",
          "name": "stdout",
          "text": [
            "F1 Score: 0.123\n"
          ]
        }
      ]
    },
    {
      "cell_type": "code",
      "source": [
        "# today todo:\n",
        "# do something with labels...\n",
        "# do X and y split for train and test data - need to see how this will be done\n",
        "# try model out of box"
      ],
      "metadata": {
        "id": "i_S7xpxQBSvd"
      },
      "execution_count": 127,
      "outputs": []
    },
    {
      "cell_type": "code",
      "source": [
        "# notes:\n",
        "# no na values\n",
        "# attack column will be used for labels/ classification\n",
        "# I have been looking at code from this competition website https://dacon.io/en/competitions/official/235757/codeshare?page=1&dtype=recent&ptype=pub&keyword=\n",
        "# can adjust nu to see how it performs\n",
        "# adjust gamma to see how it performs\n",
        "# find principal components? - feature extraction if performs poorly\n",
        "# will try without timestamp to see how model performs, then try with a time window?\n",
        "# look at hyper parameters to improve model\n",
        "\n",
        "# next steps:\n",
        "# vector quantization- I think we should do OCSVM model and see results then add the VQ to compare how it improves\n",
        "# model = one class vector machine - look at class notes \n",
        "#         - One-class SVM is an unsupervised algorithm that learns a decision function for novelty detection: classifying new data as similar or different to the training set."
      ],
      "metadata": {
        "id": "PrQDECQNIPHP"
      },
      "execution_count": 128,
      "outputs": []
    },
    {
      "cell_type": "markdown",
      "source": [
        "# Vector Quantization\n",
        "- class imbalance problem here due to many instances of no anomolies vs few instances of attacks (skewed dataset)\n",
        "- performance of ML will decline \n",
        "- instead of undersampling (eliminating instances) VQ compresses datasets by clustering them\n",
        "- VQ is a lossy data compression method based on principal block coding \n",
        "https://link.springer.com/content/pdf/10.1007/978-0-387-34747-9_9.pdf\n",
        "\n",
        "![algorithm for LVQ](https://d2mk45aasx86xg.cloudfront.net/Implementing_learning_vector_quantization_in_Python_a126c1c235.webp)"
      ],
      "metadata": {
        "id": "Pa3NB65jBt4C"
      }
    }
  ]
}