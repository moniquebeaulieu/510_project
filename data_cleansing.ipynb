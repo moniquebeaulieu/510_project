{
  "nbformat": 4,
  "nbformat_minor": 0,
  "metadata": {
    "colab": {
      "provenance": [],
      "collapsed_sections": [],
      "authorship_tag": "ABX9TyMZAeqS+UY1qmJY/LpJFeME",
      "include_colab_link": true
    },
    "kernelspec": {
      "name": "python3",
      "display_name": "Python 3"
    },
    "language_info": {
      "name": "python"
    },
    "accelerator": "TPU",
    "gpuClass": "standard"
  },
  "cells": [
    {
      "cell_type": "markdown",
      "metadata": {
        "id": "view-in-github",
        "colab_type": "text"
      },
      "source": [
        "<a href=\"https://colab.research.google.com/github/moniquebeaulieu/510_project/blob/main/data_cleansing.ipynb\" target=\"_parent\"><img src=\"https://colab.research.google.com/assets/colab-badge.svg\" alt=\"Open In Colab\"/></a>"
      ]
    },
    {
      "cell_type": "markdown",
      "source": [
        "## Data cleansing and Preprocessing"
      ],
      "metadata": {
        "id": "HDQMmvJRL6kU"
      }
    },
    {
      "cell_type": "markdown",
      "source": [
        "# Downloading Data From Kaggle"
      ],
      "metadata": {
        "id": "Z3goW2Y31WgK"
      }
    },
    {
      "cell_type": "code",
      "source": [
        "# how to add kaggle data sets to colab\n",
        "# https://medium.com/analytics-vidhya/how-to-download-kaggle-datasets-into-google-colab-via-google-drive-dcb348d7af07\n",
        "\n",
        "# mounting google drive\n",
        "from google.colab import drive\n",
        "drive.mount('/content/drive', force_remount=True)"
      ],
      "metadata": {
        "id": "8W4eNKR84945",
        "colab": {
          "base_uri": "https://localhost:8080/"
        },
        "outputId": "4f7495fc-3e82-4b0a-8817-267768ff955d"
      },
      "execution_count": 1,
      "outputs": [
        {
          "output_type": "stream",
          "name": "stdout",
          "text": [
            "Mounted at /content/drive\n"
          ]
        }
      ]
    },
    {
      "cell_type": "code",
      "source": [
        "# setting working directory to Kaggle\n",
        "import os\n",
        "os.environ['KAGGLE_CONFIG_DIR'] = \"/content/drive/MyDrive/Kaggle\""
      ],
      "metadata": {
        "id": "bS68tWiVnd0Y"
      },
      "execution_count": 2,
      "outputs": []
    },
    {
      "cell_type": "code",
      "source": [
        "# downloading API command\n",
        "!kaggle datasets download -d icsdataset/hai-security-dataset --force --unzip"
      ],
      "metadata": {
        "colab": {
          "base_uri": "https://localhost:8080/"
        },
        "id": "N-9pEfuurpgR",
        "outputId": "3b2a7653-6fd5-4c8b-ee1b-23a355261aaf"
      },
      "execution_count": 3,
      "outputs": [
        {
          "output_type": "stream",
          "name": "stdout",
          "text": [
            "Downloading hai-security-dataset.zip to /content\n",
            " 99% 460M/465M [00:03<00:00, 133MB/s]\n",
            "100% 465M/465M [00:03<00:00, 159MB/s]\n"
          ]
        }
      ]
    },
    {
      "cell_type": "code",
      "source": [
        "%ls"
      ],
      "metadata": {
        "colab": {
          "base_uri": "https://localhost:8080/"
        },
        "id": "E3mqiDih1PuA",
        "outputId": "765ea114-0c4f-42a7-9d80-30cbfa267f1a"
      },
      "execution_count": 4,
      "outputs": [
        {
          "output_type": "stream",
          "name": "stdout",
          "text": [
            "\u001b[0m\u001b[01;34mdrive\u001b[0m/      \u001b[01;34mhai-21.03\u001b[0m/  hai_dataset_technical_details_v3.0.pdf\n",
            "\u001b[01;34mhai-20.07\u001b[0m/  \u001b[01;34mhai-22.04\u001b[0m/  \u001b[01;34msample_data\u001b[0m/\n"
          ]
        }
      ]
    },
    {
      "cell_type": "markdown",
      "source": [
        "Following code is a similar structure to code found here https://dacon.io/en/competitions/official/235757/codeshare/3652?page=1&dtype=recent"
      ],
      "metadata": {
        "id": "vYGsSLAAFZ3j"
      }
    },
    {
      "cell_type": "markdown",
      "source": [
        "# Import libraries"
      ],
      "metadata": {
        "id": "jJa5VhqgLfd3"
      }
    },
    {
      "cell_type": "code",
      "source": [
        "import sys\n",
        "from pathlib import Path\n",
        "from datetime import timedelta\n",
        "import dateutil\n",
        "import numpy as np\n",
        "import matplotlib.pyplot as plt\n",
        "import pandas as pd\n",
        "import torch"
      ],
      "metadata": {
        "id": "OaUYpO8WAvk2"
      },
      "execution_count": 5,
      "outputs": []
    },
    {
      "cell_type": "markdown",
      "source": [
        "# Utility functions"
      ],
      "metadata": {
        "id": "slZSxjAvLcOz"
      }
    },
    {
      "cell_type": "code",
      "source": [
        "def dataframe_from_csv(target):\n",
        "    return pd.read_csv(target).rename(columns=lambda x: x.strip())\n",
        "\n",
        "def dataframe_from_csvs(targets):\n",
        "    return pd.concat([x for x in targets])"
      ],
      "metadata": {
        "id": "LMYYsE8yArI9"
      },
      "execution_count": 6,
      "outputs": []
    },
    {
      "cell_type": "markdown",
      "source": [
        "# Dataframe preparation"
      ],
      "metadata": {
        "id": "AObC23EXLp7P"
      }
    },
    {
      "cell_type": "code",
      "source": [
        "# downloading each train csv (differnt csv b/c taken in different time periods)\n",
        "\n",
        "train1_raw = dataframe_from_csv(\"/content/hai-22.04/train1.csv\") \n",
        "train2_raw = dataframe_from_csv(\"/content/hai-22.04/train2.csv\") \n",
        "train3_raw = dataframe_from_csv(\"/content/hai-22.04/train3.csv\") \n",
        "train4_raw = dataframe_from_csv(\"/content/hai-22.04/train4.csv\") \n",
        "train5_raw = dataframe_from_csv(\"/content/hai-22.04/train5.csv\") \n",
        "train6_raw = dataframe_from_csv(\"/content/hai-22.04/train6.csv\") "
      ],
      "metadata": {
        "id": "1PI1O8X7AhpR"
      },
      "execution_count": 7,
      "outputs": []
    },
    {
      "cell_type": "code",
      "source": [
        "# concatenating all train data\n",
        "\n",
        "train = [train1_raw, train2_raw, train3_raw, train4_raw, train5_raw, train6_raw]\n",
        "train_df_raw = dataframe_from_csvs(train)\n",
        "train_df_raw.shape"
      ],
      "metadata": {
        "colab": {
          "base_uri": "https://localhost:8080/"
        },
        "id": "l5TS5U5SKoc5",
        "outputId": "a0f9de5b-360f-4f92-d4af-0fc07fd7fbd4"
      },
      "execution_count": 8,
      "outputs": [
        {
          "output_type": "execute_result",
          "data": {
            "text/plain": [
              "(1004402, 88)"
            ]
          },
          "metadata": {},
          "execution_count": 8
        }
      ]
    },
    {
      "cell_type": "code",
      "source": [
        "train_df_raw.dtypes "
      ],
      "metadata": {
        "colab": {
          "base_uri": "https://localhost:8080/"
        },
        "id": "t3m8xxhpDWNg",
        "outputId": "6efb27b0-fde3-493a-f22b-a8b90f157f2e"
      },
      "execution_count": 9,
      "outputs": [
        {
          "output_type": "execute_result",
          "data": {
            "text/plain": [
              "timestamp      object\n",
              "P1_B2004      float64\n",
              "P1_B2016      float64\n",
              "P1_B3004      float64\n",
              "P1_B3005      float64\n",
              "               ...   \n",
              "P4_ST_PO      float64\n",
              "P4_ST_PS      float64\n",
              "P4_ST_PT01      int64\n",
              "P4_ST_TT01      int64\n",
              "Attack          int64\n",
              "Length: 88, dtype: object"
            ]
          },
          "metadata": {},
          "execution_count": 9
        }
      ]
    },
    {
      "cell_type": "code",
      "source": [
        "train_df_raw.head(3)"
      ],
      "metadata": {
        "colab": {
          "base_uri": "https://localhost:8080/",
          "height": 173
        },
        "id": "cW4snQnzONIU",
        "outputId": "49dbcc50-2a6d-44e1-ceef-513880480c35"
      },
      "execution_count": 10,
      "outputs": [
        {
          "output_type": "execute_result",
          "data": {
            "text/plain": [
              "             timestamp  P1_B2004  P1_B2016   P1_B3004    P1_B3005  P1_B4002  \\\n",
              "0  2021-07-11 10:00:00   0.08771   0.88504  476.76703  1014.79321  26.92264   \n",
              "1  2021-07-11 10:00:01   0.08771   0.88619  476.76703  1014.79321  26.92264   \n",
              "2  2021-07-11 10:00:02   0.08771   0.88836  476.76703  1014.79321  26.92264   \n",
              "\n",
              "   P1_B4005   P1_B400B  P1_B4022  P1_FCV01D  ...  P4_HT_PS      P4_LD  \\\n",
              "0  15.07713  595.06104  30.08042   15.50464  ...   7.08818  276.40338   \n",
              "1  14.97197  531.50317  30.08423   16.20023  ...   7.08818  276.18634   \n",
              "2  14.90129  451.06253  30.09148   16.53352  ...   7.08818  279.85754   \n",
              "\n",
              "   P4_ST_FD  P4_ST_GOV   P4_ST_LD   P4_ST_PO  P4_ST_PS  P4_ST_PT01  \\\n",
              "0  -0.00087      14742  276.45758  267.90363   8.90254        9914   \n",
              "1   0.00058      14781  278.91705  268.95258   8.90254        9914   \n",
              "2  -0.00072      14831  278.89899  269.76636   8.90254        9914   \n",
              "\n",
              "   P4_ST_TT01  Attack  \n",
              "0       27170       0  \n",
              "1       27171       0  \n",
              "2       27170       0  \n",
              "\n",
              "[3 rows x 88 columns]"
            ],
            "text/html": [
              "\n",
              "  <div id=\"df-2f844a40-bc87-4310-9886-bf9547881ef7\">\n",
              "    <div class=\"colab-df-container\">\n",
              "      <div>\n",
              "<style scoped>\n",
              "    .dataframe tbody tr th:only-of-type {\n",
              "        vertical-align: middle;\n",
              "    }\n",
              "\n",
              "    .dataframe tbody tr th {\n",
              "        vertical-align: top;\n",
              "    }\n",
              "\n",
              "    .dataframe thead th {\n",
              "        text-align: right;\n",
              "    }\n",
              "</style>\n",
              "<table border=\"1\" class=\"dataframe\">\n",
              "  <thead>\n",
              "    <tr style=\"text-align: right;\">\n",
              "      <th></th>\n",
              "      <th>timestamp</th>\n",
              "      <th>P1_B2004</th>\n",
              "      <th>P1_B2016</th>\n",
              "      <th>P1_B3004</th>\n",
              "      <th>P1_B3005</th>\n",
              "      <th>P1_B4002</th>\n",
              "      <th>P1_B4005</th>\n",
              "      <th>P1_B400B</th>\n",
              "      <th>P1_B4022</th>\n",
              "      <th>P1_FCV01D</th>\n",
              "      <th>...</th>\n",
              "      <th>P4_HT_PS</th>\n",
              "      <th>P4_LD</th>\n",
              "      <th>P4_ST_FD</th>\n",
              "      <th>P4_ST_GOV</th>\n",
              "      <th>P4_ST_LD</th>\n",
              "      <th>P4_ST_PO</th>\n",
              "      <th>P4_ST_PS</th>\n",
              "      <th>P4_ST_PT01</th>\n",
              "      <th>P4_ST_TT01</th>\n",
              "      <th>Attack</th>\n",
              "    </tr>\n",
              "  </thead>\n",
              "  <tbody>\n",
              "    <tr>\n",
              "      <th>0</th>\n",
              "      <td>2021-07-11 10:00:00</td>\n",
              "      <td>0.08771</td>\n",
              "      <td>0.88504</td>\n",
              "      <td>476.76703</td>\n",
              "      <td>1014.79321</td>\n",
              "      <td>26.92264</td>\n",
              "      <td>15.07713</td>\n",
              "      <td>595.06104</td>\n",
              "      <td>30.08042</td>\n",
              "      <td>15.50464</td>\n",
              "      <td>...</td>\n",
              "      <td>7.08818</td>\n",
              "      <td>276.40338</td>\n",
              "      <td>-0.00087</td>\n",
              "      <td>14742</td>\n",
              "      <td>276.45758</td>\n",
              "      <td>267.90363</td>\n",
              "      <td>8.90254</td>\n",
              "      <td>9914</td>\n",
              "      <td>27170</td>\n",
              "      <td>0</td>\n",
              "    </tr>\n",
              "    <tr>\n",
              "      <th>1</th>\n",
              "      <td>2021-07-11 10:00:01</td>\n",
              "      <td>0.08771</td>\n",
              "      <td>0.88619</td>\n",
              "      <td>476.76703</td>\n",
              "      <td>1014.79321</td>\n",
              "      <td>26.92264</td>\n",
              "      <td>14.97197</td>\n",
              "      <td>531.50317</td>\n",
              "      <td>30.08423</td>\n",
              "      <td>16.20023</td>\n",
              "      <td>...</td>\n",
              "      <td>7.08818</td>\n",
              "      <td>276.18634</td>\n",
              "      <td>0.00058</td>\n",
              "      <td>14781</td>\n",
              "      <td>278.91705</td>\n",
              "      <td>268.95258</td>\n",
              "      <td>8.90254</td>\n",
              "      <td>9914</td>\n",
              "      <td>27171</td>\n",
              "      <td>0</td>\n",
              "    </tr>\n",
              "    <tr>\n",
              "      <th>2</th>\n",
              "      <td>2021-07-11 10:00:02</td>\n",
              "      <td>0.08771</td>\n",
              "      <td>0.88836</td>\n",
              "      <td>476.76703</td>\n",
              "      <td>1014.79321</td>\n",
              "      <td>26.92264</td>\n",
              "      <td>14.90129</td>\n",
              "      <td>451.06253</td>\n",
              "      <td>30.09148</td>\n",
              "      <td>16.53352</td>\n",
              "      <td>...</td>\n",
              "      <td>7.08818</td>\n",
              "      <td>279.85754</td>\n",
              "      <td>-0.00072</td>\n",
              "      <td>14831</td>\n",
              "      <td>278.89899</td>\n",
              "      <td>269.76636</td>\n",
              "      <td>8.90254</td>\n",
              "      <td>9914</td>\n",
              "      <td>27170</td>\n",
              "      <td>0</td>\n",
              "    </tr>\n",
              "  </tbody>\n",
              "</table>\n",
              "<p>3 rows × 88 columns</p>\n",
              "</div>\n",
              "      <button class=\"colab-df-convert\" onclick=\"convertToInteractive('df-2f844a40-bc87-4310-9886-bf9547881ef7')\"\n",
              "              title=\"Convert this dataframe to an interactive table.\"\n",
              "              style=\"display:none;\">\n",
              "        \n",
              "  <svg xmlns=\"http://www.w3.org/2000/svg\" height=\"24px\"viewBox=\"0 0 24 24\"\n",
              "       width=\"24px\">\n",
              "    <path d=\"M0 0h24v24H0V0z\" fill=\"none\"/>\n",
              "    <path d=\"M18.56 5.44l.94 2.06.94-2.06 2.06-.94-2.06-.94-.94-2.06-.94 2.06-2.06.94zm-11 1L8.5 8.5l.94-2.06 2.06-.94-2.06-.94L8.5 2.5l-.94 2.06-2.06.94zm10 10l.94 2.06.94-2.06 2.06-.94-2.06-.94-.94-2.06-.94 2.06-2.06.94z\"/><path d=\"M17.41 7.96l-1.37-1.37c-.4-.4-.92-.59-1.43-.59-.52 0-1.04.2-1.43.59L10.3 9.45l-7.72 7.72c-.78.78-.78 2.05 0 2.83L4 21.41c.39.39.9.59 1.41.59.51 0 1.02-.2 1.41-.59l7.78-7.78 2.81-2.81c.8-.78.8-2.07 0-2.86zM5.41 20L4 18.59l7.72-7.72 1.47 1.35L5.41 20z\"/>\n",
              "  </svg>\n",
              "      </button>\n",
              "      \n",
              "  <style>\n",
              "    .colab-df-container {\n",
              "      display:flex;\n",
              "      flex-wrap:wrap;\n",
              "      gap: 12px;\n",
              "    }\n",
              "\n",
              "    .colab-df-convert {\n",
              "      background-color: #E8F0FE;\n",
              "      border: none;\n",
              "      border-radius: 50%;\n",
              "      cursor: pointer;\n",
              "      display: none;\n",
              "      fill: #1967D2;\n",
              "      height: 32px;\n",
              "      padding: 0 0 0 0;\n",
              "      width: 32px;\n",
              "    }\n",
              "\n",
              "    .colab-df-convert:hover {\n",
              "      background-color: #E2EBFA;\n",
              "      box-shadow: 0px 1px 2px rgba(60, 64, 67, 0.3), 0px 1px 3px 1px rgba(60, 64, 67, 0.15);\n",
              "      fill: #174EA6;\n",
              "    }\n",
              "\n",
              "    [theme=dark] .colab-df-convert {\n",
              "      background-color: #3B4455;\n",
              "      fill: #D2E3FC;\n",
              "    }\n",
              "\n",
              "    [theme=dark] .colab-df-convert:hover {\n",
              "      background-color: #434B5C;\n",
              "      box-shadow: 0px 1px 3px 1px rgba(0, 0, 0, 0.15);\n",
              "      filter: drop-shadow(0px 1px 2px rgba(0, 0, 0, 0.3));\n",
              "      fill: #FFFFFF;\n",
              "    }\n",
              "  </style>\n",
              "\n",
              "      <script>\n",
              "        const buttonEl =\n",
              "          document.querySelector('#df-2f844a40-bc87-4310-9886-bf9547881ef7 button.colab-df-convert');\n",
              "        buttonEl.style.display =\n",
              "          google.colab.kernel.accessAllowed ? 'block' : 'none';\n",
              "\n",
              "        async function convertToInteractive(key) {\n",
              "          const element = document.querySelector('#df-2f844a40-bc87-4310-9886-bf9547881ef7');\n",
              "          const dataTable =\n",
              "            await google.colab.kernel.invokeFunction('convertToInteractive',\n",
              "                                                     [key], {});\n",
              "          if (!dataTable) return;\n",
              "\n",
              "          const docLinkHtml = 'Like what you see? Visit the ' +\n",
              "            '<a target=\"_blank\" href=https://colab.research.google.com/notebooks/data_table.ipynb>data table notebook</a>'\n",
              "            + ' to learn more about interactive tables.';\n",
              "          element.innerHTML = '';\n",
              "          dataTable['output_type'] = 'display_data';\n",
              "          await google.colab.output.renderOutput(dataTable, element);\n",
              "          const docLink = document.createElement('div');\n",
              "          docLink.innerHTML = docLinkHtml;\n",
              "          element.appendChild(docLink);\n",
              "        }\n",
              "      </script>\n",
              "    </div>\n",
              "  </div>\n",
              "  "
            ]
          },
          "metadata": {},
          "execution_count": 10
        }
      ]
    },
    {
      "cell_type": "code",
      "source": [
        "train_df_raw.Attack.unique() # Train data has no attacks which is what we want. can drop attack column"
      ],
      "metadata": {
        "id": "IzONOM5io_nV",
        "outputId": "8f278c49-27e2-49d3-a960-694b3fc32180",
        "colab": {
          "base_uri": "https://localhost:8080/"
        }
      },
      "execution_count": 11,
      "outputs": [
        {
          "output_type": "execute_result",
          "data": {
            "text/plain": [
              "array([0])"
            ]
          },
          "metadata": {},
          "execution_count": 11
        }
      ]
    },
    {
      "cell_type": "code",
      "source": [
        "# downloading each test csv (differnt csv b/c taken in different time periods) NOTE: train and test data have been pre-split in this public dataset\n",
        "\n",
        "test1_raw = dataframe_from_csv(\"/content/hai-22.04/test1.csv\") \n",
        "test2_raw = dataframe_from_csv(\"/content/hai-22.04/test2.csv\") \n",
        "test3_raw = dataframe_from_csv(\"/content/hai-22.04/test3.csv\") \n",
        "test4_raw = dataframe_from_csv(\"/content/hai-22.04/test4.csv\") "
      ],
      "metadata": {
        "id": "zHIZ35iaHDvI"
      },
      "execution_count": 12,
      "outputs": []
    },
    {
      "cell_type": "code",
      "source": [
        "# concatenating all test data\n",
        "\n",
        "test = [test1_raw, test2_raw, test3_raw, test4_raw]\n",
        "test_df_raw = dataframe_from_csvs(test)\n",
        "test_df_raw.shape"
      ],
      "metadata": {
        "colab": {
          "base_uri": "https://localhost:8080/"
        },
        "id": "Hsn98PCnMgQF",
        "outputId": "21fd495e-9e18-45c8-efab-920b3f50bf8a"
      },
      "execution_count": 13,
      "outputs": [
        {
          "output_type": "execute_result",
          "data": {
            "text/plain": [
              "(361200, 88)"
            ]
          },
          "metadata": {},
          "execution_count": 13
        }
      ]
    },
    {
      "cell_type": "code",
      "source": [
        "test_df_raw.dtypes"
      ],
      "metadata": {
        "colab": {
          "base_uri": "https://localhost:8080/"
        },
        "id": "yXFr5snUIJNd",
        "outputId": "067e4378-bde3-475e-a59a-d895778a5fba"
      },
      "execution_count": 14,
      "outputs": [
        {
          "output_type": "execute_result",
          "data": {
            "text/plain": [
              "timestamp      object\n",
              "P1_B2004      float64\n",
              "P1_B2016      float64\n",
              "P1_B3004      float64\n",
              "P1_B3005      float64\n",
              "               ...   \n",
              "P4_ST_PO      float64\n",
              "P4_ST_PS      float64\n",
              "P4_ST_PT01      int64\n",
              "P4_ST_TT01      int64\n",
              "Attack          int64\n",
              "Length: 88, dtype: object"
            ]
          },
          "metadata": {},
          "execution_count": 14
        }
      ]
    },
    {
      "cell_type": "code",
      "source": [
        "test_df_raw.head(3)"
      ],
      "metadata": {
        "colab": {
          "base_uri": "https://localhost:8080/",
          "height": 173
        },
        "id": "2ELEg6a0BPW6",
        "outputId": "8c3b2eb0-9222-41be-ab8a-38384395474e"
      },
      "execution_count": 15,
      "outputs": [
        {
          "output_type": "execute_result",
          "data": {
            "text/plain": [
              "             timestamp  P1_B2004  P1_B2016    P1_B3004     P1_B3005  \\\n",
              "0  2021-07-10 00:00:01  0.059445   1.04366  431.328095  1034.712769   \n",
              "1  2021-07-10 00:00:02  0.059445   1.04217  431.328095  1034.712769   \n",
              "2  2021-07-10 00:00:03  0.059445   1.03920  431.328095  1034.712769   \n",
              "\n",
              "    P1_B4002  P1_B4005   P1_B400B  P1_B4022  P1_FCV01D  ...  P4_HT_PS  \\\n",
              "0  27.736847   14.9131  386.51172  31.52100   15.09755  ...  0.716042   \n",
              "1  27.736847   14.9554  411.33905  31.51756   14.71477  ...  0.716042   \n",
              "2  27.736847   14.9920  438.15259  31.50269   14.30731  ...  0.716042   \n",
              "\n",
              "       P4_LD  P4_ST_FD  P4_ST_GOV   P4_ST_LD   P4_ST_PO   P4_ST_PS  \\\n",
              "0  356.64423   0.00058      18131  292.86029  334.58112  20.989594   \n",
              "1  352.08698  -0.00282      18111  295.82605  332.97162  20.989594   \n",
              "2  347.63818  -0.00398      18100  300.02173  332.15784  20.989594   \n",
              "\n",
              "   P4_ST_PT01  P4_ST_TT01  Attack  \n",
              "0       10000       27181       0  \n",
              "1        9999       27174       0  \n",
              "2        9999       27172       0  \n",
              "\n",
              "[3 rows x 88 columns]"
            ],
            "text/html": [
              "\n",
              "  <div id=\"df-ab7262ab-e338-4ed4-ae67-df28e63fc766\">\n",
              "    <div class=\"colab-df-container\">\n",
              "      <div>\n",
              "<style scoped>\n",
              "    .dataframe tbody tr th:only-of-type {\n",
              "        vertical-align: middle;\n",
              "    }\n",
              "\n",
              "    .dataframe tbody tr th {\n",
              "        vertical-align: top;\n",
              "    }\n",
              "\n",
              "    .dataframe thead th {\n",
              "        text-align: right;\n",
              "    }\n",
              "</style>\n",
              "<table border=\"1\" class=\"dataframe\">\n",
              "  <thead>\n",
              "    <tr style=\"text-align: right;\">\n",
              "      <th></th>\n",
              "      <th>timestamp</th>\n",
              "      <th>P1_B2004</th>\n",
              "      <th>P1_B2016</th>\n",
              "      <th>P1_B3004</th>\n",
              "      <th>P1_B3005</th>\n",
              "      <th>P1_B4002</th>\n",
              "      <th>P1_B4005</th>\n",
              "      <th>P1_B400B</th>\n",
              "      <th>P1_B4022</th>\n",
              "      <th>P1_FCV01D</th>\n",
              "      <th>...</th>\n",
              "      <th>P4_HT_PS</th>\n",
              "      <th>P4_LD</th>\n",
              "      <th>P4_ST_FD</th>\n",
              "      <th>P4_ST_GOV</th>\n",
              "      <th>P4_ST_LD</th>\n",
              "      <th>P4_ST_PO</th>\n",
              "      <th>P4_ST_PS</th>\n",
              "      <th>P4_ST_PT01</th>\n",
              "      <th>P4_ST_TT01</th>\n",
              "      <th>Attack</th>\n",
              "    </tr>\n",
              "  </thead>\n",
              "  <tbody>\n",
              "    <tr>\n",
              "      <th>0</th>\n",
              "      <td>2021-07-10 00:00:01</td>\n",
              "      <td>0.059445</td>\n",
              "      <td>1.04366</td>\n",
              "      <td>431.328095</td>\n",
              "      <td>1034.712769</td>\n",
              "      <td>27.736847</td>\n",
              "      <td>14.9131</td>\n",
              "      <td>386.51172</td>\n",
              "      <td>31.52100</td>\n",
              "      <td>15.09755</td>\n",
              "      <td>...</td>\n",
              "      <td>0.716042</td>\n",
              "      <td>356.64423</td>\n",
              "      <td>0.00058</td>\n",
              "      <td>18131</td>\n",
              "      <td>292.86029</td>\n",
              "      <td>334.58112</td>\n",
              "      <td>20.989594</td>\n",
              "      <td>10000</td>\n",
              "      <td>27181</td>\n",
              "      <td>0</td>\n",
              "    </tr>\n",
              "    <tr>\n",
              "      <th>1</th>\n",
              "      <td>2021-07-10 00:00:02</td>\n",
              "      <td>0.059445</td>\n",
              "      <td>1.04217</td>\n",
              "      <td>431.328095</td>\n",
              "      <td>1034.712769</td>\n",
              "      <td>27.736847</td>\n",
              "      <td>14.9554</td>\n",
              "      <td>411.33905</td>\n",
              "      <td>31.51756</td>\n",
              "      <td>14.71477</td>\n",
              "      <td>...</td>\n",
              "      <td>0.716042</td>\n",
              "      <td>352.08698</td>\n",
              "      <td>-0.00282</td>\n",
              "      <td>18111</td>\n",
              "      <td>295.82605</td>\n",
              "      <td>332.97162</td>\n",
              "      <td>20.989594</td>\n",
              "      <td>9999</td>\n",
              "      <td>27174</td>\n",
              "      <td>0</td>\n",
              "    </tr>\n",
              "    <tr>\n",
              "      <th>2</th>\n",
              "      <td>2021-07-10 00:00:03</td>\n",
              "      <td>0.059445</td>\n",
              "      <td>1.03920</td>\n",
              "      <td>431.328095</td>\n",
              "      <td>1034.712769</td>\n",
              "      <td>27.736847</td>\n",
              "      <td>14.9920</td>\n",
              "      <td>438.15259</td>\n",
              "      <td>31.50269</td>\n",
              "      <td>14.30731</td>\n",
              "      <td>...</td>\n",
              "      <td>0.716042</td>\n",
              "      <td>347.63818</td>\n",
              "      <td>-0.00398</td>\n",
              "      <td>18100</td>\n",
              "      <td>300.02173</td>\n",
              "      <td>332.15784</td>\n",
              "      <td>20.989594</td>\n",
              "      <td>9999</td>\n",
              "      <td>27172</td>\n",
              "      <td>0</td>\n",
              "    </tr>\n",
              "  </tbody>\n",
              "</table>\n",
              "<p>3 rows × 88 columns</p>\n",
              "</div>\n",
              "      <button class=\"colab-df-convert\" onclick=\"convertToInteractive('df-ab7262ab-e338-4ed4-ae67-df28e63fc766')\"\n",
              "              title=\"Convert this dataframe to an interactive table.\"\n",
              "              style=\"display:none;\">\n",
              "        \n",
              "  <svg xmlns=\"http://www.w3.org/2000/svg\" height=\"24px\"viewBox=\"0 0 24 24\"\n",
              "       width=\"24px\">\n",
              "    <path d=\"M0 0h24v24H0V0z\" fill=\"none\"/>\n",
              "    <path d=\"M18.56 5.44l.94 2.06.94-2.06 2.06-.94-2.06-.94-.94-2.06-.94 2.06-2.06.94zm-11 1L8.5 8.5l.94-2.06 2.06-.94-2.06-.94L8.5 2.5l-.94 2.06-2.06.94zm10 10l.94 2.06.94-2.06 2.06-.94-2.06-.94-.94-2.06-.94 2.06-2.06.94z\"/><path d=\"M17.41 7.96l-1.37-1.37c-.4-.4-.92-.59-1.43-.59-.52 0-1.04.2-1.43.59L10.3 9.45l-7.72 7.72c-.78.78-.78 2.05 0 2.83L4 21.41c.39.39.9.59 1.41.59.51 0 1.02-.2 1.41-.59l7.78-7.78 2.81-2.81c.8-.78.8-2.07 0-2.86zM5.41 20L4 18.59l7.72-7.72 1.47 1.35L5.41 20z\"/>\n",
              "  </svg>\n",
              "      </button>\n",
              "      \n",
              "  <style>\n",
              "    .colab-df-container {\n",
              "      display:flex;\n",
              "      flex-wrap:wrap;\n",
              "      gap: 12px;\n",
              "    }\n",
              "\n",
              "    .colab-df-convert {\n",
              "      background-color: #E8F0FE;\n",
              "      border: none;\n",
              "      border-radius: 50%;\n",
              "      cursor: pointer;\n",
              "      display: none;\n",
              "      fill: #1967D2;\n",
              "      height: 32px;\n",
              "      padding: 0 0 0 0;\n",
              "      width: 32px;\n",
              "    }\n",
              "\n",
              "    .colab-df-convert:hover {\n",
              "      background-color: #E2EBFA;\n",
              "      box-shadow: 0px 1px 2px rgba(60, 64, 67, 0.3), 0px 1px 3px 1px rgba(60, 64, 67, 0.15);\n",
              "      fill: #174EA6;\n",
              "    }\n",
              "\n",
              "    [theme=dark] .colab-df-convert {\n",
              "      background-color: #3B4455;\n",
              "      fill: #D2E3FC;\n",
              "    }\n",
              "\n",
              "    [theme=dark] .colab-df-convert:hover {\n",
              "      background-color: #434B5C;\n",
              "      box-shadow: 0px 1px 3px 1px rgba(0, 0, 0, 0.15);\n",
              "      filter: drop-shadow(0px 1px 2px rgba(0, 0, 0, 0.3));\n",
              "      fill: #FFFFFF;\n",
              "    }\n",
              "  </style>\n",
              "\n",
              "      <script>\n",
              "        const buttonEl =\n",
              "          document.querySelector('#df-ab7262ab-e338-4ed4-ae67-df28e63fc766 button.colab-df-convert');\n",
              "        buttonEl.style.display =\n",
              "          google.colab.kernel.accessAllowed ? 'block' : 'none';\n",
              "\n",
              "        async function convertToInteractive(key) {\n",
              "          const element = document.querySelector('#df-ab7262ab-e338-4ed4-ae67-df28e63fc766');\n",
              "          const dataTable =\n",
              "            await google.colab.kernel.invokeFunction('convertToInteractive',\n",
              "                                                     [key], {});\n",
              "          if (!dataTable) return;\n",
              "\n",
              "          const docLinkHtml = 'Like what you see? Visit the ' +\n",
              "            '<a target=\"_blank\" href=https://colab.research.google.com/notebooks/data_table.ipynb>data table notebook</a>'\n",
              "            + ' to learn more about interactive tables.';\n",
              "          element.innerHTML = '';\n",
              "          dataTable['output_type'] = 'display_data';\n",
              "          await google.colab.output.renderOutput(dataTable, element);\n",
              "          const docLink = document.createElement('div');\n",
              "          docLink.innerHTML = docLinkHtml;\n",
              "          element.appendChild(docLink);\n",
              "        }\n",
              "      </script>\n",
              "    </div>\n",
              "  </div>\n",
              "  "
            ]
          },
          "metadata": {},
          "execution_count": 15
        }
      ]
    },
    {
      "cell_type": "code",
      "source": [
        "test_df_raw.Attack.unique()"
      ],
      "metadata": {
        "id": "PHYl1HE8oelN",
        "outputId": "74633119-4fe3-451c-ea43-68cbc9154c0d",
        "colab": {
          "base_uri": "https://localhost:8080/"
        }
      },
      "execution_count": 16,
      "outputs": [
        {
          "output_type": "execute_result",
          "data": {
            "text/plain": [
              "array([0, 1])"
            ]
          },
          "metadata": {},
          "execution_count": 16
        }
      ]
    },
    {
      "cell_type": "code",
      "source": [
        "test_df_raw.Attack.value_counts()[1] # 12030 attacks in the test df, 349170 normal = 3.44%   0.03445313171234642"
      ],
      "metadata": {
        "id": "lpozywo_peJi",
        "outputId": "aff1e061-722c-4f15-f46b-1dc2ceb6754d",
        "colab": {
          "base_uri": "https://localhost:8080/"
        }
      },
      "execution_count": 17,
      "outputs": [
        {
          "output_type": "execute_result",
          "data": {
            "text/plain": [
              "12030"
            ]
          },
          "metadata": {},
          "execution_count": 17
        }
      ]
    },
    {
      "cell_type": "code",
      "source": [
        "# change the labels in the datasets from 0 and 1 for the majority and minority classes respectively, to +1 and -1.\n",
        "train_df_raw['Attack'] = train_df_raw['Attack'].replace([0, 1], [1, -1]) # normal is now 1 and attack is now -1\n",
        "test_df_raw['Attack'] = test_df_raw['Attack'].replace([0, 1], [1, -1])"
      ],
      "metadata": {
        "id": "0WjgJu-bXwlO"
      },
      "execution_count": 18,
      "outputs": []
    },
    {
      "cell_type": "code",
      "source": [
        "test_df_raw.Attack.unique()"
      ],
      "metadata": {
        "colab": {
          "base_uri": "https://localhost:8080/"
        },
        "id": "2k59Ny59ZlbR",
        "outputId": "51e5745d-95b7-47d7-bc9b-260481625d71"
      },
      "execution_count": 19,
      "outputs": [
        {
          "output_type": "execute_result",
          "data": {
            "text/plain": [
              "array([ 1, -1])"
            ]
          },
          "metadata": {},
          "execution_count": 19
        }
      ]
    },
    {
      "cell_type": "code",
      "source": [
        "# creating target with attack labels\n",
        "train_target = train_df_raw['Attack'].copy()\n",
        "test_target = test_df_raw['Attack'].copy()\n",
        "\n",
        "# dropping timestamp and attack labels (might need timestamp for window later)... can also drop features that are not used.. do principal features later\n",
        "train_raw = train_df_raw.drop(['timestamp','Attack'], axis=1).copy()\n",
        "test_raw = test_df_raw.drop(['timestamp','Attack'], axis=1).copy()\n",
        "\n",
        "# now 86 parameters and no attack label"
      ],
      "metadata": {
        "id": "EOm-80QA3Fjq"
      },
      "execution_count": 20,
      "outputs": []
    },
    {
      "cell_type": "code",
      "source": [
        "total = 1004402+361200 \n",
        "1004402/total * 100\n",
        "\n",
        "# 74% train 26 % test split "
      ],
      "metadata": {
        "colab": {
          "base_uri": "https://localhost:8080/"
        },
        "id": "kvxjZk7JbqzL",
        "outputId": "f6c32cbf-29dd-4399-b4a9-d5e7d4aaec91"
      },
      "execution_count": 21,
      "outputs": [
        {
          "output_type": "execute_result",
          "data": {
            "text/plain": [
              "73.55012661082804"
            ]
          },
          "metadata": {},
          "execution_count": 21
        }
      ]
    },
    {
      "cell_type": "markdown",
      "source": [
        "# Normalize data\n",
        "\n",
        "- use min max values so they fall within 0-1\n",
        "- using the exponential weighted function after normalization to smooth noise generated by sensors"
      ],
      "metadata": {
        "id": "TRxInUriBquw"
      }
    },
    {
      "cell_type": "code",
      "source": [
        "def normalize(df):\n",
        "  min = df.min()\n",
        "  max = df.max()\n",
        "  new_df = df.copy()\n",
        "  for col in df.columns:\n",
        "      if min[col] == max[col]:\n",
        "          new_df[col] = df[col] - min[col]\n",
        "      else:\n",
        "          new_df[col] = (df[col] - min[col]) / (max[col] - min[col])\n",
        "  return new_df\n",
        "\n",
        "  # using this method to keep as pandas df for now"
      ],
      "metadata": {
        "id": "-SzquC8YBkvM"
      },
      "execution_count": 21,
      "outputs": []
    },
    {
      "cell_type": "code",
      "source": [
        "train_df = normalize(train_raw).ewm(alpha=0.9).mean() # normalize and smooth noise\n",
        "test_df = normalize(test_raw).ewm(alpha=0.9).mean() # normalize and smooth noise\n",
        "test_df"
      ],
      "metadata": {
        "colab": {
          "base_uri": "https://localhost:8080/",
          "height": 424
        },
        "id": "ADjz9RDWO2gt",
        "outputId": "ab771544-6c00-420b-f778-24f3216f4cd2"
      },
      "execution_count": 22,
      "outputs": [
        {
          "output_type": "execute_result",
          "data": {
            "text/plain": [
              "        P1_B2004  P1_B2016  P1_B3004  P1_B3005  P1_B4002  P1_B4005  P1_B400B  \\\n",
              "0       0.000000  0.316773  0.246834  0.865356  0.971259  0.149131  0.121069   \n",
              "1       0.000000  0.315166  0.246834  0.865356  0.971259  0.149516  0.128272   \n",
              "2       0.000000  0.311848  0.246834  0.865356  0.971259  0.149880  0.136630   \n",
              "3       0.000000  0.304068  0.246834  0.865356  0.971259  0.150110  0.145446   \n",
              "4       0.000000  0.300356  0.246834  0.865356  0.971259  0.150440  0.142333   \n",
              "...          ...       ...       ...       ...       ...       ...       ...   \n",
              "129595  0.072406  0.323699  0.674401  0.653310  0.096372  0.298944  0.333665   \n",
              "129596  0.072406  0.324841  0.674401  0.653310  0.096372  0.299480  0.326022   \n",
              "129597  0.072406  0.322628  0.674401  0.653310  0.096372  0.299920  0.312425   \n",
              "129598  0.072406  0.316173  0.674401  0.653310  0.096372  0.300228  0.293328   \n",
              "129599  0.072406  0.313574  0.674401  0.653310  0.096372  0.300633  0.278054   \n",
              "\n",
              "        P1_B4022  P1_FCV01D  P1_FCV01Z  ...  P4_HT_PO  P4_HT_PS     P4_LD  \\\n",
              "0       0.685155   0.240077   0.254971  ...  0.831028  0.000000  0.468399   \n",
              "1       0.684496   0.234543   0.249680  ...  0.857520  0.000000  0.453013   \n",
              "2       0.681614   0.228208   0.232601  ...  0.820810  0.000000  0.436742   \n",
              "3       0.676915   0.231046   0.229928  ...  0.701315  0.000000  0.410708   \n",
              "4       0.676446   0.241279   0.230534  ...  0.666735  0.000000  0.390879   \n",
              "...          ...        ...        ...  ...       ...       ...       ...   \n",
              "129595  0.249624   0.226953   0.235446  ...  0.422847  0.182591  0.530327   \n",
              "129596  0.250297   0.237697   0.216137  ...  0.446059  0.182591  0.541507   \n",
              "129597  0.248991   0.252867   0.212787  ...  0.467248  0.182591  0.546313   \n",
              "129598  0.245170   0.265238   0.212234  ...  0.491442  0.182591  0.550904   \n",
              "129599  0.243632   0.274692   0.228656  ...  0.509899  0.182591  0.548764   \n",
              "\n",
              "        P4_ST_FD  P4_ST_GOV  P4_ST_LD  P4_ST_PO  P4_ST_PS  P4_ST_PT01  \\\n",
              "0       0.467667   0.384527  0.236058  0.391359  0.654622    0.571675   \n",
              "1       0.357238   0.383226  0.246136  0.385738  0.654622    0.570105   \n",
              "2       0.309953   0.382400  0.261173  0.382416  0.654622    0.569964   \n",
              "3       0.384379   0.375876  0.269659  0.377961  0.654622    0.569950   \n",
              "4       0.463841   0.365692  0.280363  0.370826  0.654622    0.569948   \n",
              "...          ...        ...       ...       ...       ...         ...   \n",
              "129595  0.460777   0.373407  0.330826  0.364010  0.921419    0.429155   \n",
              "129596  0.297203   0.379679  0.329371  0.363680  0.921419    0.428408   \n",
              "129597  0.390170   0.374510  0.333728  0.361083  0.921419    0.426779   \n",
              "129598  0.469242   0.372254  0.326315  0.360323  0.921419    0.426616   \n",
              "129599  0.465574   0.369581  0.331354  0.357747  0.921419    0.426599   \n",
              "\n",
              "        P4_ST_TT01  \n",
              "0         0.587387  \n",
              "1         0.575921  \n",
              "2         0.571642  \n",
              "3         0.564731  \n",
              "4         0.570527  \n",
              "...            ...  \n",
              "129595    0.209645  \n",
              "129596    0.207451  \n",
              "129597    0.212096  \n",
              "129598    0.215804  \n",
              "129599    0.204824  \n",
              "\n",
              "[361200 rows x 86 columns]"
            ],
            "text/html": [
              "\n",
              "  <div id=\"df-479d58d4-96aa-4dd8-9947-11bd56920131\">\n",
              "    <div class=\"colab-df-container\">\n",
              "      <div>\n",
              "<style scoped>\n",
              "    .dataframe tbody tr th:only-of-type {\n",
              "        vertical-align: middle;\n",
              "    }\n",
              "\n",
              "    .dataframe tbody tr th {\n",
              "        vertical-align: top;\n",
              "    }\n",
              "\n",
              "    .dataframe thead th {\n",
              "        text-align: right;\n",
              "    }\n",
              "</style>\n",
              "<table border=\"1\" class=\"dataframe\">\n",
              "  <thead>\n",
              "    <tr style=\"text-align: right;\">\n",
              "      <th></th>\n",
              "      <th>P1_B2004</th>\n",
              "      <th>P1_B2016</th>\n",
              "      <th>P1_B3004</th>\n",
              "      <th>P1_B3005</th>\n",
              "      <th>P1_B4002</th>\n",
              "      <th>P1_B4005</th>\n",
              "      <th>P1_B400B</th>\n",
              "      <th>P1_B4022</th>\n",
              "      <th>P1_FCV01D</th>\n",
              "      <th>P1_FCV01Z</th>\n",
              "      <th>...</th>\n",
              "      <th>P4_HT_PO</th>\n",
              "      <th>P4_HT_PS</th>\n",
              "      <th>P4_LD</th>\n",
              "      <th>P4_ST_FD</th>\n",
              "      <th>P4_ST_GOV</th>\n",
              "      <th>P4_ST_LD</th>\n",
              "      <th>P4_ST_PO</th>\n",
              "      <th>P4_ST_PS</th>\n",
              "      <th>P4_ST_PT01</th>\n",
              "      <th>P4_ST_TT01</th>\n",
              "    </tr>\n",
              "  </thead>\n",
              "  <tbody>\n",
              "    <tr>\n",
              "      <th>0</th>\n",
              "      <td>0.000000</td>\n",
              "      <td>0.316773</td>\n",
              "      <td>0.246834</td>\n",
              "      <td>0.865356</td>\n",
              "      <td>0.971259</td>\n",
              "      <td>0.149131</td>\n",
              "      <td>0.121069</td>\n",
              "      <td>0.685155</td>\n",
              "      <td>0.240077</td>\n",
              "      <td>0.254971</td>\n",
              "      <td>...</td>\n",
              "      <td>0.831028</td>\n",
              "      <td>0.000000</td>\n",
              "      <td>0.468399</td>\n",
              "      <td>0.467667</td>\n",
              "      <td>0.384527</td>\n",
              "      <td>0.236058</td>\n",
              "      <td>0.391359</td>\n",
              "      <td>0.654622</td>\n",
              "      <td>0.571675</td>\n",
              "      <td>0.587387</td>\n",
              "    </tr>\n",
              "    <tr>\n",
              "      <th>1</th>\n",
              "      <td>0.000000</td>\n",
              "      <td>0.315166</td>\n",
              "      <td>0.246834</td>\n",
              "      <td>0.865356</td>\n",
              "      <td>0.971259</td>\n",
              "      <td>0.149516</td>\n",
              "      <td>0.128272</td>\n",
              "      <td>0.684496</td>\n",
              "      <td>0.234543</td>\n",
              "      <td>0.249680</td>\n",
              "      <td>...</td>\n",
              "      <td>0.857520</td>\n",
              "      <td>0.000000</td>\n",
              "      <td>0.453013</td>\n",
              "      <td>0.357238</td>\n",
              "      <td>0.383226</td>\n",
              "      <td>0.246136</td>\n",
              "      <td>0.385738</td>\n",
              "      <td>0.654622</td>\n",
              "      <td>0.570105</td>\n",
              "      <td>0.575921</td>\n",
              "    </tr>\n",
              "    <tr>\n",
              "      <th>2</th>\n",
              "      <td>0.000000</td>\n",
              "      <td>0.311848</td>\n",
              "      <td>0.246834</td>\n",
              "      <td>0.865356</td>\n",
              "      <td>0.971259</td>\n",
              "      <td>0.149880</td>\n",
              "      <td>0.136630</td>\n",
              "      <td>0.681614</td>\n",
              "      <td>0.228208</td>\n",
              "      <td>0.232601</td>\n",
              "      <td>...</td>\n",
              "      <td>0.820810</td>\n",
              "      <td>0.000000</td>\n",
              "      <td>0.436742</td>\n",
              "      <td>0.309953</td>\n",
              "      <td>0.382400</td>\n",
              "      <td>0.261173</td>\n",
              "      <td>0.382416</td>\n",
              "      <td>0.654622</td>\n",
              "      <td>0.569964</td>\n",
              "      <td>0.571642</td>\n",
              "    </tr>\n",
              "    <tr>\n",
              "      <th>3</th>\n",
              "      <td>0.000000</td>\n",
              "      <td>0.304068</td>\n",
              "      <td>0.246834</td>\n",
              "      <td>0.865356</td>\n",
              "      <td>0.971259</td>\n",
              "      <td>0.150110</td>\n",
              "      <td>0.145446</td>\n",
              "      <td>0.676915</td>\n",
              "      <td>0.231046</td>\n",
              "      <td>0.229928</td>\n",
              "      <td>...</td>\n",
              "      <td>0.701315</td>\n",
              "      <td>0.000000</td>\n",
              "      <td>0.410708</td>\n",
              "      <td>0.384379</td>\n",
              "      <td>0.375876</td>\n",
              "      <td>0.269659</td>\n",
              "      <td>0.377961</td>\n",
              "      <td>0.654622</td>\n",
              "      <td>0.569950</td>\n",
              "      <td>0.564731</td>\n",
              "    </tr>\n",
              "    <tr>\n",
              "      <th>4</th>\n",
              "      <td>0.000000</td>\n",
              "      <td>0.300356</td>\n",
              "      <td>0.246834</td>\n",
              "      <td>0.865356</td>\n",
              "      <td>0.971259</td>\n",
              "      <td>0.150440</td>\n",
              "      <td>0.142333</td>\n",
              "      <td>0.676446</td>\n",
              "      <td>0.241279</td>\n",
              "      <td>0.230534</td>\n",
              "      <td>...</td>\n",
              "      <td>0.666735</td>\n",
              "      <td>0.000000</td>\n",
              "      <td>0.390879</td>\n",
              "      <td>0.463841</td>\n",
              "      <td>0.365692</td>\n",
              "      <td>0.280363</td>\n",
              "      <td>0.370826</td>\n",
              "      <td>0.654622</td>\n",
              "      <td>0.569948</td>\n",
              "      <td>0.570527</td>\n",
              "    </tr>\n",
              "    <tr>\n",
              "      <th>...</th>\n",
              "      <td>...</td>\n",
              "      <td>...</td>\n",
              "      <td>...</td>\n",
              "      <td>...</td>\n",
              "      <td>...</td>\n",
              "      <td>...</td>\n",
              "      <td>...</td>\n",
              "      <td>...</td>\n",
              "      <td>...</td>\n",
              "      <td>...</td>\n",
              "      <td>...</td>\n",
              "      <td>...</td>\n",
              "      <td>...</td>\n",
              "      <td>...</td>\n",
              "      <td>...</td>\n",
              "      <td>...</td>\n",
              "      <td>...</td>\n",
              "      <td>...</td>\n",
              "      <td>...</td>\n",
              "      <td>...</td>\n",
              "      <td>...</td>\n",
              "    </tr>\n",
              "    <tr>\n",
              "      <th>129595</th>\n",
              "      <td>0.072406</td>\n",
              "      <td>0.323699</td>\n",
              "      <td>0.674401</td>\n",
              "      <td>0.653310</td>\n",
              "      <td>0.096372</td>\n",
              "      <td>0.298944</td>\n",
              "      <td>0.333665</td>\n",
              "      <td>0.249624</td>\n",
              "      <td>0.226953</td>\n",
              "      <td>0.235446</td>\n",
              "      <td>...</td>\n",
              "      <td>0.422847</td>\n",
              "      <td>0.182591</td>\n",
              "      <td>0.530327</td>\n",
              "      <td>0.460777</td>\n",
              "      <td>0.373407</td>\n",
              "      <td>0.330826</td>\n",
              "      <td>0.364010</td>\n",
              "      <td>0.921419</td>\n",
              "      <td>0.429155</td>\n",
              "      <td>0.209645</td>\n",
              "    </tr>\n",
              "    <tr>\n",
              "      <th>129596</th>\n",
              "      <td>0.072406</td>\n",
              "      <td>0.324841</td>\n",
              "      <td>0.674401</td>\n",
              "      <td>0.653310</td>\n",
              "      <td>0.096372</td>\n",
              "      <td>0.299480</td>\n",
              "      <td>0.326022</td>\n",
              "      <td>0.250297</td>\n",
              "      <td>0.237697</td>\n",
              "      <td>0.216137</td>\n",
              "      <td>...</td>\n",
              "      <td>0.446059</td>\n",
              "      <td>0.182591</td>\n",
              "      <td>0.541507</td>\n",
              "      <td>0.297203</td>\n",
              "      <td>0.379679</td>\n",
              "      <td>0.329371</td>\n",
              "      <td>0.363680</td>\n",
              "      <td>0.921419</td>\n",
              "      <td>0.428408</td>\n",
              "      <td>0.207451</td>\n",
              "    </tr>\n",
              "    <tr>\n",
              "      <th>129597</th>\n",
              "      <td>0.072406</td>\n",
              "      <td>0.322628</td>\n",
              "      <td>0.674401</td>\n",
              "      <td>0.653310</td>\n",
              "      <td>0.096372</td>\n",
              "      <td>0.299920</td>\n",
              "      <td>0.312425</td>\n",
              "      <td>0.248991</td>\n",
              "      <td>0.252867</td>\n",
              "      <td>0.212787</td>\n",
              "      <td>...</td>\n",
              "      <td>0.467248</td>\n",
              "      <td>0.182591</td>\n",
              "      <td>0.546313</td>\n",
              "      <td>0.390170</td>\n",
              "      <td>0.374510</td>\n",
              "      <td>0.333728</td>\n",
              "      <td>0.361083</td>\n",
              "      <td>0.921419</td>\n",
              "      <td>0.426779</td>\n",
              "      <td>0.212096</td>\n",
              "    </tr>\n",
              "    <tr>\n",
              "      <th>129598</th>\n",
              "      <td>0.072406</td>\n",
              "      <td>0.316173</td>\n",
              "      <td>0.674401</td>\n",
              "      <td>0.653310</td>\n",
              "      <td>0.096372</td>\n",
              "      <td>0.300228</td>\n",
              "      <td>0.293328</td>\n",
              "      <td>0.245170</td>\n",
              "      <td>0.265238</td>\n",
              "      <td>0.212234</td>\n",
              "      <td>...</td>\n",
              "      <td>0.491442</td>\n",
              "      <td>0.182591</td>\n",
              "      <td>0.550904</td>\n",
              "      <td>0.469242</td>\n",
              "      <td>0.372254</td>\n",
              "      <td>0.326315</td>\n",
              "      <td>0.360323</td>\n",
              "      <td>0.921419</td>\n",
              "      <td>0.426616</td>\n",
              "      <td>0.215804</td>\n",
              "    </tr>\n",
              "    <tr>\n",
              "      <th>129599</th>\n",
              "      <td>0.072406</td>\n",
              "      <td>0.313574</td>\n",
              "      <td>0.674401</td>\n",
              "      <td>0.653310</td>\n",
              "      <td>0.096372</td>\n",
              "      <td>0.300633</td>\n",
              "      <td>0.278054</td>\n",
              "      <td>0.243632</td>\n",
              "      <td>0.274692</td>\n",
              "      <td>0.228656</td>\n",
              "      <td>...</td>\n",
              "      <td>0.509899</td>\n",
              "      <td>0.182591</td>\n",
              "      <td>0.548764</td>\n",
              "      <td>0.465574</td>\n",
              "      <td>0.369581</td>\n",
              "      <td>0.331354</td>\n",
              "      <td>0.357747</td>\n",
              "      <td>0.921419</td>\n",
              "      <td>0.426599</td>\n",
              "      <td>0.204824</td>\n",
              "    </tr>\n",
              "  </tbody>\n",
              "</table>\n",
              "<p>361200 rows × 86 columns</p>\n",
              "</div>\n",
              "      <button class=\"colab-df-convert\" onclick=\"convertToInteractive('df-479d58d4-96aa-4dd8-9947-11bd56920131')\"\n",
              "              title=\"Convert this dataframe to an interactive table.\"\n",
              "              style=\"display:none;\">\n",
              "        \n",
              "  <svg xmlns=\"http://www.w3.org/2000/svg\" height=\"24px\"viewBox=\"0 0 24 24\"\n",
              "       width=\"24px\">\n",
              "    <path d=\"M0 0h24v24H0V0z\" fill=\"none\"/>\n",
              "    <path d=\"M18.56 5.44l.94 2.06.94-2.06 2.06-.94-2.06-.94-.94-2.06-.94 2.06-2.06.94zm-11 1L8.5 8.5l.94-2.06 2.06-.94-2.06-.94L8.5 2.5l-.94 2.06-2.06.94zm10 10l.94 2.06.94-2.06 2.06-.94-2.06-.94-.94-2.06-.94 2.06-2.06.94z\"/><path d=\"M17.41 7.96l-1.37-1.37c-.4-.4-.92-.59-1.43-.59-.52 0-1.04.2-1.43.59L10.3 9.45l-7.72 7.72c-.78.78-.78 2.05 0 2.83L4 21.41c.39.39.9.59 1.41.59.51 0 1.02-.2 1.41-.59l7.78-7.78 2.81-2.81c.8-.78.8-2.07 0-2.86zM5.41 20L4 18.59l7.72-7.72 1.47 1.35L5.41 20z\"/>\n",
              "  </svg>\n",
              "      </button>\n",
              "      \n",
              "  <style>\n",
              "    .colab-df-container {\n",
              "      display:flex;\n",
              "      flex-wrap:wrap;\n",
              "      gap: 12px;\n",
              "    }\n",
              "\n",
              "    .colab-df-convert {\n",
              "      background-color: #E8F0FE;\n",
              "      border: none;\n",
              "      border-radius: 50%;\n",
              "      cursor: pointer;\n",
              "      display: none;\n",
              "      fill: #1967D2;\n",
              "      height: 32px;\n",
              "      padding: 0 0 0 0;\n",
              "      width: 32px;\n",
              "    }\n",
              "\n",
              "    .colab-df-convert:hover {\n",
              "      background-color: #E2EBFA;\n",
              "      box-shadow: 0px 1px 2px rgba(60, 64, 67, 0.3), 0px 1px 3px 1px rgba(60, 64, 67, 0.15);\n",
              "      fill: #174EA6;\n",
              "    }\n",
              "\n",
              "    [theme=dark] .colab-df-convert {\n",
              "      background-color: #3B4455;\n",
              "      fill: #D2E3FC;\n",
              "    }\n",
              "\n",
              "    [theme=dark] .colab-df-convert:hover {\n",
              "      background-color: #434B5C;\n",
              "      box-shadow: 0px 1px 3px 1px rgba(0, 0, 0, 0.15);\n",
              "      filter: drop-shadow(0px 1px 2px rgba(0, 0, 0, 0.3));\n",
              "      fill: #FFFFFF;\n",
              "    }\n",
              "  </style>\n",
              "\n",
              "      <script>\n",
              "        const buttonEl =\n",
              "          document.querySelector('#df-479d58d4-96aa-4dd8-9947-11bd56920131 button.colab-df-convert');\n",
              "        buttonEl.style.display =\n",
              "          google.colab.kernel.accessAllowed ? 'block' : 'none';\n",
              "\n",
              "        async function convertToInteractive(key) {\n",
              "          const element = document.querySelector('#df-479d58d4-96aa-4dd8-9947-11bd56920131');\n",
              "          const dataTable =\n",
              "            await google.colab.kernel.invokeFunction('convertToInteractive',\n",
              "                                                     [key], {});\n",
              "          if (!dataTable) return;\n",
              "\n",
              "          const docLinkHtml = 'Like what you see? Visit the ' +\n",
              "            '<a target=\"_blank\" href=https://colab.research.google.com/notebooks/data_table.ipynb>data table notebook</a>'\n",
              "            + ' to learn more about interactive tables.';\n",
              "          element.innerHTML = '';\n",
              "          dataTable['output_type'] = 'display_data';\n",
              "          await google.colab.output.renderOutput(dataTable, element);\n",
              "          const docLink = document.createElement('div');\n",
              "          docLink.innerHTML = docLinkHtml;\n",
              "          element.appendChild(docLink);\n",
              "        }\n",
              "      </script>\n",
              "    </div>\n",
              "  </div>\n",
              "  "
            ]
          },
          "metadata": {},
          "execution_count": 22
        }
      ]
    },
    {
      "cell_type": "code",
      "source": [
        "def boundary_check(df):\n",
        "    x = np.array(df, dtype=np.float32)\n",
        "    return np.any(x > 1.0), np.any(x < 0), np.any(np.isnan(x))\n",
        "\n",
        "boundary_check(train_df) # making sure normalization within boundaries\n",
        "boundary_check(test_df)"
      ],
      "metadata": {
        "colab": {
          "base_uri": "https://localhost:8080/"
        },
        "id": "BvbYnbcwRw-l",
        "outputId": "4b8b30b0-1842-4152-88c8-6b4950925e68"
      },
      "execution_count": 23,
      "outputs": [
        {
          "output_type": "execute_result",
          "data": {
            "text/plain": [
              "(False, False, False)"
            ]
          },
          "metadata": {},
          "execution_count": 23
        }
      ]
    },
    {
      "cell_type": "code",
      "source": [
        "# transform the dataframes?"
      ],
      "metadata": {
        "id": "IQ9KEh951wMj"
      },
      "execution_count": 25,
      "outputs": []
    },
    {
      "cell_type": "code",
      "source": [
        "## plot the test data without the timestamp but keep attack for colouring, \n"
      ],
      "metadata": {
        "id": "QXs2FZnMvwQk"
      },
      "execution_count": 26,
      "outputs": []
    },
    {
      "cell_type": "markdown",
      "source": [
        "## Convert dataframes to np.arrays?? is this necesary?"
      ],
      "metadata": {
        "id": "HMWCL8iq6a1I"
      }
    },
    {
      "cell_type": "code",
      "source": [
        "train = np.array(train_raw)\n",
        "test = np.array(test_raw)\n",
        "train_target = np.array(train_target)\n",
        "test_target = np.array(test_target)\n",
        "test"
      ],
      "metadata": {
        "id": "Ykzprcbm7qTR",
        "outputId": "0291e6d7-67d9-4ab6-aab9-32c4b9f7ea00",
        "colab": {
          "base_uri": "https://localhost:8080/"
        }
      },
      "execution_count": 27,
      "outputs": [
        {
          "output_type": "execute_result",
          "data": {
            "text/plain": [
              "array([[5.94447180e-02, 1.04366000e+00, 4.31328095e+02, ...,\n",
              "        2.09895935e+01, 1.00000000e+04, 2.71810000e+04],\n",
              "       [5.94447180e-02, 1.04217000e+00, 4.31328095e+02, ...,\n",
              "        2.09895935e+01, 9.99900000e+03, 2.71740000e+04],\n",
              "       [5.94447180e-02, 1.03920000e+00, 4.31328095e+02, ...,\n",
              "        2.09895935e+01, 9.99900000e+03, 2.71720000e+04],\n",
              "       ...,\n",
              "       [6.94400000e-02, 1.04839000e+00, 4.67038540e+02, ...,\n",
              "        2.67609400e+01, 9.91600000e+03, 2.69730000e+04],\n",
              "       [6.94400000e-02, 1.04255000e+00, 4.67038540e+02, ...,\n",
              "        2.67609400e+01, 9.91600000e+03, 2.69750000e+04],\n",
              "       [6.94400000e-02, 1.04072000e+00, 4.67038540e+02, ...,\n",
              "        2.67609400e+01, 9.91600000e+03, 2.69680000e+04]])"
            ]
          },
          "metadata": {},
          "execution_count": 27
        }
      ]
    },
    {
      "cell_type": "markdown",
      "source": [
        "## One-Class SVM\n",
        "- A one-class classifier is fit on a training dataset that only has examples from the normal class ( no anomalies ) \n",
        "- negative case (class 0) is taken as “normal” and the positive case (class 1) is taken as an outlier or anomaly\n",
        "- OneClass SVM  is fit in an unsupervised manner and does not provide the normal hyperparameters for tuning the margin like C. Instead, it provides a hyperparameter “nu” that controls the sensitivity of the support vectors and should be tuned to the approximate ratio of outliers in the data\n",
        "  - here our train data is 0% but our test data is 3.44% nu = 3.44 in terms of test but idk if thats what we want to do will test to see\n",
        "- kernel is the kernel type to be used - svms ability to use non-linear function to project the space to higher dimensions. default is rbf = radial basis function\n",
        "- gamma is a parameter of the rbf kernel type and controls the influence of individual training samples- affects the smootheness of the model\n",
        "  - low gamma improves smoothenss and generalizability\n",
        "  - high gamma reduces smoothness but makes model tighter- fitted\n",
        "  - here we are going to start with 0.00005\n",
        "- When calling the predict() function on the model, it will output a +1 for normal examples, so-called inliers, and a -1 for outliers.\n",
        "- If we want to evaluate the performance of the model as a binary classifier, we must change the labels in the test dataset from 0 and 1 for the majority and minority classes respectively, to +1 and -1.\n",
        "\n",
        "\n",
        "see https://machinelearningmastery.com/one-class-classification-algorithms/ \n",
        "and https://medium.com/@jamesstradling/unsupervised-machine-learning-with-one-class-support-vector-machines-129579a49d1d"
      ],
      "metadata": {
        "id": "lKfYaR3JS9M_"
      }
    },
    {
      "cell_type": "code",
      "source": [
        "# instantiate a model and train it with training data\n",
        "from sklearn import svm\n",
        "nu = 0.03445313171234642 # ratio of attack instances in test data\n",
        "model = svm.OneClassSVM(nu=nu, kernel='rbf', gamma = 0.00005)\n",
        "model.fit(train) "
      ],
      "metadata": {
        "id": "FsoAHX_leQVY"
      },
      "execution_count": null,
      "outputs": []
    },
    {
      "cell_type": "markdown",
      "source": [
        "checking accuracy of the model"
      ],
      "metadata": {
        "id": "2mMHtrYqklEH"
      }
    },
    {
      "cell_type": "code",
      "source": [
        "# use the predict function on our data and then use sklearn's built-in analysis functions to compare the labels between the predict output and our target\n",
        "from sklearn import metrics\n",
        "preds = model.predict(train)\n",
        "targs = train_target \n",
        "print(\"accuracy: \", metrics.accuracy_score(targs, preds))\n",
        "print(\"precision: \", metrics.precision_score(targs, preds)) \n",
        "print(\"recall: \", metrics.recall_score(targs, preds))\n",
        "print(\"f1: \", metrics.f1_score(targs, preds))\n",
        "print(\"area under curve (auc): \", metrics.roc_auc_score(targs, preds))\n",
        "\n",
        "# shows the model predicts with __ accuacy the class of the data from the training set (which is all normal)\n",
        "# Precision, recall, F1, and AUC are all measures of the model’s effectiveness at predicting classes\n",
        "# Closer to 1.0 they are, the better"
      ],
      "metadata": {
        "id": "DhSk07p0knxp"
      },
      "execution_count": null,
      "outputs": []
    },
    {
      "cell_type": "markdown",
      "source": [
        "checking accuracy of the test set"
      ],
      "metadata": {
        "id": "37NglKOelhiW"
      }
    },
    {
      "cell_type": "code",
      "source": [
        "preds = model.predict(test)\n",
        "targs = test_target \n",
        "print(\"accuracy: \", metrics.accuracy_score(targs, preds))\n",
        "print(\"precision: \", metrics.precision_score(targs, preds)) \n",
        "print(\"recall: \", metrics.recall_score(targs, preds))\n",
        "print(\"f1: \", metrics.f1_score(targs, preds))\n",
        "print(\"area under curve (auc): \", metrics.roc_auc_score(targs, preds))\n",
        "\n",
        "# shows the model predicts with __ accuacy the class of the data from the test set"
      ],
      "metadata": {
        "id": "FN3PLX8blmH7"
      },
      "execution_count": null,
      "outputs": []
    },
    {
      "cell_type": "markdown",
      "source": [
        "## test svm from internet"
      ],
      "metadata": {
        "id": "qmIQpcXQeQy6"
      }
    },
    {
      "cell_type": "code",
      "source": [
        "## THIS IS AN EXAMPLE OF ONE-CLASS SVM JUST TO TEST \n",
        "\n",
        "\n",
        "# one-class svm for imbalanced binary classification\n",
        "from sklearn.datasets import make_classification\n",
        "from sklearn.model_selection import train_test_split\n",
        "from sklearn.metrics import f1_score\n",
        "from sklearn.svm import OneClassSVM\n",
        "# generate dataset\n",
        "X, y = make_classification(n_samples=10000, n_features=2, n_redundant=0,\n",
        "\tn_clusters_per_class=1, weights=[0.999], flip_y=0, random_state=4)\n"
      ],
      "metadata": {
        "id": "KK60jgGy0tRA"
      },
      "execution_count": null,
      "outputs": []
    },
    {
      "cell_type": "code",
      "source": [
        "X"
      ],
      "metadata": {
        "id": "2DyFArIF6jpN"
      },
      "execution_count": null,
      "outputs": []
    },
    {
      "cell_type": "code",
      "source": [
        "# just to see what X looks like in a dataframe\n",
        "pdf = pd.DataFrame(X)\n",
        "pdf.head(10)"
      ],
      "metadata": {
        "id": "TGkJ7TuO64mI"
      },
      "execution_count": null,
      "outputs": []
    },
    {
      "cell_type": "code",
      "source": [
        "y"
      ],
      "metadata": {
        "id": "u4Mqg2-B6lM5"
      },
      "execution_count": null,
      "outputs": []
    },
    {
      "cell_type": "code",
      "source": [
        "pdf = pd.DataFrame(y)\n",
        "pdf.head(10)"
      ],
      "metadata": {
        "id": "tmVcbsU07ZR8"
      },
      "execution_count": null,
      "outputs": []
    },
    {
      "cell_type": "code",
      "source": [
        "values = pdf.values\n",
        "np.unique(values)"
      ],
      "metadata": {
        "id": "pPc5N43q7HzU"
      },
      "execution_count": null,
      "outputs": []
    },
    {
      "cell_type": "code",
      "source": [
        "# split into train/test sets\n",
        "trainX, testX, trainy, testy = train_test_split(X, y, test_size=0.5, random_state=2, stratify=y)"
      ],
      "metadata": {
        "id": "qfrAqEXR1Qqj"
      },
      "execution_count": null,
      "outputs": []
    },
    {
      "cell_type": "code",
      "source": [
        "trainX"
      ],
      "metadata": {
        "id": "-Rw13zto4GGA"
      },
      "execution_count": null,
      "outputs": []
    },
    {
      "cell_type": "code",
      "source": [
        "testX"
      ],
      "metadata": {
        "id": "Bk_WHNhn4loM"
      },
      "execution_count": null,
      "outputs": []
    },
    {
      "cell_type": "code",
      "source": [
        "trainy"
      ],
      "metadata": {
        "id": "yZnvbbEV4oDx"
      },
      "execution_count": null,
      "outputs": []
    },
    {
      "cell_type": "code",
      "source": [
        "testy"
      ],
      "metadata": {
        "id": "84xZMaJF4sOy"
      },
      "execution_count": null,
      "outputs": []
    },
    {
      "cell_type": "code",
      "source": [
        "np.unique(testy)"
      ],
      "metadata": {
        "id": "bYG98A904whh"
      },
      "execution_count": null,
      "outputs": []
    },
    {
      "cell_type": "code",
      "source": [
        "# define outlier detection model\n",
        "model = OneClassSVM(gamma='scale', nu=0.01)\n",
        "# fit on majority class\n",
        "trainX = trainX[trainy==0]\n",
        "model.fit(trainX)"
      ],
      "metadata": {
        "id": "nZrcB-Nl1V-L"
      },
      "execution_count": null,
      "outputs": []
    },
    {
      "cell_type": "code",
      "source": [
        "# detect outliers in the test set\n",
        "yhat = model.predict(testX)"
      ],
      "metadata": {
        "id": "-SB9g2iH1ZN7"
      },
      "execution_count": null,
      "outputs": []
    },
    {
      "cell_type": "code",
      "source": [
        "# mark inliers 1, outliers -1\n",
        "testy[testy == 1] = -1\n",
        "testy[testy == 0] = 1\n",
        "# calculate score\n",
        "score = f1_score(testy, yhat, pos_label=-1)\n",
        "print('F1 Score: %.3f' % score)"
      ],
      "metadata": {
        "id": "hZB0bRnC1beb"
      },
      "execution_count": null,
      "outputs": []
    },
    {
      "cell_type": "code",
      "source": [
        "# today todo:\n",
        "# do something with labels...\n",
        "# do X and y split for train and test data - need to see how this will be done\n",
        "# try model out of box"
      ],
      "metadata": {
        "id": "i_S7xpxQBSvd"
      },
      "execution_count": null,
      "outputs": []
    },
    {
      "cell_type": "code",
      "source": [
        "# notes:\n",
        "# no na values\n",
        "# attack column will be used for labels/ classification\n",
        "# I have been looking at code from this competition website https://dacon.io/en/competitions/official/235757/codeshare?page=1&dtype=recent&ptype=pub&keyword=\n",
        "# can adjust nu to see how it performs\n",
        "# adjust gamma to see how it performs\n",
        "# find principal components? - feature extraction if performs poorly\n",
        "# will try without timestamp to see how model performs, then try with a time window?\n",
        "# look at hyper parameters to improve model\n",
        "\n",
        "# next steps:\n",
        "# vector quantization- I think we should do OCSVM model and see results then add the VQ to compare how it improves\n",
        "# model = one class vector machine - look at class notes \n",
        "#         - One-class SVM is an unsupervised algorithm that learns a decision function for novelty detection: classifying new data as similar or different to the training set."
      ],
      "metadata": {
        "id": "PrQDECQNIPHP"
      },
      "execution_count": null,
      "outputs": []
    },
    {
      "cell_type": "markdown",
      "source": [
        "# Vector Quantization\n",
        "- class imbalance problem here due to many instances of no anomolies vs few instances of attacks (skewed dataset)\n",
        "- performance of ML will decline \n",
        "- instead of undersampling (eliminating instances) VQ compresses datasets by clustering them\n",
        "- VQ is a lossy data compression method based on principal block coding \n",
        "https://link.springer.com/content/pdf/10.1007/978-0-387-34747-9_9.pdf\n",
        "\n",
        "![algorithm for LVQ](https://d2mk45aasx86xg.cloudfront.net/Implementing_learning_vector_quantization_in_Python_a126c1c235.webp)"
      ],
      "metadata": {
        "id": "Pa3NB65jBt4C"
      }
    }
  ]
}