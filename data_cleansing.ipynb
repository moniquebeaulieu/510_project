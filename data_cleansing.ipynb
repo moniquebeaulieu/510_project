{
  "nbformat": 4,
  "nbformat_minor": 0,
  "metadata": {
    "colab": {
      "provenance": [],
      "collapsed_sections": [],
      "authorship_tag": "ABX9TyO/moYcWQF+OhBuaZigxHB9",
      "include_colab_link": true
    },
    "kernelspec": {
      "name": "python3",
      "display_name": "Python 3"
    },
    "language_info": {
      "name": "python"
    }
  },
  "cells": [
    {
      "cell_type": "markdown",
      "metadata": {
        "id": "view-in-github",
        "colab_type": "text"
      },
      "source": [
        "<a href=\"https://colab.research.google.com/github/moniquebeaulieu/510_project/blob/main/data_cleansing.ipynb\" target=\"_parent\"><img src=\"https://colab.research.google.com/assets/colab-badge.svg\" alt=\"Open In Colab\"/></a>"
      ]
    },
    {
      "cell_type": "markdown",
      "source": [
        "## Data cleansing and Preparation"
      ],
      "metadata": {
        "id": "HDQMmvJRL6kU"
      }
    },
    {
      "cell_type": "markdown",
      "source": [
        "# Downloading Data From Kaggle"
      ],
      "metadata": {
        "id": "Z3goW2Y31WgK"
      }
    },
    {
      "cell_type": "code",
      "source": [
        "# how to add kaggle data sets to colab\n",
        "# https://medium.com/analytics-vidhya/how-to-download-kaggle-datasets-into-google-colab-via-google-drive-dcb348d7af07\n",
        "\n",
        "# mounting google drive\n",
        "from google.colab import drive\n",
        "drive.mount('/content/drive', force_remount=True)"
      ],
      "metadata": {
        "id": "8W4eNKR84945",
        "colab": {
          "base_uri": "https://localhost:8080/"
        },
        "outputId": "ca75e0a1-8d98-45b2-faa2-dadbfe221849"
      },
      "execution_count": 60,
      "outputs": [
        {
          "output_type": "stream",
          "name": "stdout",
          "text": [
            "Mounted at /content/drive\n"
          ]
        }
      ]
    },
    {
      "cell_type": "code",
      "source": [
        "# setting working directory to Kaggle\n",
        "import os\n",
        "os.environ['KAGGLE_CONFIG_DIR'] = \"/content/drive/MyDrive/Kaggle\""
      ],
      "metadata": {
        "id": "bS68tWiVnd0Y"
      },
      "execution_count": 61,
      "outputs": []
    },
    {
      "cell_type": "code",
      "source": [
        "# downloading API command\n",
        "!kaggle datasets download -d icsdataset/hai-security-dataset --force --unzip"
      ],
      "metadata": {
        "colab": {
          "base_uri": "https://localhost:8080/"
        },
        "id": "N-9pEfuurpgR",
        "outputId": "be1f0b7e-ec21-4a89-ef70-94be7eb320f1"
      },
      "execution_count": 63,
      "outputs": [
        {
          "output_type": "stream",
          "name": "stdout",
          "text": [
            "Downloading hai-security-dataset.zip to /content\n",
            " 98% 456M/465M [00:02<00:00, 163MB/s]\n",
            "100% 465M/465M [00:02<00:00, 169MB/s]\n"
          ]
        }
      ]
    },
    {
      "cell_type": "code",
      "source": [
        "%ls"
      ],
      "metadata": {
        "colab": {
          "base_uri": "https://localhost:8080/"
        },
        "id": "E3mqiDih1PuA",
        "outputId": "6c6e79cd-ea2f-4c66-c086-b4ef536b7ad7"
      },
      "execution_count": 64,
      "outputs": [
        {
          "output_type": "stream",
          "name": "stdout",
          "text": [
            "\u001b[0m\u001b[01;34mdrive\u001b[0m/  \u001b[01;34mhai-20.07\u001b[0m/  \u001b[01;34mhai-22.04\u001b[0m/                              \u001b[01;34msample_data\u001b[0m/\n",
            "\u001b[01;34mhai\u001b[0m/    \u001b[01;34mhai-21.03\u001b[0m/  hai_dataset_technical_details_v3.0.pdf\n"
          ]
        }
      ]
    },
    {
      "cell_type": "markdown",
      "source": [
        "Following code is a similar structure to code found here https://dacon.io/en/competitions/official/235757/codeshare/3652?page=1&dtype=recent"
      ],
      "metadata": {
        "id": "vYGsSLAAFZ3j"
      }
    },
    {
      "cell_type": "markdown",
      "source": [
        "# Import libraries"
      ],
      "metadata": {
        "id": "jJa5VhqgLfd3"
      }
    },
    {
      "cell_type": "code",
      "source": [
        "import sys\n",
        "from pathlib import Path\n",
        "from datetime import timedelta\n",
        "import dateutil\n",
        "import numpy as np\n",
        "import matplotlib.pyplot as plt\n",
        "import pandas as pd\n",
        "import torch"
      ],
      "metadata": {
        "id": "OaUYpO8WAvk2"
      },
      "execution_count": 67,
      "outputs": []
    },
    {
      "cell_type": "markdown",
      "source": [
        "# Utility functions"
      ],
      "metadata": {
        "id": "slZSxjAvLcOz"
      }
    },
    {
      "cell_type": "code",
      "source": [
        "def dataframe_from_csv(target):\n",
        "    return pd.read_csv(target).rename(columns=lambda x: x.strip())\n",
        "\n",
        "def dataframe_from_csvs(targets):\n",
        "    return pd.concat([x for x in targets])"
      ],
      "metadata": {
        "id": "LMYYsE8yArI9"
      },
      "execution_count": 83,
      "outputs": []
    },
    {
      "cell_type": "markdown",
      "source": [
        "# Dataframe preparation"
      ],
      "metadata": {
        "id": "AObC23EXLp7P"
      }
    },
    {
      "cell_type": "code",
      "source": [
        "# downloading each train csv (differnt csv b/c taken in different time periods)\n",
        "\n",
        "train1_raw = dataframe_from_csv(\"/content/hai-22.04/train1.csv\") \n",
        "train2_raw = dataframe_from_csv(\"/content/hai-22.04/train2.csv\") \n",
        "train3_raw = dataframe_from_csv(\"/content/hai-22.04/train3.csv\") \n",
        "train4_raw = dataframe_from_csv(\"/content/hai-22.04/train4.csv\") \n",
        "train5_raw = dataframe_from_csv(\"/content/hai-22.04/train5.csv\") \n",
        "train6_raw = dataframe_from_csv(\"/content/hai-22.04/train6.csv\") "
      ],
      "metadata": {
        "id": "1PI1O8X7AhpR"
      },
      "execution_count": 66,
      "outputs": []
    },
    {
      "cell_type": "code",
      "source": [
        "# concatenating all train data\n",
        "\n",
        "train = [train1_raw, train2_raw, train3_raw, train4_raw, train5_raw, train6_raw]\n",
        "train_df_raw = dataframe_from_csvs(train)\n",
        "train_df_raw.shape"
      ],
      "metadata": {
        "colab": {
          "base_uri": "https://localhost:8080/"
        },
        "id": "l5TS5U5SKoc5",
        "outputId": "59782f5c-88c5-4304-ab26-e21424a355ae"
      },
      "execution_count": 86,
      "outputs": [
        {
          "output_type": "execute_result",
          "data": {
            "text/plain": [
              "(1004402, 88)"
            ]
          },
          "metadata": {},
          "execution_count": 86
        }
      ]
    },
    {
      "cell_type": "code",
      "source": [
        "train_df_raw.dtypes "
      ],
      "metadata": {
        "colab": {
          "base_uri": "https://localhost:8080/"
        },
        "id": "t3m8xxhpDWNg",
        "outputId": "1a64495e-9502-4d4b-995c-5439cf676167"
      },
      "execution_count": 87,
      "outputs": [
        {
          "output_type": "execute_result",
          "data": {
            "text/plain": [
              "timestamp      object\n",
              "P1_B2004      float64\n",
              "P1_B2016      float64\n",
              "P1_B3004      float64\n",
              "P1_B3005      float64\n",
              "               ...   \n",
              "P4_ST_PO      float64\n",
              "P4_ST_PS      float64\n",
              "P4_ST_PT01      int64\n",
              "P4_ST_TT01      int64\n",
              "Attack          int64\n",
              "Length: 88, dtype: object"
            ]
          },
          "metadata": {},
          "execution_count": 87
        }
      ]
    },
    {
      "cell_type": "code",
      "source": [
        "train_df_raw.head(3)"
      ],
      "metadata": {
        "colab": {
          "base_uri": "https://localhost:8080/",
          "height": 341
        },
        "id": "cW4snQnzONIU",
        "outputId": "03acb743-90fe-4468-f33f-8a9bcbf0f26e"
      },
      "execution_count": 92,
      "outputs": [
        {
          "output_type": "execute_result",
          "data": {
            "text/plain": [
              "             timestamp  P1_B2004  P1_B2016   P1_B3004    P1_B3005  P1_B4002  \\\n",
              "0  2021-07-11 10:00:00   0.08771   0.88504  476.76703  1014.79321  26.92264   \n",
              "1  2021-07-11 10:00:01   0.08771   0.88619  476.76703  1014.79321  26.92264   \n",
              "2  2021-07-11 10:00:02   0.08771   0.88836  476.76703  1014.79321  26.92264   \n",
              "\n",
              "   P1_B4005   P1_B400B  P1_B4022  P1_FCV01D  ...  P4_HT_PS      P4_LD  \\\n",
              "0  15.07713  595.06104  30.08042   15.50464  ...   7.08818  276.40338   \n",
              "1  14.97197  531.50317  30.08423   16.20023  ...   7.08818  276.18634   \n",
              "2  14.90129  451.06253  30.09148   16.53352  ...   7.08818  279.85754   \n",
              "\n",
              "   P4_ST_FD  P4_ST_GOV   P4_ST_LD   P4_ST_PO  P4_ST_PS  P4_ST_PT01  \\\n",
              "0  -0.00087      14742  276.45758  267.90363   8.90254        9914   \n",
              "1   0.00058      14781  278.91705  268.95258   8.90254        9914   \n",
              "2  -0.00072      14831  278.89899  269.76636   8.90254        9914   \n",
              "\n",
              "   P4_ST_TT01  Attack  \n",
              "0       27170       0  \n",
              "1       27171       0  \n",
              "2       27170       0  \n",
              "\n",
              "[3 rows x 88 columns]"
            ],
            "text/html": [
              "\n",
              "  <div id=\"df-35be6c40-41e5-45dd-9f98-e571eef13364\">\n",
              "    <div class=\"colab-df-container\">\n",
              "      <div>\n",
              "<style scoped>\n",
              "    .dataframe tbody tr th:only-of-type {\n",
              "        vertical-align: middle;\n",
              "    }\n",
              "\n",
              "    .dataframe tbody tr th {\n",
              "        vertical-align: top;\n",
              "    }\n",
              "\n",
              "    .dataframe thead th {\n",
              "        text-align: right;\n",
              "    }\n",
              "</style>\n",
              "<table border=\"1\" class=\"dataframe\">\n",
              "  <thead>\n",
              "    <tr style=\"text-align: right;\">\n",
              "      <th></th>\n",
              "      <th>timestamp</th>\n",
              "      <th>P1_B2004</th>\n",
              "      <th>P1_B2016</th>\n",
              "      <th>P1_B3004</th>\n",
              "      <th>P1_B3005</th>\n",
              "      <th>P1_B4002</th>\n",
              "      <th>P1_B4005</th>\n",
              "      <th>P1_B400B</th>\n",
              "      <th>P1_B4022</th>\n",
              "      <th>P1_FCV01D</th>\n",
              "      <th>...</th>\n",
              "      <th>P4_HT_PS</th>\n",
              "      <th>P4_LD</th>\n",
              "      <th>P4_ST_FD</th>\n",
              "      <th>P4_ST_GOV</th>\n",
              "      <th>P4_ST_LD</th>\n",
              "      <th>P4_ST_PO</th>\n",
              "      <th>P4_ST_PS</th>\n",
              "      <th>P4_ST_PT01</th>\n",
              "      <th>P4_ST_TT01</th>\n",
              "      <th>Attack</th>\n",
              "    </tr>\n",
              "  </thead>\n",
              "  <tbody>\n",
              "    <tr>\n",
              "      <th>0</th>\n",
              "      <td>2021-07-11 10:00:00</td>\n",
              "      <td>0.08771</td>\n",
              "      <td>0.88504</td>\n",
              "      <td>476.76703</td>\n",
              "      <td>1014.79321</td>\n",
              "      <td>26.92264</td>\n",
              "      <td>15.07713</td>\n",
              "      <td>595.06104</td>\n",
              "      <td>30.08042</td>\n",
              "      <td>15.50464</td>\n",
              "      <td>...</td>\n",
              "      <td>7.08818</td>\n",
              "      <td>276.40338</td>\n",
              "      <td>-0.00087</td>\n",
              "      <td>14742</td>\n",
              "      <td>276.45758</td>\n",
              "      <td>267.90363</td>\n",
              "      <td>8.90254</td>\n",
              "      <td>9914</td>\n",
              "      <td>27170</td>\n",
              "      <td>0</td>\n",
              "    </tr>\n",
              "    <tr>\n",
              "      <th>1</th>\n",
              "      <td>2021-07-11 10:00:01</td>\n",
              "      <td>0.08771</td>\n",
              "      <td>0.88619</td>\n",
              "      <td>476.76703</td>\n",
              "      <td>1014.79321</td>\n",
              "      <td>26.92264</td>\n",
              "      <td>14.97197</td>\n",
              "      <td>531.50317</td>\n",
              "      <td>30.08423</td>\n",
              "      <td>16.20023</td>\n",
              "      <td>...</td>\n",
              "      <td>7.08818</td>\n",
              "      <td>276.18634</td>\n",
              "      <td>0.00058</td>\n",
              "      <td>14781</td>\n",
              "      <td>278.91705</td>\n",
              "      <td>268.95258</td>\n",
              "      <td>8.90254</td>\n",
              "      <td>9914</td>\n",
              "      <td>27171</td>\n",
              "      <td>0</td>\n",
              "    </tr>\n",
              "    <tr>\n",
              "      <th>2</th>\n",
              "      <td>2021-07-11 10:00:02</td>\n",
              "      <td>0.08771</td>\n",
              "      <td>0.88836</td>\n",
              "      <td>476.76703</td>\n",
              "      <td>1014.79321</td>\n",
              "      <td>26.92264</td>\n",
              "      <td>14.90129</td>\n",
              "      <td>451.06253</td>\n",
              "      <td>30.09148</td>\n",
              "      <td>16.53352</td>\n",
              "      <td>...</td>\n",
              "      <td>7.08818</td>\n",
              "      <td>279.85754</td>\n",
              "      <td>-0.00072</td>\n",
              "      <td>14831</td>\n",
              "      <td>278.89899</td>\n",
              "      <td>269.76636</td>\n",
              "      <td>8.90254</td>\n",
              "      <td>9914</td>\n",
              "      <td>27170</td>\n",
              "      <td>0</td>\n",
              "    </tr>\n",
              "  </tbody>\n",
              "</table>\n",
              "<p>3 rows × 88 columns</p>\n",
              "</div>\n",
              "      <button class=\"colab-df-convert\" onclick=\"convertToInteractive('df-35be6c40-41e5-45dd-9f98-e571eef13364')\"\n",
              "              title=\"Convert this dataframe to an interactive table.\"\n",
              "              style=\"display:none;\">\n",
              "        \n",
              "  <svg xmlns=\"http://www.w3.org/2000/svg\" height=\"24px\"viewBox=\"0 0 24 24\"\n",
              "       width=\"24px\">\n",
              "    <path d=\"M0 0h24v24H0V0z\" fill=\"none\"/>\n",
              "    <path d=\"M18.56 5.44l.94 2.06.94-2.06 2.06-.94-2.06-.94-.94-2.06-.94 2.06-2.06.94zm-11 1L8.5 8.5l.94-2.06 2.06-.94-2.06-.94L8.5 2.5l-.94 2.06-2.06.94zm10 10l.94 2.06.94-2.06 2.06-.94-2.06-.94-.94-2.06-.94 2.06-2.06.94z\"/><path d=\"M17.41 7.96l-1.37-1.37c-.4-.4-.92-.59-1.43-.59-.52 0-1.04.2-1.43.59L10.3 9.45l-7.72 7.72c-.78.78-.78 2.05 0 2.83L4 21.41c.39.39.9.59 1.41.59.51 0 1.02-.2 1.41-.59l7.78-7.78 2.81-2.81c.8-.78.8-2.07 0-2.86zM5.41 20L4 18.59l7.72-7.72 1.47 1.35L5.41 20z\"/>\n",
              "  </svg>\n",
              "      </button>\n",
              "      \n",
              "  <style>\n",
              "    .colab-df-container {\n",
              "      display:flex;\n",
              "      flex-wrap:wrap;\n",
              "      gap: 12px;\n",
              "    }\n",
              "\n",
              "    .colab-df-convert {\n",
              "      background-color: #E8F0FE;\n",
              "      border: none;\n",
              "      border-radius: 50%;\n",
              "      cursor: pointer;\n",
              "      display: none;\n",
              "      fill: #1967D2;\n",
              "      height: 32px;\n",
              "      padding: 0 0 0 0;\n",
              "      width: 32px;\n",
              "    }\n",
              "\n",
              "    .colab-df-convert:hover {\n",
              "      background-color: #E2EBFA;\n",
              "      box-shadow: 0px 1px 2px rgba(60, 64, 67, 0.3), 0px 1px 3px 1px rgba(60, 64, 67, 0.15);\n",
              "      fill: #174EA6;\n",
              "    }\n",
              "\n",
              "    [theme=dark] .colab-df-convert {\n",
              "      background-color: #3B4455;\n",
              "      fill: #D2E3FC;\n",
              "    }\n",
              "\n",
              "    [theme=dark] .colab-df-convert:hover {\n",
              "      background-color: #434B5C;\n",
              "      box-shadow: 0px 1px 3px 1px rgba(0, 0, 0, 0.15);\n",
              "      filter: drop-shadow(0px 1px 2px rgba(0, 0, 0, 0.3));\n",
              "      fill: #FFFFFF;\n",
              "    }\n",
              "  </style>\n",
              "\n",
              "      <script>\n",
              "        const buttonEl =\n",
              "          document.querySelector('#df-35be6c40-41e5-45dd-9f98-e571eef13364 button.colab-df-convert');\n",
              "        buttonEl.style.display =\n",
              "          google.colab.kernel.accessAllowed ? 'block' : 'none';\n",
              "\n",
              "        async function convertToInteractive(key) {\n",
              "          const element = document.querySelector('#df-35be6c40-41e5-45dd-9f98-e571eef13364');\n",
              "          const dataTable =\n",
              "            await google.colab.kernel.invokeFunction('convertToInteractive',\n",
              "                                                     [key], {});\n",
              "          if (!dataTable) return;\n",
              "\n",
              "          const docLinkHtml = 'Like what you see? Visit the ' +\n",
              "            '<a target=\"_blank\" href=https://colab.research.google.com/notebooks/data_table.ipynb>data table notebook</a>'\n",
              "            + ' to learn more about interactive tables.';\n",
              "          element.innerHTML = '';\n",
              "          dataTable['output_type'] = 'display_data';\n",
              "          await google.colab.output.renderOutput(dataTable, element);\n",
              "          const docLink = document.createElement('div');\n",
              "          docLink.innerHTML = docLinkHtml;\n",
              "          element.appendChild(docLink);\n",
              "        }\n",
              "      </script>\n",
              "    </div>\n",
              "  </div>\n",
              "  "
            ]
          },
          "metadata": {},
          "execution_count": 92
        }
      ]
    },
    {
      "cell_type": "code",
      "source": [
        "# downloading each test csv (differnt csv b/c taken in different time periods) NOTE: train and test data have been pre-split in this public dataset\n",
        "\n",
        "test1_raw = dataframe_from_csv(\"/content/hai-22.04/test1.csv\") \n",
        "test2_raw = dataframe_from_csv(\"/content/hai-22.04/test2.csv\") \n",
        "test3_raw = dataframe_from_csv(\"/content/hai-22.04/test3.csv\") \n",
        "test4_raw = dataframe_from_csv(\"/content/hai-22.04/test4.csv\") "
      ],
      "metadata": {
        "id": "zHIZ35iaHDvI"
      },
      "execution_count": 73,
      "outputs": []
    },
    {
      "cell_type": "code",
      "source": [
        "# concatenating all test data\n",
        "\n",
        "test = [test1_raw, test2_raw, test3_raw, test4_raw]\n",
        "test_df_raw = dataframe_from_csvs(test)\n",
        "test_df_raw.shape"
      ],
      "metadata": {
        "colab": {
          "base_uri": "https://localhost:8080/"
        },
        "id": "Hsn98PCnMgQF",
        "outputId": "9b09f51d-08c5-41c5-e3f4-cb71b31e0e6a"
      },
      "execution_count": 89,
      "outputs": [
        {
          "output_type": "execute_result",
          "data": {
            "text/plain": [
              "(361200, 88)"
            ]
          },
          "metadata": {},
          "execution_count": 89
        }
      ]
    },
    {
      "cell_type": "code",
      "source": [
        "test_df_raw.dtypes"
      ],
      "metadata": {
        "colab": {
          "base_uri": "https://localhost:8080/"
        },
        "id": "yXFr5snUIJNd",
        "outputId": "73e76b70-1985-439d-be36-071037a82925"
      },
      "execution_count": 90,
      "outputs": [
        {
          "output_type": "execute_result",
          "data": {
            "text/plain": [
              "timestamp      object\n",
              "P1_B2004      float64\n",
              "P1_B2016      float64\n",
              "P1_B3004      float64\n",
              "P1_B3005      float64\n",
              "               ...   \n",
              "P4_ST_PO      float64\n",
              "P4_ST_PS      float64\n",
              "P4_ST_PT01      int64\n",
              "P4_ST_TT01      int64\n",
              "Attack          int64\n",
              "Length: 88, dtype: object"
            ]
          },
          "metadata": {},
          "execution_count": 90
        }
      ]
    },
    {
      "cell_type": "code",
      "source": [
        "# notes about dataset!!!\n",
        "# I think we can drop the timestamp column \n",
        "# attack column will be used for labels/ classification\n",
        "# I have been looking at code from this competition website https://dacon.io/en/competitions/official/235757/codeshare?page=1&dtype=recent&ptype=pub&keyword="
      ],
      "metadata": {
        "id": "PrQDECQNIPHP"
      },
      "execution_count": null,
      "outputs": []
    }
  ]
}