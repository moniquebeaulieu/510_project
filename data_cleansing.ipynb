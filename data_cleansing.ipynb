{
  "nbformat": 4,
  "nbformat_minor": 0,
  "metadata": {
    "colab": {
      "provenance": [],
      "collapsed_sections": [],
      "authorship_tag": "ABX9TyPaXtsciy+wwapHCmnf+8Au",
      "include_colab_link": true
    },
    "kernelspec": {
      "name": "python3",
      "display_name": "Python 3"
    },
    "language_info": {
      "name": "python"
    }
  },
  "cells": [
    {
      "cell_type": "markdown",
      "metadata": {
        "id": "view-in-github",
        "colab_type": "text"
      },
      "source": [
        "<a href=\"https://colab.research.google.com/github/moniquebeaulieu/510_project/blob/main/data_cleansing.ipynb\" target=\"_parent\"><img src=\"https://colab.research.google.com/assets/colab-badge.svg\" alt=\"Open In Colab\"/></a>"
      ]
    },
    {
      "cell_type": "markdown",
      "source": [
        "## Data cleansing and Preprocessing"
      ],
      "metadata": {
        "id": "HDQMmvJRL6kU"
      }
    },
    {
      "cell_type": "markdown",
      "source": [
        "# Downloading Data From Kaggle"
      ],
      "metadata": {
        "id": "Z3goW2Y31WgK"
      }
    },
    {
      "cell_type": "code",
      "source": [
        "# how to add kaggle data sets to colab\n",
        "# https://medium.com/analytics-vidhya/how-to-download-kaggle-datasets-into-google-colab-via-google-drive-dcb348d7af07\n",
        "\n",
        "# mounting google drive\n",
        "from google.colab import drive\n",
        "drive.mount('/content/drive', force_remount=True)"
      ],
      "metadata": {
        "id": "8W4eNKR84945",
        "colab": {
          "base_uri": "https://localhost:8080/"
        },
        "outputId": "d7352844-73ed-4cef-9ae5-dc6cf0898d02"
      },
      "execution_count": 21,
      "outputs": [
        {
          "output_type": "stream",
          "name": "stdout",
          "text": [
            "Mounted at /content/drive\n"
          ]
        }
      ]
    },
    {
      "cell_type": "code",
      "source": [
        "# setting working directory to Kaggle\n",
        "import os\n",
        "os.environ['KAGGLE_CONFIG_DIR'] = \"/content/drive/MyDrive/Kaggle\""
      ],
      "metadata": {
        "id": "bS68tWiVnd0Y"
      },
      "execution_count": 22,
      "outputs": []
    },
    {
      "cell_type": "code",
      "source": [
        "# downloading API command\n",
        "!kaggle datasets download -d icsdataset/hai-security-dataset --force --unzip"
      ],
      "metadata": {
        "colab": {
          "base_uri": "https://localhost:8080/"
        },
        "id": "N-9pEfuurpgR",
        "outputId": "b2c4732c-185f-4ef6-ab68-bc1c69a9150b"
      },
      "execution_count": 23,
      "outputs": [
        {
          "output_type": "stream",
          "name": "stdout",
          "text": [
            "Downloading hai-security-dataset.zip to /content\n",
            " 98% 454M/465M [00:03<00:00, 72.6MB/s]\n",
            "100% 465M/465M [00:03<00:00, 126MB/s] \n"
          ]
        }
      ]
    },
    {
      "cell_type": "code",
      "source": [
        "%ls"
      ],
      "metadata": {
        "colab": {
          "base_uri": "https://localhost:8080/"
        },
        "id": "E3mqiDih1PuA",
        "outputId": "b3e890cc-53f7-41d2-b5e4-a13896d04b22"
      },
      "execution_count": 24,
      "outputs": [
        {
          "output_type": "stream",
          "name": "stdout",
          "text": [
            "\u001b[0m\u001b[01;34mdrive\u001b[0m/      \u001b[01;34mhai-21.03\u001b[0m/  hai_dataset_technical_details_v3.0.pdf\n",
            "\u001b[01;34mhai-20.07\u001b[0m/  \u001b[01;34mhai-22.04\u001b[0m/  \u001b[01;34msample_data\u001b[0m/\n"
          ]
        }
      ]
    },
    {
      "cell_type": "markdown",
      "source": [
        "Following code is a similar structure to code found here https://dacon.io/en/competitions/official/235757/codeshare/3652?page=1&dtype=recent"
      ],
      "metadata": {
        "id": "vYGsSLAAFZ3j"
      }
    },
    {
      "cell_type": "markdown",
      "source": [
        "# Import libraries"
      ],
      "metadata": {
        "id": "jJa5VhqgLfd3"
      }
    },
    {
      "cell_type": "code",
      "source": [
        "import sys\n",
        "from pathlib import Path\n",
        "from datetime import timedelta\n",
        "import dateutil\n",
        "import numpy as np\n",
        "import matplotlib.pyplot as plt\n",
        "import pandas as pd\n",
        "import torch"
      ],
      "metadata": {
        "id": "OaUYpO8WAvk2"
      },
      "execution_count": 25,
      "outputs": []
    },
    {
      "cell_type": "markdown",
      "source": [
        "# Utility functions"
      ],
      "metadata": {
        "id": "slZSxjAvLcOz"
      }
    },
    {
      "cell_type": "code",
      "source": [
        "def dataframe_from_csv(target):\n",
        "    return pd.read_csv(target).rename(columns=lambda x: x.strip())\n",
        "\n",
        "def dataframe_from_csvs(targets):\n",
        "    return pd.concat([x for x in targets])"
      ],
      "metadata": {
        "id": "LMYYsE8yArI9"
      },
      "execution_count": 26,
      "outputs": []
    },
    {
      "cell_type": "markdown",
      "source": [
        "# Dataframe preparation"
      ],
      "metadata": {
        "id": "AObC23EXLp7P"
      }
    },
    {
      "cell_type": "code",
      "source": [
        "# downloading each train csv (differnt csv b/c taken in different time periods)\n",
        "\n",
        "train1_raw = dataframe_from_csv(\"/content/hai-22.04/train1.csv\") \n",
        "train2_raw = dataframe_from_csv(\"/content/hai-22.04/train2.csv\") \n",
        "train3_raw = dataframe_from_csv(\"/content/hai-22.04/train3.csv\") \n",
        "train4_raw = dataframe_from_csv(\"/content/hai-22.04/train4.csv\") \n",
        "train5_raw = dataframe_from_csv(\"/content/hai-22.04/train5.csv\") \n",
        "train6_raw = dataframe_from_csv(\"/content/hai-22.04/train6.csv\") "
      ],
      "metadata": {
        "id": "1PI1O8X7AhpR"
      },
      "execution_count": 27,
      "outputs": []
    },
    {
      "cell_type": "code",
      "source": [
        "# concatenating all train data\n",
        "\n",
        "train = [train1_raw, train2_raw, train3_raw, train4_raw, train5_raw, train6_raw]\n",
        "train_df_raw = dataframe_from_csvs(train)\n",
        "train_df_raw.shape"
      ],
      "metadata": {
        "colab": {
          "base_uri": "https://localhost:8080/"
        },
        "id": "l5TS5U5SKoc5",
        "outputId": "b4643056-3856-4e37-d79f-4f83e61edf66"
      },
      "execution_count": 28,
      "outputs": [
        {
          "output_type": "execute_result",
          "data": {
            "text/plain": [
              "(1004402, 88)"
            ]
          },
          "metadata": {},
          "execution_count": 28
        }
      ]
    },
    {
      "cell_type": "code",
      "source": [
        "train_df_raw.dtypes "
      ],
      "metadata": {
        "colab": {
          "base_uri": "https://localhost:8080/"
        },
        "id": "t3m8xxhpDWNg",
        "outputId": "be292678-abbb-40bc-deae-d7de0b9e6d6d"
      },
      "execution_count": 29,
      "outputs": [
        {
          "output_type": "execute_result",
          "data": {
            "text/plain": [
              "timestamp      object\n",
              "P1_B2004      float64\n",
              "P1_B2016      float64\n",
              "P1_B3004      float64\n",
              "P1_B3005      float64\n",
              "               ...   \n",
              "P4_ST_PO      float64\n",
              "P4_ST_PS      float64\n",
              "P4_ST_PT01      int64\n",
              "P4_ST_TT01      int64\n",
              "Attack          int64\n",
              "Length: 88, dtype: object"
            ]
          },
          "metadata": {},
          "execution_count": 29
        }
      ]
    },
    {
      "cell_type": "code",
      "source": [
        "train_df_raw.head(3)"
      ],
      "metadata": {
        "colab": {
          "base_uri": "https://localhost:8080/",
          "height": 173
        },
        "id": "cW4snQnzONIU",
        "outputId": "b723142e-4110-4892-98cf-8fb1b8e4ffb3"
      },
      "execution_count": 30,
      "outputs": [
        {
          "output_type": "execute_result",
          "data": {
            "text/plain": [
              "             timestamp  P1_B2004  P1_B2016   P1_B3004    P1_B3005  P1_B4002  \\\n",
              "0  2021-07-11 10:00:00   0.08771   0.88504  476.76703  1014.79321  26.92264   \n",
              "1  2021-07-11 10:00:01   0.08771   0.88619  476.76703  1014.79321  26.92264   \n",
              "2  2021-07-11 10:00:02   0.08771   0.88836  476.76703  1014.79321  26.92264   \n",
              "\n",
              "   P1_B4005   P1_B400B  P1_B4022  P1_FCV01D  ...  P4_HT_PS      P4_LD  \\\n",
              "0  15.07713  595.06104  30.08042   15.50464  ...   7.08818  276.40338   \n",
              "1  14.97197  531.50317  30.08423   16.20023  ...   7.08818  276.18634   \n",
              "2  14.90129  451.06253  30.09148   16.53352  ...   7.08818  279.85754   \n",
              "\n",
              "   P4_ST_FD  P4_ST_GOV   P4_ST_LD   P4_ST_PO  P4_ST_PS  P4_ST_PT01  \\\n",
              "0  -0.00087      14742  276.45758  267.90363   8.90254        9914   \n",
              "1   0.00058      14781  278.91705  268.95258   8.90254        9914   \n",
              "2  -0.00072      14831  278.89899  269.76636   8.90254        9914   \n",
              "\n",
              "   P4_ST_TT01  Attack  \n",
              "0       27170       0  \n",
              "1       27171       0  \n",
              "2       27170       0  \n",
              "\n",
              "[3 rows x 88 columns]"
            ],
            "text/html": [
              "\n",
              "  <div id=\"df-251db31f-c3ca-4cc1-9911-2452354ef102\">\n",
              "    <div class=\"colab-df-container\">\n",
              "      <div>\n",
              "<style scoped>\n",
              "    .dataframe tbody tr th:only-of-type {\n",
              "        vertical-align: middle;\n",
              "    }\n",
              "\n",
              "    .dataframe tbody tr th {\n",
              "        vertical-align: top;\n",
              "    }\n",
              "\n",
              "    .dataframe thead th {\n",
              "        text-align: right;\n",
              "    }\n",
              "</style>\n",
              "<table border=\"1\" class=\"dataframe\">\n",
              "  <thead>\n",
              "    <tr style=\"text-align: right;\">\n",
              "      <th></th>\n",
              "      <th>timestamp</th>\n",
              "      <th>P1_B2004</th>\n",
              "      <th>P1_B2016</th>\n",
              "      <th>P1_B3004</th>\n",
              "      <th>P1_B3005</th>\n",
              "      <th>P1_B4002</th>\n",
              "      <th>P1_B4005</th>\n",
              "      <th>P1_B400B</th>\n",
              "      <th>P1_B4022</th>\n",
              "      <th>P1_FCV01D</th>\n",
              "      <th>...</th>\n",
              "      <th>P4_HT_PS</th>\n",
              "      <th>P4_LD</th>\n",
              "      <th>P4_ST_FD</th>\n",
              "      <th>P4_ST_GOV</th>\n",
              "      <th>P4_ST_LD</th>\n",
              "      <th>P4_ST_PO</th>\n",
              "      <th>P4_ST_PS</th>\n",
              "      <th>P4_ST_PT01</th>\n",
              "      <th>P4_ST_TT01</th>\n",
              "      <th>Attack</th>\n",
              "    </tr>\n",
              "  </thead>\n",
              "  <tbody>\n",
              "    <tr>\n",
              "      <th>0</th>\n",
              "      <td>2021-07-11 10:00:00</td>\n",
              "      <td>0.08771</td>\n",
              "      <td>0.88504</td>\n",
              "      <td>476.76703</td>\n",
              "      <td>1014.79321</td>\n",
              "      <td>26.92264</td>\n",
              "      <td>15.07713</td>\n",
              "      <td>595.06104</td>\n",
              "      <td>30.08042</td>\n",
              "      <td>15.50464</td>\n",
              "      <td>...</td>\n",
              "      <td>7.08818</td>\n",
              "      <td>276.40338</td>\n",
              "      <td>-0.00087</td>\n",
              "      <td>14742</td>\n",
              "      <td>276.45758</td>\n",
              "      <td>267.90363</td>\n",
              "      <td>8.90254</td>\n",
              "      <td>9914</td>\n",
              "      <td>27170</td>\n",
              "      <td>0</td>\n",
              "    </tr>\n",
              "    <tr>\n",
              "      <th>1</th>\n",
              "      <td>2021-07-11 10:00:01</td>\n",
              "      <td>0.08771</td>\n",
              "      <td>0.88619</td>\n",
              "      <td>476.76703</td>\n",
              "      <td>1014.79321</td>\n",
              "      <td>26.92264</td>\n",
              "      <td>14.97197</td>\n",
              "      <td>531.50317</td>\n",
              "      <td>30.08423</td>\n",
              "      <td>16.20023</td>\n",
              "      <td>...</td>\n",
              "      <td>7.08818</td>\n",
              "      <td>276.18634</td>\n",
              "      <td>0.00058</td>\n",
              "      <td>14781</td>\n",
              "      <td>278.91705</td>\n",
              "      <td>268.95258</td>\n",
              "      <td>8.90254</td>\n",
              "      <td>9914</td>\n",
              "      <td>27171</td>\n",
              "      <td>0</td>\n",
              "    </tr>\n",
              "    <tr>\n",
              "      <th>2</th>\n",
              "      <td>2021-07-11 10:00:02</td>\n",
              "      <td>0.08771</td>\n",
              "      <td>0.88836</td>\n",
              "      <td>476.76703</td>\n",
              "      <td>1014.79321</td>\n",
              "      <td>26.92264</td>\n",
              "      <td>14.90129</td>\n",
              "      <td>451.06253</td>\n",
              "      <td>30.09148</td>\n",
              "      <td>16.53352</td>\n",
              "      <td>...</td>\n",
              "      <td>7.08818</td>\n",
              "      <td>279.85754</td>\n",
              "      <td>-0.00072</td>\n",
              "      <td>14831</td>\n",
              "      <td>278.89899</td>\n",
              "      <td>269.76636</td>\n",
              "      <td>8.90254</td>\n",
              "      <td>9914</td>\n",
              "      <td>27170</td>\n",
              "      <td>0</td>\n",
              "    </tr>\n",
              "  </tbody>\n",
              "</table>\n",
              "<p>3 rows × 88 columns</p>\n",
              "</div>\n",
              "      <button class=\"colab-df-convert\" onclick=\"convertToInteractive('df-251db31f-c3ca-4cc1-9911-2452354ef102')\"\n",
              "              title=\"Convert this dataframe to an interactive table.\"\n",
              "              style=\"display:none;\">\n",
              "        \n",
              "  <svg xmlns=\"http://www.w3.org/2000/svg\" height=\"24px\"viewBox=\"0 0 24 24\"\n",
              "       width=\"24px\">\n",
              "    <path d=\"M0 0h24v24H0V0z\" fill=\"none\"/>\n",
              "    <path d=\"M18.56 5.44l.94 2.06.94-2.06 2.06-.94-2.06-.94-.94-2.06-.94 2.06-2.06.94zm-11 1L8.5 8.5l.94-2.06 2.06-.94-2.06-.94L8.5 2.5l-.94 2.06-2.06.94zm10 10l.94 2.06.94-2.06 2.06-.94-2.06-.94-.94-2.06-.94 2.06-2.06.94z\"/><path d=\"M17.41 7.96l-1.37-1.37c-.4-.4-.92-.59-1.43-.59-.52 0-1.04.2-1.43.59L10.3 9.45l-7.72 7.72c-.78.78-.78 2.05 0 2.83L4 21.41c.39.39.9.59 1.41.59.51 0 1.02-.2 1.41-.59l7.78-7.78 2.81-2.81c.8-.78.8-2.07 0-2.86zM5.41 20L4 18.59l7.72-7.72 1.47 1.35L5.41 20z\"/>\n",
              "  </svg>\n",
              "      </button>\n",
              "      \n",
              "  <style>\n",
              "    .colab-df-container {\n",
              "      display:flex;\n",
              "      flex-wrap:wrap;\n",
              "      gap: 12px;\n",
              "    }\n",
              "\n",
              "    .colab-df-convert {\n",
              "      background-color: #E8F0FE;\n",
              "      border: none;\n",
              "      border-radius: 50%;\n",
              "      cursor: pointer;\n",
              "      display: none;\n",
              "      fill: #1967D2;\n",
              "      height: 32px;\n",
              "      padding: 0 0 0 0;\n",
              "      width: 32px;\n",
              "    }\n",
              "\n",
              "    .colab-df-convert:hover {\n",
              "      background-color: #E2EBFA;\n",
              "      box-shadow: 0px 1px 2px rgba(60, 64, 67, 0.3), 0px 1px 3px 1px rgba(60, 64, 67, 0.15);\n",
              "      fill: #174EA6;\n",
              "    }\n",
              "\n",
              "    [theme=dark] .colab-df-convert {\n",
              "      background-color: #3B4455;\n",
              "      fill: #D2E3FC;\n",
              "    }\n",
              "\n",
              "    [theme=dark] .colab-df-convert:hover {\n",
              "      background-color: #434B5C;\n",
              "      box-shadow: 0px 1px 3px 1px rgba(0, 0, 0, 0.15);\n",
              "      filter: drop-shadow(0px 1px 2px rgba(0, 0, 0, 0.3));\n",
              "      fill: #FFFFFF;\n",
              "    }\n",
              "  </style>\n",
              "\n",
              "      <script>\n",
              "        const buttonEl =\n",
              "          document.querySelector('#df-251db31f-c3ca-4cc1-9911-2452354ef102 button.colab-df-convert');\n",
              "        buttonEl.style.display =\n",
              "          google.colab.kernel.accessAllowed ? 'block' : 'none';\n",
              "\n",
              "        async function convertToInteractive(key) {\n",
              "          const element = document.querySelector('#df-251db31f-c3ca-4cc1-9911-2452354ef102');\n",
              "          const dataTable =\n",
              "            await google.colab.kernel.invokeFunction('convertToInteractive',\n",
              "                                                     [key], {});\n",
              "          if (!dataTable) return;\n",
              "\n",
              "          const docLinkHtml = 'Like what you see? Visit the ' +\n",
              "            '<a target=\"_blank\" href=https://colab.research.google.com/notebooks/data_table.ipynb>data table notebook</a>'\n",
              "            + ' to learn more about interactive tables.';\n",
              "          element.innerHTML = '';\n",
              "          dataTable['output_type'] = 'display_data';\n",
              "          await google.colab.output.renderOutput(dataTable, element);\n",
              "          const docLink = document.createElement('div');\n",
              "          docLink.innerHTML = docLinkHtml;\n",
              "          element.appendChild(docLink);\n",
              "        }\n",
              "      </script>\n",
              "    </div>\n",
              "  </div>\n",
              "  "
            ]
          },
          "metadata": {},
          "execution_count": 30
        }
      ]
    },
    {
      "cell_type": "code",
      "source": [
        "# downloading each test csv (differnt csv b/c taken in different time periods) NOTE: train and test data have been pre-split in this public dataset\n",
        "\n",
        "test1_raw = dataframe_from_csv(\"/content/hai-22.04/test1.csv\") \n",
        "test2_raw = dataframe_from_csv(\"/content/hai-22.04/test2.csv\") \n",
        "test3_raw = dataframe_from_csv(\"/content/hai-22.04/test3.csv\") \n",
        "test4_raw = dataframe_from_csv(\"/content/hai-22.04/test4.csv\") "
      ],
      "metadata": {
        "id": "zHIZ35iaHDvI"
      },
      "execution_count": 31,
      "outputs": []
    },
    {
      "cell_type": "code",
      "source": [
        "# concatenating all test data\n",
        "\n",
        "test = [test1_raw, test2_raw, test3_raw, test4_raw]\n",
        "test_df_raw = dataframe_from_csvs(test)\n",
        "test_df_raw.shape"
      ],
      "metadata": {
        "colab": {
          "base_uri": "https://localhost:8080/"
        },
        "id": "Hsn98PCnMgQF",
        "outputId": "20e83bd9-aaa5-4fe8-b5d8-61efa608948c"
      },
      "execution_count": 32,
      "outputs": [
        {
          "output_type": "execute_result",
          "data": {
            "text/plain": [
              "(361200, 88)"
            ]
          },
          "metadata": {},
          "execution_count": 32
        }
      ]
    },
    {
      "cell_type": "code",
      "source": [
        "test_df_raw.dtypes"
      ],
      "metadata": {
        "colab": {
          "base_uri": "https://localhost:8080/"
        },
        "id": "yXFr5snUIJNd",
        "outputId": "fd66f9cd-cdac-4f6d-ffbb-5b7c13cb50a9"
      },
      "execution_count": 33,
      "outputs": [
        {
          "output_type": "execute_result",
          "data": {
            "text/plain": [
              "timestamp      object\n",
              "P1_B2004      float64\n",
              "P1_B2016      float64\n",
              "P1_B3004      float64\n",
              "P1_B3005      float64\n",
              "               ...   \n",
              "P4_ST_PO      float64\n",
              "P4_ST_PS      float64\n",
              "P4_ST_PT01      int64\n",
              "P4_ST_TT01      int64\n",
              "Attack          int64\n",
              "Length: 88, dtype: object"
            ]
          },
          "metadata": {},
          "execution_count": 33
        }
      ]
    },
    {
      "cell_type": "code",
      "source": [
        "test_df_raw.head(3)"
      ],
      "metadata": {
        "id": "2ELEg6a0BPW6",
        "outputId": "d48e5c0a-1f16-4888-9207-0e19c5202a7f",
        "colab": {
          "base_uri": "https://localhost:8080/",
          "height": 173
        }
      },
      "execution_count": 34,
      "outputs": [
        {
          "output_type": "execute_result",
          "data": {
            "text/plain": [
              "             timestamp  P1_B2004  P1_B2016    P1_B3004     P1_B3005  \\\n",
              "0  2021-07-10 00:00:01  0.059445   1.04366  431.328095  1034.712769   \n",
              "1  2021-07-10 00:00:02  0.059445   1.04217  431.328095  1034.712769   \n",
              "2  2021-07-10 00:00:03  0.059445   1.03920  431.328095  1034.712769   \n",
              "\n",
              "    P1_B4002  P1_B4005   P1_B400B  P1_B4022  P1_FCV01D  ...  P4_HT_PS  \\\n",
              "0  27.736847   14.9131  386.51172  31.52100   15.09755  ...  0.716042   \n",
              "1  27.736847   14.9554  411.33905  31.51756   14.71477  ...  0.716042   \n",
              "2  27.736847   14.9920  438.15259  31.50269   14.30731  ...  0.716042   \n",
              "\n",
              "       P4_LD  P4_ST_FD  P4_ST_GOV   P4_ST_LD   P4_ST_PO   P4_ST_PS  \\\n",
              "0  356.64423   0.00058      18131  292.86029  334.58112  20.989594   \n",
              "1  352.08698  -0.00282      18111  295.82605  332.97162  20.989594   \n",
              "2  347.63818  -0.00398      18100  300.02173  332.15784  20.989594   \n",
              "\n",
              "   P4_ST_PT01  P4_ST_TT01  Attack  \n",
              "0       10000       27181       0  \n",
              "1        9999       27174       0  \n",
              "2        9999       27172       0  \n",
              "\n",
              "[3 rows x 88 columns]"
            ],
            "text/html": [
              "\n",
              "  <div id=\"df-8ed0e106-e0d4-42aa-ba4a-1dd5f31bb417\">\n",
              "    <div class=\"colab-df-container\">\n",
              "      <div>\n",
              "<style scoped>\n",
              "    .dataframe tbody tr th:only-of-type {\n",
              "        vertical-align: middle;\n",
              "    }\n",
              "\n",
              "    .dataframe tbody tr th {\n",
              "        vertical-align: top;\n",
              "    }\n",
              "\n",
              "    .dataframe thead th {\n",
              "        text-align: right;\n",
              "    }\n",
              "</style>\n",
              "<table border=\"1\" class=\"dataframe\">\n",
              "  <thead>\n",
              "    <tr style=\"text-align: right;\">\n",
              "      <th></th>\n",
              "      <th>timestamp</th>\n",
              "      <th>P1_B2004</th>\n",
              "      <th>P1_B2016</th>\n",
              "      <th>P1_B3004</th>\n",
              "      <th>P1_B3005</th>\n",
              "      <th>P1_B4002</th>\n",
              "      <th>P1_B4005</th>\n",
              "      <th>P1_B400B</th>\n",
              "      <th>P1_B4022</th>\n",
              "      <th>P1_FCV01D</th>\n",
              "      <th>...</th>\n",
              "      <th>P4_HT_PS</th>\n",
              "      <th>P4_LD</th>\n",
              "      <th>P4_ST_FD</th>\n",
              "      <th>P4_ST_GOV</th>\n",
              "      <th>P4_ST_LD</th>\n",
              "      <th>P4_ST_PO</th>\n",
              "      <th>P4_ST_PS</th>\n",
              "      <th>P4_ST_PT01</th>\n",
              "      <th>P4_ST_TT01</th>\n",
              "      <th>Attack</th>\n",
              "    </tr>\n",
              "  </thead>\n",
              "  <tbody>\n",
              "    <tr>\n",
              "      <th>0</th>\n",
              "      <td>2021-07-10 00:00:01</td>\n",
              "      <td>0.059445</td>\n",
              "      <td>1.04366</td>\n",
              "      <td>431.328095</td>\n",
              "      <td>1034.712769</td>\n",
              "      <td>27.736847</td>\n",
              "      <td>14.9131</td>\n",
              "      <td>386.51172</td>\n",
              "      <td>31.52100</td>\n",
              "      <td>15.09755</td>\n",
              "      <td>...</td>\n",
              "      <td>0.716042</td>\n",
              "      <td>356.64423</td>\n",
              "      <td>0.00058</td>\n",
              "      <td>18131</td>\n",
              "      <td>292.86029</td>\n",
              "      <td>334.58112</td>\n",
              "      <td>20.989594</td>\n",
              "      <td>10000</td>\n",
              "      <td>27181</td>\n",
              "      <td>0</td>\n",
              "    </tr>\n",
              "    <tr>\n",
              "      <th>1</th>\n",
              "      <td>2021-07-10 00:00:02</td>\n",
              "      <td>0.059445</td>\n",
              "      <td>1.04217</td>\n",
              "      <td>431.328095</td>\n",
              "      <td>1034.712769</td>\n",
              "      <td>27.736847</td>\n",
              "      <td>14.9554</td>\n",
              "      <td>411.33905</td>\n",
              "      <td>31.51756</td>\n",
              "      <td>14.71477</td>\n",
              "      <td>...</td>\n",
              "      <td>0.716042</td>\n",
              "      <td>352.08698</td>\n",
              "      <td>-0.00282</td>\n",
              "      <td>18111</td>\n",
              "      <td>295.82605</td>\n",
              "      <td>332.97162</td>\n",
              "      <td>20.989594</td>\n",
              "      <td>9999</td>\n",
              "      <td>27174</td>\n",
              "      <td>0</td>\n",
              "    </tr>\n",
              "    <tr>\n",
              "      <th>2</th>\n",
              "      <td>2021-07-10 00:00:03</td>\n",
              "      <td>0.059445</td>\n",
              "      <td>1.03920</td>\n",
              "      <td>431.328095</td>\n",
              "      <td>1034.712769</td>\n",
              "      <td>27.736847</td>\n",
              "      <td>14.9920</td>\n",
              "      <td>438.15259</td>\n",
              "      <td>31.50269</td>\n",
              "      <td>14.30731</td>\n",
              "      <td>...</td>\n",
              "      <td>0.716042</td>\n",
              "      <td>347.63818</td>\n",
              "      <td>-0.00398</td>\n",
              "      <td>18100</td>\n",
              "      <td>300.02173</td>\n",
              "      <td>332.15784</td>\n",
              "      <td>20.989594</td>\n",
              "      <td>9999</td>\n",
              "      <td>27172</td>\n",
              "      <td>0</td>\n",
              "    </tr>\n",
              "  </tbody>\n",
              "</table>\n",
              "<p>3 rows × 88 columns</p>\n",
              "</div>\n",
              "      <button class=\"colab-df-convert\" onclick=\"convertToInteractive('df-8ed0e106-e0d4-42aa-ba4a-1dd5f31bb417')\"\n",
              "              title=\"Convert this dataframe to an interactive table.\"\n",
              "              style=\"display:none;\">\n",
              "        \n",
              "  <svg xmlns=\"http://www.w3.org/2000/svg\" height=\"24px\"viewBox=\"0 0 24 24\"\n",
              "       width=\"24px\">\n",
              "    <path d=\"M0 0h24v24H0V0z\" fill=\"none\"/>\n",
              "    <path d=\"M18.56 5.44l.94 2.06.94-2.06 2.06-.94-2.06-.94-.94-2.06-.94 2.06-2.06.94zm-11 1L8.5 8.5l.94-2.06 2.06-.94-2.06-.94L8.5 2.5l-.94 2.06-2.06.94zm10 10l.94 2.06.94-2.06 2.06-.94-2.06-.94-.94-2.06-.94 2.06-2.06.94z\"/><path d=\"M17.41 7.96l-1.37-1.37c-.4-.4-.92-.59-1.43-.59-.52 0-1.04.2-1.43.59L10.3 9.45l-7.72 7.72c-.78.78-.78 2.05 0 2.83L4 21.41c.39.39.9.59 1.41.59.51 0 1.02-.2 1.41-.59l7.78-7.78 2.81-2.81c.8-.78.8-2.07 0-2.86zM5.41 20L4 18.59l7.72-7.72 1.47 1.35L5.41 20z\"/>\n",
              "  </svg>\n",
              "      </button>\n",
              "      \n",
              "  <style>\n",
              "    .colab-df-container {\n",
              "      display:flex;\n",
              "      flex-wrap:wrap;\n",
              "      gap: 12px;\n",
              "    }\n",
              "\n",
              "    .colab-df-convert {\n",
              "      background-color: #E8F0FE;\n",
              "      border: none;\n",
              "      border-radius: 50%;\n",
              "      cursor: pointer;\n",
              "      display: none;\n",
              "      fill: #1967D2;\n",
              "      height: 32px;\n",
              "      padding: 0 0 0 0;\n",
              "      width: 32px;\n",
              "    }\n",
              "\n",
              "    .colab-df-convert:hover {\n",
              "      background-color: #E2EBFA;\n",
              "      box-shadow: 0px 1px 2px rgba(60, 64, 67, 0.3), 0px 1px 3px 1px rgba(60, 64, 67, 0.15);\n",
              "      fill: #174EA6;\n",
              "    }\n",
              "\n",
              "    [theme=dark] .colab-df-convert {\n",
              "      background-color: #3B4455;\n",
              "      fill: #D2E3FC;\n",
              "    }\n",
              "\n",
              "    [theme=dark] .colab-df-convert:hover {\n",
              "      background-color: #434B5C;\n",
              "      box-shadow: 0px 1px 3px 1px rgba(0, 0, 0, 0.15);\n",
              "      filter: drop-shadow(0px 1px 2px rgba(0, 0, 0, 0.3));\n",
              "      fill: #FFFFFF;\n",
              "    }\n",
              "  </style>\n",
              "\n",
              "      <script>\n",
              "        const buttonEl =\n",
              "          document.querySelector('#df-8ed0e106-e0d4-42aa-ba4a-1dd5f31bb417 button.colab-df-convert');\n",
              "        buttonEl.style.display =\n",
              "          google.colab.kernel.accessAllowed ? 'block' : 'none';\n",
              "\n",
              "        async function convertToInteractive(key) {\n",
              "          const element = document.querySelector('#df-8ed0e106-e0d4-42aa-ba4a-1dd5f31bb417');\n",
              "          const dataTable =\n",
              "            await google.colab.kernel.invokeFunction('convertToInteractive',\n",
              "                                                     [key], {});\n",
              "          if (!dataTable) return;\n",
              "\n",
              "          const docLinkHtml = 'Like what you see? Visit the ' +\n",
              "            '<a target=\"_blank\" href=https://colab.research.google.com/notebooks/data_table.ipynb>data table notebook</a>'\n",
              "            + ' to learn more about interactive tables.';\n",
              "          element.innerHTML = '';\n",
              "          dataTable['output_type'] = 'display_data';\n",
              "          await google.colab.output.renderOutput(dataTable, element);\n",
              "          const docLink = document.createElement('div');\n",
              "          docLink.innerHTML = docLinkHtml;\n",
              "          element.appendChild(docLink);\n",
              "        }\n",
              "      </script>\n",
              "    </div>\n",
              "  </div>\n",
              "  "
            ]
          },
          "metadata": {},
          "execution_count": 34
        }
      ]
    },
    {
      "cell_type": "code",
      "source": [
        "# dropping timestamp as results are not dependent on time series\n",
        "train_raw = train_df_raw.drop(['timestamp'], axis=1)\n",
        "test_raw = test_df_raw.drop(['timestamp'], axis=1)\n",
        "\n",
        "# now 86 parameters and one attack classification column"
      ],
      "metadata": {
        "id": "pME0GUnLBRIG"
      },
      "execution_count": 35,
      "outputs": []
    },
    {
      "cell_type": "markdown",
      "source": [
        "## DO I GET RID OF ATTACK COLUMN BEFORE NORMALIZING???"
      ],
      "metadata": {
        "id": "lKfYaR3JS9M_"
      }
    },
    {
      "cell_type": "markdown",
      "source": [
        "# Normalize data\n",
        "\n",
        "- use min max values so they fall within 0-1\n",
        "- using the exponential weighted function after normalization to smooth noise generated by sensors"
      ],
      "metadata": {
        "id": "TRxInUriBquw"
      }
    },
    {
      "cell_type": "code",
      "source": [
        "def normalize(df):\n",
        "  min = df.min()\n",
        "  max = df.max()\n",
        "  new_df = df.copy()\n",
        "  for col in df.columns:\n",
        "      if min[col] == max[col]:\n",
        "          new_df[col] = df[col] - min[col]\n",
        "      else:\n",
        "          new_df[col] = (df[col] - min[col]) / (max[col] - min[col])\n",
        "  return new_df\n",
        "\n",
        "  # using this method to keep as pandas df for now"
      ],
      "metadata": {
        "id": "-SzquC8YBkvM"
      },
      "execution_count": 39,
      "outputs": []
    },
    {
      "cell_type": "code",
      "source": [
        "train_df = normalize(train_raw).ewm(alpha=0.9).mean() # normalize and smooth noise\n",
        "train_df"
      ],
      "metadata": {
        "id": "ADjz9RDWO2gt",
        "outputId": "085fcdd6-5ec4-46ea-db6c-6d283337bae6",
        "colab": {
          "base_uri": "https://localhost:8080/",
          "height": 424
        }
      },
      "execution_count": 40,
      "outputs": [
        {
          "output_type": "execute_result",
          "data": {
            "text/plain": [
              "        P1_B2004  P1_B2016  P1_B3004  P1_B3005  P1_B4002  P1_B4005  P1_B400B  \\\n",
              "0        0.22613  0.132221  0.798452  0.538147  0.209725  0.150771  0.183693   \n",
              "1        0.22613  0.133443  0.798452  0.538147  0.209725  0.149815  0.165517   \n",
              "2        0.22613  0.135839  0.798452  0.538147  0.209725  0.149092  0.141083   \n",
              "3        0.22613  0.140053  0.798452  0.538147  0.209725  0.148311  0.125447   \n",
              "4        0.22613  0.140232  0.798452  0.538147  0.209725  0.147409  0.117700   \n",
              "...          ...       ...       ...       ...       ...       ...       ...   \n",
              "259195   0.57358  0.368856  0.632541  0.414192  0.748145  1.000000  0.996289   \n",
              "259196   0.57358  0.362542  0.632541  0.414192  0.748145  1.000000  0.995484   \n",
              "259197   0.57358  0.359870  0.632541  0.414192  0.748145  1.000000  0.995510   \n",
              "259198   0.57358  0.358277  0.632541  0.414192  0.748145  1.000000  0.995761   \n",
              "259199   0.57358  0.355824  0.632541  0.414192  0.748145  1.000000  0.994546   \n",
              "\n",
              "        P1_B4022  P1_FCV01D  P1_FCV01Z  ...  P4_HT_PS     P4_LD  P4_ST_FD  \\\n",
              "0       0.194185   0.155046   0.116706  ...  0.708818  0.169066  0.501686   \n",
              "1       0.194535   0.161370   0.121738  ...  0.708818  0.168332  0.517560   \n",
              "2       0.195226   0.164942   0.139408  ...  0.708818  0.180570  0.504886   \n",
              "3       0.196440   0.163216   0.154058  ...  0.708818  0.187292  0.522383   \n",
              "4       0.196492   0.158453   0.157091  ...  0.708818  0.187419  0.517845   \n",
              "...          ...        ...        ...  ...       ...       ...       ...   \n",
              "259195  0.696846   1.000000   0.994085  ...  1.000000  0.517805  0.515751   \n",
              "259196  0.695028   1.000000   0.994085  ...  1.000000  0.518674  0.509379   \n",
              "259197  0.694256   1.000000   0.994085  ...  1.000000  0.511131  0.528358   \n",
              "259198  0.693797   1.000000   0.993949  ...  1.000000  0.510014  0.520068   \n",
              "259199  0.693092   1.000000   0.994003  ...  1.000000  0.509115  0.511436   \n",
              "\n",
              "        P4_ST_GOV  P4_ST_LD  P4_ST_PO  P4_ST_PS  P4_ST_PT01  P4_ST_TT01  \\\n",
              "0        0.135313  0.172978  0.133292  0.178051    0.207547    0.449040   \n",
              "1        0.137850  0.181368  0.136943  0.178051    0.207547    0.450383   \n",
              "2        0.141302  0.182062  0.140079  0.178051    0.207547    0.449173   \n",
              "3        0.147183  0.187506  0.146871  0.178051    0.207547    0.450383   \n",
              "4        0.152922  0.198128  0.151538  0.178051    0.207547    0.450504   \n",
              "...           ...       ...       ...       ...         ...         ...   \n",
              "259195   0.318660  0.291538  0.326726  0.093523    0.410377    0.511453   \n",
              "259196   0.316453  0.290860  0.324073  0.093523    0.410377    0.496492   \n",
              "259197   0.312046  0.292563  0.320878  0.093523    0.410377    0.501643   \n",
              "259198   0.311541  0.282717  0.317817  0.093523    0.410377    0.507476   \n",
              "259199   0.307240  0.286802  0.314706  0.093523    0.410377    0.504071   \n",
              "\n",
              "        Attack  \n",
              "0          0.0  \n",
              "1          0.0  \n",
              "2          0.0  \n",
              "3          0.0  \n",
              "4          0.0  \n",
              "...        ...  \n",
              "259195     0.0  \n",
              "259196     0.0  \n",
              "259197     0.0  \n",
              "259198     0.0  \n",
              "259199     0.0  \n",
              "\n",
              "[1004402 rows x 87 columns]"
            ],
            "text/html": [
              "\n",
              "  <div id=\"df-fae9c808-77f2-4f52-b9cf-8d9e44cb4973\">\n",
              "    <div class=\"colab-df-container\">\n",
              "      <div>\n",
              "<style scoped>\n",
              "    .dataframe tbody tr th:only-of-type {\n",
              "        vertical-align: middle;\n",
              "    }\n",
              "\n",
              "    .dataframe tbody tr th {\n",
              "        vertical-align: top;\n",
              "    }\n",
              "\n",
              "    .dataframe thead th {\n",
              "        text-align: right;\n",
              "    }\n",
              "</style>\n",
              "<table border=\"1\" class=\"dataframe\">\n",
              "  <thead>\n",
              "    <tr style=\"text-align: right;\">\n",
              "      <th></th>\n",
              "      <th>P1_B2004</th>\n",
              "      <th>P1_B2016</th>\n",
              "      <th>P1_B3004</th>\n",
              "      <th>P1_B3005</th>\n",
              "      <th>P1_B4002</th>\n",
              "      <th>P1_B4005</th>\n",
              "      <th>P1_B400B</th>\n",
              "      <th>P1_B4022</th>\n",
              "      <th>P1_FCV01D</th>\n",
              "      <th>P1_FCV01Z</th>\n",
              "      <th>...</th>\n",
              "      <th>P4_HT_PS</th>\n",
              "      <th>P4_LD</th>\n",
              "      <th>P4_ST_FD</th>\n",
              "      <th>P4_ST_GOV</th>\n",
              "      <th>P4_ST_LD</th>\n",
              "      <th>P4_ST_PO</th>\n",
              "      <th>P4_ST_PS</th>\n",
              "      <th>P4_ST_PT01</th>\n",
              "      <th>P4_ST_TT01</th>\n",
              "      <th>Attack</th>\n",
              "    </tr>\n",
              "  </thead>\n",
              "  <tbody>\n",
              "    <tr>\n",
              "      <th>0</th>\n",
              "      <td>0.22613</td>\n",
              "      <td>0.132221</td>\n",
              "      <td>0.798452</td>\n",
              "      <td>0.538147</td>\n",
              "      <td>0.209725</td>\n",
              "      <td>0.150771</td>\n",
              "      <td>0.183693</td>\n",
              "      <td>0.194185</td>\n",
              "      <td>0.155046</td>\n",
              "      <td>0.116706</td>\n",
              "      <td>...</td>\n",
              "      <td>0.708818</td>\n",
              "      <td>0.169066</td>\n",
              "      <td>0.501686</td>\n",
              "      <td>0.135313</td>\n",
              "      <td>0.172978</td>\n",
              "      <td>0.133292</td>\n",
              "      <td>0.178051</td>\n",
              "      <td>0.207547</td>\n",
              "      <td>0.449040</td>\n",
              "      <td>0.0</td>\n",
              "    </tr>\n",
              "    <tr>\n",
              "      <th>1</th>\n",
              "      <td>0.22613</td>\n",
              "      <td>0.133443</td>\n",
              "      <td>0.798452</td>\n",
              "      <td>0.538147</td>\n",
              "      <td>0.209725</td>\n",
              "      <td>0.149815</td>\n",
              "      <td>0.165517</td>\n",
              "      <td>0.194535</td>\n",
              "      <td>0.161370</td>\n",
              "      <td>0.121738</td>\n",
              "      <td>...</td>\n",
              "      <td>0.708818</td>\n",
              "      <td>0.168332</td>\n",
              "      <td>0.517560</td>\n",
              "      <td>0.137850</td>\n",
              "      <td>0.181368</td>\n",
              "      <td>0.136943</td>\n",
              "      <td>0.178051</td>\n",
              "      <td>0.207547</td>\n",
              "      <td>0.450383</td>\n",
              "      <td>0.0</td>\n",
              "    </tr>\n",
              "    <tr>\n",
              "      <th>2</th>\n",
              "      <td>0.22613</td>\n",
              "      <td>0.135839</td>\n",
              "      <td>0.798452</td>\n",
              "      <td>0.538147</td>\n",
              "      <td>0.209725</td>\n",
              "      <td>0.149092</td>\n",
              "      <td>0.141083</td>\n",
              "      <td>0.195226</td>\n",
              "      <td>0.164942</td>\n",
              "      <td>0.139408</td>\n",
              "      <td>...</td>\n",
              "      <td>0.708818</td>\n",
              "      <td>0.180570</td>\n",
              "      <td>0.504886</td>\n",
              "      <td>0.141302</td>\n",
              "      <td>0.182062</td>\n",
              "      <td>0.140079</td>\n",
              "      <td>0.178051</td>\n",
              "      <td>0.207547</td>\n",
              "      <td>0.449173</td>\n",
              "      <td>0.0</td>\n",
              "    </tr>\n",
              "    <tr>\n",
              "      <th>3</th>\n",
              "      <td>0.22613</td>\n",
              "      <td>0.140053</td>\n",
              "      <td>0.798452</td>\n",
              "      <td>0.538147</td>\n",
              "      <td>0.209725</td>\n",
              "      <td>0.148311</td>\n",
              "      <td>0.125447</td>\n",
              "      <td>0.196440</td>\n",
              "      <td>0.163216</td>\n",
              "      <td>0.154058</td>\n",
              "      <td>...</td>\n",
              "      <td>0.708818</td>\n",
              "      <td>0.187292</td>\n",
              "      <td>0.522383</td>\n",
              "      <td>0.147183</td>\n",
              "      <td>0.187506</td>\n",
              "      <td>0.146871</td>\n",
              "      <td>0.178051</td>\n",
              "      <td>0.207547</td>\n",
              "      <td>0.450383</td>\n",
              "      <td>0.0</td>\n",
              "    </tr>\n",
              "    <tr>\n",
              "      <th>4</th>\n",
              "      <td>0.22613</td>\n",
              "      <td>0.140232</td>\n",
              "      <td>0.798452</td>\n",
              "      <td>0.538147</td>\n",
              "      <td>0.209725</td>\n",
              "      <td>0.147409</td>\n",
              "      <td>0.117700</td>\n",
              "      <td>0.196492</td>\n",
              "      <td>0.158453</td>\n",
              "      <td>0.157091</td>\n",
              "      <td>...</td>\n",
              "      <td>0.708818</td>\n",
              "      <td>0.187419</td>\n",
              "      <td>0.517845</td>\n",
              "      <td>0.152922</td>\n",
              "      <td>0.198128</td>\n",
              "      <td>0.151538</td>\n",
              "      <td>0.178051</td>\n",
              "      <td>0.207547</td>\n",
              "      <td>0.450504</td>\n",
              "      <td>0.0</td>\n",
              "    </tr>\n",
              "    <tr>\n",
              "      <th>...</th>\n",
              "      <td>...</td>\n",
              "      <td>...</td>\n",
              "      <td>...</td>\n",
              "      <td>...</td>\n",
              "      <td>...</td>\n",
              "      <td>...</td>\n",
              "      <td>...</td>\n",
              "      <td>...</td>\n",
              "      <td>...</td>\n",
              "      <td>...</td>\n",
              "      <td>...</td>\n",
              "      <td>...</td>\n",
              "      <td>...</td>\n",
              "      <td>...</td>\n",
              "      <td>...</td>\n",
              "      <td>...</td>\n",
              "      <td>...</td>\n",
              "      <td>...</td>\n",
              "      <td>...</td>\n",
              "      <td>...</td>\n",
              "      <td>...</td>\n",
              "    </tr>\n",
              "    <tr>\n",
              "      <th>259195</th>\n",
              "      <td>0.57358</td>\n",
              "      <td>0.368856</td>\n",
              "      <td>0.632541</td>\n",
              "      <td>0.414192</td>\n",
              "      <td>0.748145</td>\n",
              "      <td>1.000000</td>\n",
              "      <td>0.996289</td>\n",
              "      <td>0.696846</td>\n",
              "      <td>1.000000</td>\n",
              "      <td>0.994085</td>\n",
              "      <td>...</td>\n",
              "      <td>1.000000</td>\n",
              "      <td>0.517805</td>\n",
              "      <td>0.515751</td>\n",
              "      <td>0.318660</td>\n",
              "      <td>0.291538</td>\n",
              "      <td>0.326726</td>\n",
              "      <td>0.093523</td>\n",
              "      <td>0.410377</td>\n",
              "      <td>0.511453</td>\n",
              "      <td>0.0</td>\n",
              "    </tr>\n",
              "    <tr>\n",
              "      <th>259196</th>\n",
              "      <td>0.57358</td>\n",
              "      <td>0.362542</td>\n",
              "      <td>0.632541</td>\n",
              "      <td>0.414192</td>\n",
              "      <td>0.748145</td>\n",
              "      <td>1.000000</td>\n",
              "      <td>0.995484</td>\n",
              "      <td>0.695028</td>\n",
              "      <td>1.000000</td>\n",
              "      <td>0.994085</td>\n",
              "      <td>...</td>\n",
              "      <td>1.000000</td>\n",
              "      <td>0.518674</td>\n",
              "      <td>0.509379</td>\n",
              "      <td>0.316453</td>\n",
              "      <td>0.290860</td>\n",
              "      <td>0.324073</td>\n",
              "      <td>0.093523</td>\n",
              "      <td>0.410377</td>\n",
              "      <td>0.496492</td>\n",
              "      <td>0.0</td>\n",
              "    </tr>\n",
              "    <tr>\n",
              "      <th>259197</th>\n",
              "      <td>0.57358</td>\n",
              "      <td>0.359870</td>\n",
              "      <td>0.632541</td>\n",
              "      <td>0.414192</td>\n",
              "      <td>0.748145</td>\n",
              "      <td>1.000000</td>\n",
              "      <td>0.995510</td>\n",
              "      <td>0.694256</td>\n",
              "      <td>1.000000</td>\n",
              "      <td>0.994085</td>\n",
              "      <td>...</td>\n",
              "      <td>1.000000</td>\n",
              "      <td>0.511131</td>\n",
              "      <td>0.528358</td>\n",
              "      <td>0.312046</td>\n",
              "      <td>0.292563</td>\n",
              "      <td>0.320878</td>\n",
              "      <td>0.093523</td>\n",
              "      <td>0.410377</td>\n",
              "      <td>0.501643</td>\n",
              "      <td>0.0</td>\n",
              "    </tr>\n",
              "    <tr>\n",
              "      <th>259198</th>\n",
              "      <td>0.57358</td>\n",
              "      <td>0.358277</td>\n",
              "      <td>0.632541</td>\n",
              "      <td>0.414192</td>\n",
              "      <td>0.748145</td>\n",
              "      <td>1.000000</td>\n",
              "      <td>0.995761</td>\n",
              "      <td>0.693797</td>\n",
              "      <td>1.000000</td>\n",
              "      <td>0.993949</td>\n",
              "      <td>...</td>\n",
              "      <td>1.000000</td>\n",
              "      <td>0.510014</td>\n",
              "      <td>0.520068</td>\n",
              "      <td>0.311541</td>\n",
              "      <td>0.282717</td>\n",
              "      <td>0.317817</td>\n",
              "      <td>0.093523</td>\n",
              "      <td>0.410377</td>\n",
              "      <td>0.507476</td>\n",
              "      <td>0.0</td>\n",
              "    </tr>\n",
              "    <tr>\n",
              "      <th>259199</th>\n",
              "      <td>0.57358</td>\n",
              "      <td>0.355824</td>\n",
              "      <td>0.632541</td>\n",
              "      <td>0.414192</td>\n",
              "      <td>0.748145</td>\n",
              "      <td>1.000000</td>\n",
              "      <td>0.994546</td>\n",
              "      <td>0.693092</td>\n",
              "      <td>1.000000</td>\n",
              "      <td>0.994003</td>\n",
              "      <td>...</td>\n",
              "      <td>1.000000</td>\n",
              "      <td>0.509115</td>\n",
              "      <td>0.511436</td>\n",
              "      <td>0.307240</td>\n",
              "      <td>0.286802</td>\n",
              "      <td>0.314706</td>\n",
              "      <td>0.093523</td>\n",
              "      <td>0.410377</td>\n",
              "      <td>0.504071</td>\n",
              "      <td>0.0</td>\n",
              "    </tr>\n",
              "  </tbody>\n",
              "</table>\n",
              "<p>1004402 rows × 87 columns</p>\n",
              "</div>\n",
              "      <button class=\"colab-df-convert\" onclick=\"convertToInteractive('df-fae9c808-77f2-4f52-b9cf-8d9e44cb4973')\"\n",
              "              title=\"Convert this dataframe to an interactive table.\"\n",
              "              style=\"display:none;\">\n",
              "        \n",
              "  <svg xmlns=\"http://www.w3.org/2000/svg\" height=\"24px\"viewBox=\"0 0 24 24\"\n",
              "       width=\"24px\">\n",
              "    <path d=\"M0 0h24v24H0V0z\" fill=\"none\"/>\n",
              "    <path d=\"M18.56 5.44l.94 2.06.94-2.06 2.06-.94-2.06-.94-.94-2.06-.94 2.06-2.06.94zm-11 1L8.5 8.5l.94-2.06 2.06-.94-2.06-.94L8.5 2.5l-.94 2.06-2.06.94zm10 10l.94 2.06.94-2.06 2.06-.94-2.06-.94-.94-2.06-.94 2.06-2.06.94z\"/><path d=\"M17.41 7.96l-1.37-1.37c-.4-.4-.92-.59-1.43-.59-.52 0-1.04.2-1.43.59L10.3 9.45l-7.72 7.72c-.78.78-.78 2.05 0 2.83L4 21.41c.39.39.9.59 1.41.59.51 0 1.02-.2 1.41-.59l7.78-7.78 2.81-2.81c.8-.78.8-2.07 0-2.86zM5.41 20L4 18.59l7.72-7.72 1.47 1.35L5.41 20z\"/>\n",
              "  </svg>\n",
              "      </button>\n",
              "      \n",
              "  <style>\n",
              "    .colab-df-container {\n",
              "      display:flex;\n",
              "      flex-wrap:wrap;\n",
              "      gap: 12px;\n",
              "    }\n",
              "\n",
              "    .colab-df-convert {\n",
              "      background-color: #E8F0FE;\n",
              "      border: none;\n",
              "      border-radius: 50%;\n",
              "      cursor: pointer;\n",
              "      display: none;\n",
              "      fill: #1967D2;\n",
              "      height: 32px;\n",
              "      padding: 0 0 0 0;\n",
              "      width: 32px;\n",
              "    }\n",
              "\n",
              "    .colab-df-convert:hover {\n",
              "      background-color: #E2EBFA;\n",
              "      box-shadow: 0px 1px 2px rgba(60, 64, 67, 0.3), 0px 1px 3px 1px rgba(60, 64, 67, 0.15);\n",
              "      fill: #174EA6;\n",
              "    }\n",
              "\n",
              "    [theme=dark] .colab-df-convert {\n",
              "      background-color: #3B4455;\n",
              "      fill: #D2E3FC;\n",
              "    }\n",
              "\n",
              "    [theme=dark] .colab-df-convert:hover {\n",
              "      background-color: #434B5C;\n",
              "      box-shadow: 0px 1px 3px 1px rgba(0, 0, 0, 0.15);\n",
              "      filter: drop-shadow(0px 1px 2px rgba(0, 0, 0, 0.3));\n",
              "      fill: #FFFFFF;\n",
              "    }\n",
              "  </style>\n",
              "\n",
              "      <script>\n",
              "        const buttonEl =\n",
              "          document.querySelector('#df-fae9c808-77f2-4f52-b9cf-8d9e44cb4973 button.colab-df-convert');\n",
              "        buttonEl.style.display =\n",
              "          google.colab.kernel.accessAllowed ? 'block' : 'none';\n",
              "\n",
              "        async function convertToInteractive(key) {\n",
              "          const element = document.querySelector('#df-fae9c808-77f2-4f52-b9cf-8d9e44cb4973');\n",
              "          const dataTable =\n",
              "            await google.colab.kernel.invokeFunction('convertToInteractive',\n",
              "                                                     [key], {});\n",
              "          if (!dataTable) return;\n",
              "\n",
              "          const docLinkHtml = 'Like what you see? Visit the ' +\n",
              "            '<a target=\"_blank\" href=https://colab.research.google.com/notebooks/data_table.ipynb>data table notebook</a>'\n",
              "            + ' to learn more about interactive tables.';\n",
              "          element.innerHTML = '';\n",
              "          dataTable['output_type'] = 'display_data';\n",
              "          await google.colab.output.renderOutput(dataTable, element);\n",
              "          const docLink = document.createElement('div');\n",
              "          docLink.innerHTML = docLinkHtml;\n",
              "          element.appendChild(docLink);\n",
              "        }\n",
              "      </script>\n",
              "    </div>\n",
              "  </div>\n",
              "  "
            ]
          },
          "metadata": {},
          "execution_count": 40
        }
      ]
    },
    {
      "cell_type": "code",
      "source": [
        "def boundary_check(df):\n",
        "    x = np.array(df, dtype=np.float32)\n",
        "    return np.any(x > 1.0), np.any(x < 0), np.any(np.isnan(x))\n",
        "\n",
        "boundary_check(train_df) # making sure normalization within boundaries"
      ],
      "metadata": {
        "id": "BvbYnbcwRw-l",
        "outputId": "9e349ded-834a-4ec6-9d4f-44579f8824ff",
        "colab": {
          "base_uri": "https://localhost:8080/"
        }
      },
      "execution_count": 56,
      "outputs": [
        {
          "output_type": "execute_result",
          "data": {
            "text/plain": [
              "(False, False, False)"
            ]
          },
          "metadata": {},
          "execution_count": 56
        }
      ]
    },
    {
      "cell_type": "code",
      "source": [
        "# today todo:\n",
        "# get rid of attack column since unsupervised?\n",
        "# study model to use\n",
        "# find principal components? - feature extraction, need to see if this is done for this model\n",
        "# do X and y split for train and test data \n",
        "# validation"
      ],
      "metadata": {
        "id": "i_S7xpxQBSvd"
      },
      "execution_count": 36,
      "outputs": []
    },
    {
      "cell_type": "code",
      "source": [
        "# notes about dataset!!!\n",
        "# no na values\n",
        "# attack column will be used for labels/ classification\n",
        "# I have been looking at code from this competition website https://dacon.io/en/competitions/official/235757/codeshare?page=1&dtype=recent&ptype=pub&keyword=\n",
        "\n",
        "# next steps:\n",
        "# vector quantization- I think we should do OCSVM model and see results then add the VQ to compare how it improves\n",
        "# unblanced dataset - how to deal\n",
        "# model = one class vector machine - look at class notes \n",
        "#         - One-class SVM is an unsupervised algorithm that learns a decision function for novelty detection: classifying new data as similar or different to the training set."
      ],
      "metadata": {
        "id": "PrQDECQNIPHP"
      },
      "execution_count": 37,
      "outputs": []
    },
    {
      "cell_type": "markdown",
      "source": [
        "# Vector Quantization\n",
        "- class imbalance problem here due to many instances of no anomolies vs few instances of attacks (skewed dataset)\n",
        "- performance of ML will decline \n",
        "- instead of undersampling (eliminating instances) VQ compresses datasets by clustering them\n",
        "- VQ is a lossy data compression method based on principal block coding \n",
        "https://link.springer.com/content/pdf/10.1007/978-0-387-34747-9_9.pdf\n",
        "\n",
        "![algorithm for LVQ](https://d2mk45aasx86xg.cloudfront.net/Implementing_learning_vector_quantization_in_Python_a126c1c235.webp)"
      ],
      "metadata": {
        "id": "Pa3NB65jBt4C"
      }
    }
  ]
}